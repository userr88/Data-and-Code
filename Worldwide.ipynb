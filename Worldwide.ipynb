{
 "cells": [
  {
   "cell_type": "code",
   "execution_count": 1,
   "id": "2e564ffb-ab27-4e6a-b93c-d58145edfbcb",
   "metadata": {},
   "outputs": [],
   "source": [
    "import scipy.io\n",
    "import numpy as np\n",
    "import pandas as pd\n",
    "import plotly.express as px\n",
    "import plotly.graph_objects as go"
   ]
  },
  {
   "cell_type": "code",
   "execution_count": 2,
   "id": "3ed582f6-aaed-4511-86f0-cc3853697392",
   "metadata": {},
   "outputs": [],
   "source": [
    "mat_data_22 = scipy.io.loadmat(r'D:\\New folder\\Dissertation\\EXIOBASE 2022.mat')"
   ]
  },
  {
   "cell_type": "code",
   "execution_count": 3,
   "id": "4f6935fd-65e7-4883-bb9d-26914b31c14e",
   "metadata": {},
   "outputs": [],
   "source": [
    "Z2022 = mat_data_22['Z2022']"
   ]
  },
  {
   "cell_type": "code",
   "execution_count": 4,
   "id": "2719c185-18ba-4d47-9211-cfac97b4a354",
   "metadata": {},
   "outputs": [],
   "source": [
    "countries_df = pd.read_excel(r'D:\\New folder\\Dissertation\\49 countries  163 industries.xlsx', sheet_name='Countries', usecols=\"D\",skiprows=2, nrows=49)\n",
    "countries = countries_df.iloc[:, 0].tolist()  # Convert to plain list\n",
    "sectors_df = pd.read_excel(r'D:\\New folder\\Dissertation\\49 countries  163 industries.xlsx',sheet_name='Industries', header=None, usecols='C',skiprows=2,nrows=163 )\n",
    "sectors_df.columns = ['Sector']\n",
    "#print(sectors_df)"
   ]
  },
  {
   "cell_type": "code",
   "execution_count": 5,
   "id": "bb1051e9-a4f0-4d52-9653-2fa3de76874d",
   "metadata": {},
   "outputs": [
    {
     "data": {
      "text/plain": [
       "(7987, 49)"
      ]
     },
     "execution_count": 5,
     "metadata": {},
     "output_type": "execute_result"
    }
   ],
   "source": [
    "Y2022 = mat_data_22['Y2022']\n",
    "Y2022.shape"
   ]
  },
  {
   "cell_type": "code",
   "execution_count": 6,
   "id": "0143c02d-33c6-403c-9a3e-1dd2bcf81a87",
   "metadata": {},
   "outputs": [],
   "source": [
    "# === Load Total Output from the same .mat file ===\n",
    "\n",
    "X2022 = mat_data_22['O2022'].flatten()  # Flatten to ensure it's a 1D NumPy array"
   ]
  },
  {
   "cell_type": "code",
   "execution_count": 7,
   "id": "948a9d52-ca36-4ad6-85f5-e473ab26ed8e",
   "metadata": {},
   "outputs": [],
   "source": [
    "# === Load Value Added from the .mat file ===\n",
    "VA2022 = mat_data_22['VA2022'].flatten()  # Flatten to 1D just like O2022\n",
    "\n",
    "va_matrix = VA2022.reshape(49, 163)\n",
    "\n",
    "# Step 3: Sum across sectors (i.e., sum each row)\n",
    "country_va_totals = va_matrix.sum(axis=1)  # Shape: (49,)\n",
    "\n",
    "# Step 4: Create a DataFrame with country names and total VA\n",
    "df_va_by_country = pd.DataFrame({\n",
    "    'Country': countries,\n",
    "    'Total_VA_2022': country_va_totals\n",
    "})\n",
    "\n",
    "#print(df_va_by_country)"
   ]
  },
  {
   "cell_type": "code",
   "execution_count": 8,
   "id": "ff2a1c6e-405a-4a8c-abc1-2d5ca4eb24a6",
   "metadata": {},
   "outputs": [],
   "source": [
    "# === Load Carbon Emission from the .mat file ===\n",
    "C2022 = mat_data_22['C2022'].flatten()  # Flatten to 1D just like O2022\n"
   ]
  },
  {
   "cell_type": "code",
   "execution_count": 9,
   "id": "2eb30b76-2563-4c72-a200-d52c49c8796a",
   "metadata": {},
   "outputs": [],
   "source": [
    "#x_diag_22 = np.diag(X2022)\n",
    "#x_diag_safe_22 = np.where(x_diag_22 == 0, 1e-10, x_diag_22)\n",
    "\n",
    "# Step 3: Compute the inverse of the diagonal matrix element-wise (reciprocal of each diagonal element)\n",
    "#x_diag_inv_22 = np.diag(1 / x_diag_safe_22.diagonal())\n",
    "# Step 2: Multiply Z by the inverse of the diagonal matrix\n",
    "#A22 = Z2022 @ x_diag_inv_22\n",
    "\n",
    "#print(A22)"
   ]
  },
  {
   "cell_type": "code",
   "execution_count": 22,
   "id": "6aadc35f-5785-4550-b523-678c265404ab",
   "metadata": {},
   "outputs": [],
   "source": [
    "#identity_matrix = np.eye(A22.shape[0])"
   ]
  },
  {
   "cell_type": "code",
   "execution_count": 24,
   "id": "6ddd20a4-ca83-4fe7-9f18-040d4a048240",
   "metadata": {},
   "outputs": [],
   "source": [
    "#L22=identity_matrix-A22\n",
    "#L22_inv = np.linalg.inv(L22)"
   ]
  },
  {
   "cell_type": "code",
   "execution_count": 26,
   "id": "ab0fe514-2393-4477-a36c-79ce856ed71a",
   "metadata": {},
   "outputs": [],
   "source": [
    "# Define the new sector names and index ranges (0-based indexing)\n",
    "new_sectors = [\n",
    "    (\"Agriculture, Forestry and Fishing\", range(0, 19)),\n",
    "    (\"Mining and Quarrying\", list(range(19, 34)) + list(range(70, 85))),  # 0-based\n",
    "    (\"Manufacturing\", [i for i in range(34, 95) if i not in range(70, 85)]),\n",
    "    (\"Electricity and Gas\", range(95, 110)),\n",
    "    (\"Water supply, Sewerage, Waste Management and Remediation Activities\", range(110, 112)),\n",
    "    (\"Construction\", range(112, 114)),\n",
    "    (\"Wholesale and Retail Trade incl. Vehicle Repair\", range(114, 119)),\n",
    "    (\"Transportation and Storage\", range(119, 125)),\n",
    "    (\"Accommodation and Food Service Activities\", [125]),\n",
    "    (\"Information and Communication\", [126]),\n",
    "    (\"Financial and Insurance Activities\", range(127, 130)),\n",
    "    (\"Real Estate Activities\", [130]),\n",
    "    (\"Business Activities\", range(131, 135)),\n",
    "    (\"Public Administration and Defence; Compulsory Social Security\", [135]),\n",
    "    (\"Education\", [136]),\n",
    "    (\"Human Health and Social Work Activities\", [137]),\n",
    "    (\"Other Services Activities\", range(138, 163)),\n",
    "]\n",
    "\n",
    "# Aggregate into new DataFrame\n",
    "aggregated_va = []\n",
    "\n",
    "# Step 2: Loop over each new sector definition and sum corresponding columns\n",
    "for sector_name, col_indices in new_sectors:\n",
    "    # Ensure indices are a list (in case it's a range)\n",
    "    indices = list(col_indices)\n",
    "    \n",
    "    # Sum across the selected columns for all countries\n",
    "    sector_total = va_matrix[:, indices].sum(axis=1)  # Shape: (49,)\n",
    "    \n",
    "    # Add to results\n",
    "    aggregated_va.append(sector_total)\n",
    "\n",
    "# Step 3: Stack all sector totals column-wise (transpose to get 49 rows)\n",
    "aggregated_va_matrix = np.vstack(aggregated_va).T  # Shape: (49, len(new_sectors))\n",
    "\n",
    "# Step 4: Create DataFrame with country names and new sector totals\n",
    "sector_names = [s[0] for s in new_sectors]\n",
    "\n",
    "df_aggregated_va = pd.DataFrame(aggregated_va_matrix, columns=sector_names)\n",
    "df_aggregated_va.insert(0, 'Country', countries)  # Add country names as first column\n",
    "\n",
    "#print(df_aggregated_va)\n",
    "# Step 5: Export to Excel\n",
    "#df_aggregated_va.to_excel('aggregated_va_by_sector_and_country.xlsx', index=False)"
   ]
  },
  {
   "cell_type": "code",
   "execution_count": 28,
   "id": "00052e62-e231-47a0-9507-259322838c98",
   "metadata": {},
   "outputs": [],
   "source": [
    "#top_5_gdp = df_va_by_country.sort_values(by='Total_VA_2022', ascending=False).head(5)\n",
    "#print(top_5_gdp)"
   ]
  },
  {
   "cell_type": "markdown",
   "id": "f9ba4ca3-2d6b-4253-807a-33c8a5850219",
   "metadata": {},
   "source": [
    "## Reduced Z, X, and A Matrix"
   ]
  },
  {
   "cell_type": "code",
   "execution_count": 31,
   "id": "e62a0c62-aacc-4b79-8ae6-056be1d74e2f",
   "metadata": {},
   "outputs": [
    {
     "name": "stdout",
     "output_type": "stream",
     "text": [
      "(833, 1)\n",
      "Value at position 716: 5000.0\n"
     ]
    }
   ],
   "source": [
    "## STUDY CASE:\n",
    "country_index = countries.index(\"Indonesia\")  # e.g. 42\n",
    "sector_index = [sector[0] for sector in new_sectors].index(\"Mining and Quarrying\")  # e.g. 16\n",
    "\n",
    "# Calculate position in flattened vector\n",
    "pos = country_index * len(new_sectors) + sector_index\n",
    "\n",
    "# Create zero vector\n",
    "deltaf_array_T = np.zeros((len(countries) * len(new_sectors), 1))\n",
    "\n",
    "# Set only Indonesia Mining position to 5000\n",
    "deltaf_array_T[pos, 0] = 5000\n",
    "\n",
    "print(deltaf_array_T.shape)  # (833, 1)\n",
    "print(f\"Value at position {pos+1}: {deltaf_array_T[pos, 0]}\")"
   ]
  },
  {
   "cell_type": "code",
   "execution_count": 33,
   "id": "55696b3d-4b8f-453f-9a3f-b18b841e9351",
   "metadata": {},
   "outputs": [
    {
     "data": {
      "text/plain": [
       "(833, 833)"
      ]
     },
     "execution_count": 33,
     "metadata": {},
     "output_type": "execute_result"
    }
   ],
   "source": [
    "Z_matrix = np.array(Z2022)  # shape: 7987 x 7987\n",
    "M = np.zeros((163, len(new_sectors)))\n",
    "\n",
    "for j, (_, indices) in enumerate(new_sectors):\n",
    "    for i in indices:\n",
    "        M[i, j] = 1\n",
    "\n",
    "n_countries = 49\n",
    "agg_sector_count = len(new_sectors)\n",
    "reduced_size = n_countries * agg_sector_count\n",
    "\n",
    "Z_reduced = np.zeros((reduced_size, reduced_size))\n",
    "\n",
    "for i in range(n_countries):\n",
    "    for j in range(n_countries):\n",
    "        # Source block: country i to country j\n",
    "        row_start = i * 163\n",
    "        row_end = row_start + 163\n",
    "        col_start = j * 163\n",
    "        col_end = col_start + 163\n",
    "        \n",
    "        Z_block = Z_matrix[row_start:row_end, col_start:col_end]  # 163x163\n",
    "        \n",
    "        # Aggregate using M.T @ Z @ M\n",
    "        Z_block_reduced = M.T @ Z_block @ M  # 17x17\n",
    "        \n",
    "        # Destination block\n",
    "        r_start = i * agg_sector_count\n",
    "        r_end = r_start + agg_sector_count\n",
    "        c_start = j * agg_sector_count\n",
    "        c_end = c_start + agg_sector_count\n",
    "        \n",
    "        Z_reduced[r_start:r_end, c_start:c_end] = Z_block_reduced\n",
    "\n",
    "# Z_reduced is now 833 x 833\n",
    "Z_reduced.shape\n",
    "#df_Z_reduced = pd.DataFrame(Z_reduced)\n",
    "#df_Z_reduced.to_excel(\"Z_reduced.xlsx\", index=False, header=False)"
   ]
  },
  {
   "cell_type": "code",
   "execution_count": 34,
   "id": "0129296a-f01d-4a18-9e00-1781cd1687bb",
   "metadata": {},
   "outputs": [
    {
     "data": {
      "text/plain": [
       "(833, 1)"
      ]
     },
     "execution_count": 34,
     "metadata": {},
     "output_type": "execute_result"
    }
   ],
   "source": [
    "X_matrix = np.array(X2022)  # shape: 7987 x 7987\n",
    "n_countries = 49\n",
    "n_orig_sectors = 163\n",
    "n_new_sectors = len(new_sectors)\n",
    "\n",
    "# Reshape vector into (countries x sectors)\n",
    "X_matrix_2d = X2022.reshape(n_countries, n_orig_sectors)\n",
    "\n",
    "# Build aggregation matrix M: shape (163, 17)\n",
    "M = np.zeros((n_orig_sectors, n_new_sectors))\n",
    "for j, (_, indices) in enumerate(new_sectors):\n",
    "    for i in indices:\n",
    "        M[i, j] = 1\n",
    "\n",
    "# Aggregate sectors: multiply original sectors by M to get reduced sectors\n",
    "X_reduced_2d = X_matrix_2d @ M  # shape (49, 17)\n",
    "\n",
    "# Flatten to vector if needed (833 x 1)\n",
    "X_reduced = X_reduced_2d.flatten().reshape(-1, 1)\n",
    "X_reduced.shape\n",
    "#df_X_reduced = pd.DataFrame(X_reduced)\n",
    "#df_X_reduced.to_excel(\"X_reduced.xlsx\", index=False, header=False)"
   ]
  },
  {
   "cell_type": "code",
   "execution_count": 35,
   "id": "1d236375-8825-48bf-a585-908725e6b054",
   "metadata": {},
   "outputs": [
    {
     "name": "stdout",
     "output_type": "stream",
     "text": [
      "(833, 833)\n"
     ]
    },
    {
     "data": {
      "text/plain": [
       "(833, 833)"
      ]
     },
     "execution_count": 35,
     "metadata": {},
     "output_type": "execute_result"
    }
   ],
   "source": [
    "# Step 3: Diagonal matrix and inverse\n",
    "x_vector = X_reduced.flatten()  # shape (833,)\n",
    "# Create diagonal matrix\n",
    "x_diag_22_reduced = np.diag(x_vector)  # shape (833, 833)\n",
    "\n",
    "diag_elements = np.diag(x_diag_22_reduced)\n",
    "\n",
    "# Replace zeros with a small number to avoid division by zero\n",
    "diag_elements_safe = np.where(diag_elements == 0, 1e-10, diag_elements)\n",
    "\n",
    "# Compute the inverse diagonal elements\n",
    "inv_diag_elements = 1 / diag_elements_safe\n",
    "\n",
    "# Create the inverse diagonal matrix\n",
    "x_diag_inv_22_reduced = np.diag(inv_diag_elements)\n",
    "\n",
    "# Step 4: Compute A\n",
    "A22_reduced = Z_reduced @ x_diag_inv_22_reduced\n",
    "print(A22_reduced.shape)\n",
    "x_diag_inv_22_reduced.shape\n",
    "#df_A22_reduced = pd.DataFrame(A22_reduced)\n",
    "#df_A22_reduced.to_excel(\"A22_reduced.xlsx\", index=False, header=False)"
   ]
  },
  {
   "cell_type": "code",
   "execution_count": 36,
   "id": "295c408a-0862-41b9-8a67-1b4f28ddf366",
   "metadata": {},
   "outputs": [],
   "source": [
    "identity_matrix_reduced = np.eye(A22_reduced.shape[0])\n",
    "L22_reduced=identity_matrix_reduced-A22_reduced\n",
    "L22_inv_reduced = np.linalg.inv(L22_reduced)"
   ]
  },
  {
   "cell_type": "code",
   "execution_count": 39,
   "id": "bfdcf0d0-c8b7-4eed-a1df-67d1ae95a5ce",
   "metadata": {},
   "outputs": [],
   "source": [
    "#print(df_aggregated_va)"
   ]
  },
  {
   "cell_type": "code",
   "execution_count": 41,
   "id": "35bfc63c-f21a-497e-966c-1c40d38d77f7",
   "metadata": {},
   "outputs": [
    {
     "name": "stdout",
     "output_type": "stream",
     "text": [
      "(833, 1)\n"
     ]
    }
   ],
   "source": [
    "va_values = df_aggregated_va.drop(columns='Country')\n",
    "\n",
    "# Convert to numpy array (49 x 17)\n",
    "va_array = va_values.values\n",
    "\n",
    "# Flatten in row-major order (country1 all sectors, then country2 all sectors, etc.)\n",
    "va_vector = va_array.flatten().reshape(-1, 1)  # shape (833, 1)\n",
    "\n",
    "#print(va_vector)\n",
    "print(va_vector.shape)  # (833, 1)"
   ]
  },
  {
   "cell_type": "code",
   "execution_count": 44,
   "id": "02135802-2d97-4b94-8e11-9e359fae6614",
   "metadata": {},
   "outputs": [
    {
     "name": "stdout",
     "output_type": "stream",
     "text": [
      "(833, 833)\n"
     ]
    }
   ],
   "source": [
    "# Value Added\n",
    "int_va_22= va_vector.T @ x_diag_inv_22_reduced\n",
    "#print(int_va_22.shape)\n",
    "# Make sure intva is a 1D array\n",
    "int_va_22 = np.asarray(int_va_22).flatten()  # shape: (n,)\n",
    "# Broadcast across columns of L (multiply each column of L by corresponding intva value)\n",
    "va_L =   int_va_22[np.newaxis, :]*  L22_inv_reduced  # shape: (n, n)\n",
    "print(va_L.shape)\n",
    "delta_va=va_L@deltaf_array_T\n",
    "#print(delta_va)"
   ]
  },
  {
   "cell_type": "code",
   "execution_count": 46,
   "id": "9f9e9e31-6826-4472-8c9f-092c40e3bb00",
   "metadata": {},
   "outputs": [],
   "source": [
    "#df_int_va_22 = pd.DataFrame(int_va_22)\n",
    "#df_int_va_22.to_excel(\"int_va_22.xlsx\", index=False, header=False)\n",
    "#df_va_L_22 = pd.DataFrame(va_L)\n",
    "#df_va_L_22.to_excel(\"va_L.xlsx\", index=False, header=False)"
   ]
  },
  {
   "cell_type": "code",
   "execution_count": 49,
   "id": "09c9560d-2c9f-4088-9d91-d316a19792ad",
   "metadata": {},
   "outputs": [],
   "source": [
    "sectors = [s[0] for s in new_sectors]\n",
    "countries_sectors = [f\"{country} - {sector}\" for country in countries for sector in sectors]\n",
    "\n",
    "df_L = pd.DataFrame(L22_inv_reduced, index=countries_sectors, columns=countries_sectors)\n",
    "\n",
    "# Show just a sample\n",
    "#print(df_L)  # or use df_L.loc[\"Indonesia - Mining and Quarrying\"]"
   ]
  },
  {
   "cell_type": "code",
   "execution_count": 54,
   "id": "03f2db48-9129-45d9-9159-4512bde95500",
   "metadata": {},
   "outputs": [],
   "source": [
    "delta_va_2d = delta_va.reshape(len(countries), len(new_sectors))  # (49, 17)\n",
    "\n",
    "# Convert to DataFrame with proper labels\n",
    "df_delta_va = pd.DataFrame(\n",
    "    delta_va_2d,\n",
    "    index=countries,\n",
    "    columns=[sector[0] for sector in new_sectors]\n",
    ")\n",
    "\n",
    "\n",
    "df_dva_total = df_delta_va.sum(axis=1).reset_index()\n",
    "\n",
    "# Rename columns\n",
    "df_dva_total.columns = ['Country', 'Total_DVA']\n",
    "\n",
    "#print(df_dva_total)"
   ]
  },
  {
   "cell_type": "code",
   "execution_count": 58,
   "id": "eea4b03b-41fb-4596-a978-7f0798dc0c56",
   "metadata": {},
   "outputs": [],
   "source": [
    "df_dva_total.to_excel(\"total_dva_by_country.xlsx\", index=False)"
   ]
  },
  {
   "cell_type": "code",
   "execution_count": null,
   "id": "31fae89b-2351-4318-b045-5334ae3edb4a",
   "metadata": {},
   "outputs": [],
   "source": []
  },
  {
   "cell_type": "code",
   "execution_count": null,
   "id": "a88d6d5c-2773-495e-b912-9b37c26a5de0",
   "metadata": {},
   "outputs": [],
   "source": []
  },
  {
   "cell_type": "code",
   "execution_count": null,
   "id": "0130c5f6-ff7d-4cfb-a6fb-c67f726be837",
   "metadata": {},
   "outputs": [],
   "source": []
  },
  {
   "cell_type": "code",
   "execution_count": null,
   "id": "e181e935-fff7-4c29-9804-f67b2703b14d",
   "metadata": {},
   "outputs": [],
   "source": []
  }
 ],
 "metadata": {
  "kernelspec": {
   "display_name": "Python [conda env:base] *",
   "language": "python",
   "name": "conda-base-py"
  },
  "language_info": {
   "codemirror_mode": {
    "name": "ipython",
    "version": 3
   },
   "file_extension": ".py",
   "mimetype": "text/x-python",
   "name": "python",
   "nbconvert_exporter": "python",
   "pygments_lexer": "ipython3",
   "version": "3.12.7"
  }
 },
 "nbformat": 4,
 "nbformat_minor": 5
}
