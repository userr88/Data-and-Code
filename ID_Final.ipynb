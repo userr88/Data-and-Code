{
 "cells": [
  {
   "cell_type": "code",
   "execution_count": 1,
   "id": "2e564ffb-ab27-4e6a-b93c-d58145edfbcb",
   "metadata": {},
   "outputs": [],
   "source": [
    "import scipy.io\n",
    "import numpy as np\n",
    "import pandas as pd\n",
    "import plotly.express as px\n",
    "import plotly.graph_objects as go"
   ]
  },
  {
   "cell_type": "code",
   "execution_count": 2,
   "id": "3ed582f6-aaed-4511-86f0-cc3853697392",
   "metadata": {},
   "outputs": [],
   "source": [
    "mat_data_18 = scipy.io.loadmat(r'D:\\New folder\\Dissertation\\EXIOBASE 2018.mat')\n",
    "mat_data_19 = scipy.io.loadmat(r'D:\\New folder\\Dissertation\\EXIOBASE 2019.mat')\n",
    "mat_data_20 = scipy.io.loadmat(r'D:\\New folder\\Dissertation\\EXIOBASE 2020.mat')\n",
    "mat_data_21 = scipy.io.loadmat(r'D:\\New folder\\Dissertation\\EXIOBASE 2021.mat')\n",
    "mat_data_22 = scipy.io.loadmat(r'D:\\New folder\\Dissertation\\EXIOBASE 2022.mat')"
   ]
  },
  {
   "cell_type": "code",
   "execution_count": 3,
   "id": "4f6935fd-65e7-4883-bb9d-26914b31c14e",
   "metadata": {},
   "outputs": [],
   "source": [
    "Z2018 = mat_data_18['Z2018']\n",
    "Z2019 = mat_data_19['Z2019']\n",
    "Z2020 = mat_data_20['Z2020']\n",
    "Z2021 = mat_data_21['Z2021']\n",
    "Z2022 = mat_data_22['Z2022']\n",
    "#Z2022.shape"
   ]
  },
  {
   "cell_type": "code",
   "execution_count": 4,
   "id": "2719c185-18ba-4d47-9211-cfac97b4a354",
   "metadata": {},
   "outputs": [],
   "source": [
    "countries_df = pd.read_excel(r'D:\\New folder\\Dissertation\\49 countries  163 industries.xlsx', sheet_name='Countries', usecols=\"D\",skiprows=2, nrows=49)\n",
    "countries = countries_df.iloc[:, 0].tolist()  # Convert to plain list\n",
    "sectors_df = pd.read_excel(r'D:\\New folder\\Dissertation\\49 countries  163 industries.xlsx',sheet_name='Industries', header=None, usecols='C',skiprows=2,nrows=163 )\n",
    "sectors_df.columns = ['Sector']\n",
    "#print(sectors_df)"
   ]
  },
  {
   "cell_type": "code",
   "execution_count": 5,
   "id": "4b4e68f7-ad7f-4056-b103-296d00c80f33",
   "metadata": {},
   "outputs": [],
   "source": [
    "sectors_per_country = 163\n",
    "country_index_map = {\n",
    "    country.strip(): (i * sectors_per_country, (i + 1) * sectors_per_country)\n",
    "    for i, country in enumerate(countries)\n",
    "}\n",
    "\n",
    "# === Function to get 163x163 block for a given country ===\n",
    "def get_country_2018(country_name):\n",
    "    country_name = country_name.strip()\n",
    "    if country_name not in country_index_map:\n",
    "        raise ValueError(f\"{country_name} not found in the country list.\")\n",
    "    start, end = country_index_map[country_name]\n",
    "    return pd.DataFrame(Z2018[start:end, start:end])\n",
    "\n",
    "def get_country_2019(country_name):\n",
    "    country_name = country_name.strip()\n",
    "    if country_name not in country_index_map:\n",
    "        raise ValueError(f\"{country_name} not found in the country list.\")\n",
    "    start, end = country_index_map[country_name]\n",
    "    return pd.DataFrame(Z2019[start:end, start:end])\n",
    "\n",
    "def get_country_2020(country_name):\n",
    "    country_name = country_name.strip()\n",
    "    if country_name not in country_index_map:\n",
    "        raise ValueError(f\"{country_name} not found in the country list.\")\n",
    "    start, end = country_index_map[country_name]\n",
    "    return pd.DataFrame(Z2020[start:end, start:end])\n",
    "\n",
    "def get_country_2021(country_name):\n",
    "    country_name = country_name.strip()\n",
    "    if country_name not in country_index_map:\n",
    "        raise ValueError(f\"{country_name} not found in the country list.\")\n",
    "    start, end = country_index_map[country_name]\n",
    "    return pd.DataFrame(Z2021[start:end, start:end])\n",
    "\n",
    "def get_country_2022(country_name):\n",
    "    country_name = country_name.strip()\n",
    "    if country_name not in country_index_map:\n",
    "        raise ValueError(f\"{country_name} not found in the country list.\")\n",
    "    start, end = country_index_map[country_name]\n",
    "    return pd.DataFrame(Z2022[start:end, start:end])"
   ]
  },
  {
   "cell_type": "code",
   "execution_count": 6,
   "id": "382b1bf0-58d9-491a-98c6-e8ddb4808ca7",
   "metadata": {},
   "outputs": [
    {
     "data": {
      "text/plain": [
       "(163, 163)"
      ]
     },
     "execution_count": 6,
     "metadata": {},
     "output_type": "execute_result"
    }
   ],
   "source": [
    "Z2018_Indonesia = get_country_2018(\"Indonesia\")\n",
    "Z2019_Indonesia = get_country_2019(\"Indonesia\")\n",
    "Z2020_Indonesia = get_country_2020(\"Indonesia\")\n",
    "Z2021_Indonesia = get_country_2021(\"Indonesia\")\n",
    "Z2022_Indonesia = get_country_2022(\"Indonesia\")\n",
    "#print(Z2018_Indonesia)\n",
    "Z2022_Indonesia.shape"
   ]
  },
  {
   "cell_type": "code",
   "execution_count": 7,
   "id": "15a8fc8a-6e40-40a7-ac10-8cc034a880af",
   "metadata": {},
   "outputs": [],
   "source": [
    "# === Function to get all rows for a given country (i.e., extract the whole column for that country) ===\n",
    "def get_country_column_18(country_name):\n",
    "    country_name = country_name.strip()\n",
    "    \n",
    "    if country_name not in country_index_map:\n",
    "        raise ValueError(f\"{country_name} not found in the country list.\")\n",
    "    \n",
    "    # Get the row indices for the given country\n",
    "    start, end = country_index_map[country_name]\n",
    "    \n",
    "    # Extract the entire column corresponding to the given country\n",
    "    # We keep the row indices to match the sector indices (163 rows for each country)\n",
    "    country_column = Z2018[start:end, :]  # Extract all columns for the relevant rows\n",
    "    \n",
    "    # Convert the extracted column into a DataFrame for better readability\n",
    "    return pd.DataFrame(country_column)\n",
    "\n",
    "def get_country_column_19(country_name):\n",
    "    country_name = country_name.strip()\n",
    "    \n",
    "    if country_name not in country_index_map:\n",
    "        raise ValueError(f\"{country_name} not found in the country list.\")\n",
    "    \n",
    "    # Get the row indices for the given country\n",
    "    start, end = country_index_map[country_name]\n",
    "    \n",
    "    # Extract the entire column corresponding to the given country\n",
    "    # We keep the row indices to match the sector indices (163 rows for each country)\n",
    "    country_column = Z2019[start:end, :]  # Extract all columns for the relevant rows\n",
    "    \n",
    "    # Convert the extracted column into a DataFrame for better readability\n",
    "    return pd.DataFrame(country_column)\n",
    "\n",
    "def get_country_column_20(country_name):\n",
    "    country_name = country_name.strip()\n",
    "    \n",
    "    if country_name not in country_index_map:\n",
    "        raise ValueError(f\"{country_name} not found in the country list.\")\n",
    "    \n",
    "    # Get the row indices for the given country\n",
    "    start, end = country_index_map[country_name]\n",
    "    \n",
    "    # Extract the entire column corresponding to the given country\n",
    "    # We keep the row indices to match the sector indices (163 rows for each country)\n",
    "    country_column = Z2020[start:end, :]  # Extract all columns for the relevant rows\n",
    "    \n",
    "    # Convert the extracted column into a DataFrame for better readability\n",
    "    return pd.DataFrame(country_column)\n",
    "\n",
    "def get_country_column_21(country_name):\n",
    "    country_name = country_name.strip()\n",
    "    \n",
    "    if country_name not in country_index_map:\n",
    "        raise ValueError(f\"{country_name} not found in the country list.\")\n",
    "    \n",
    "    # Get the row indices for the given country\n",
    "    start, end = country_index_map[country_name]\n",
    "    \n",
    "    # Extract the entire column corresponding to the given country\n",
    "    # We keep the row indices to match the sector indices (163 rows for each country)\n",
    "    country_column = Z2021[start:end, :]  # Extract all columns for the relevant rows\n",
    "    \n",
    "    # Convert the extracted column into a DataFrame for better readability\n",
    "    return pd.DataFrame(country_column)\n",
    "\n",
    "def get_country_column_22(country_name):\n",
    "    country_name = country_name.strip()\n",
    "    \n",
    "    if country_name not in country_index_map:\n",
    "        raise ValueError(f\"{country_name} not found in the country list.\")\n",
    "    \n",
    "    # Get the row indices for the given country\n",
    "    start, end = country_index_map[country_name]\n",
    "    \n",
    "    # Extract the entire column corresponding to the given country\n",
    "    # We keep the row indices to match the sector indices (163 rows for each country)\n",
    "    country_column = Z2022[start:end, :]  # Extract all columns for the relevant rows\n",
    "    \n",
    "    # Convert the extracted column into a DataFrame for better readability\n",
    "    return pd.DataFrame(country_column)\n",
    "\n",
    "# Example: Get the column corresponding to Indonesia (with rows matching Indonesia)\n",
    "Z2018_Indonesia_column = get_country_column_18(\"Indonesia\")\n",
    "Z2019_Indonesia_column = get_country_column_19(\"Indonesia\")\n",
    "Z2020_Indonesia_column = get_country_column_20(\"Indonesia\")\n",
    "Z2021_Indonesia_column = get_country_column_21(\"Indonesia\")\n",
    "Z2022_Indonesia_column = get_country_column_22(\"Indonesia\")\n",
    "\n",
    "\n",
    "# Print the result to check\n",
    "#print(Z2022_Indonesia_column)"
   ]
  },
  {
   "cell_type": "code",
   "execution_count": 8,
   "id": "bb1051e9-a4f0-4d52-9653-2fa3de76874d",
   "metadata": {},
   "outputs": [
    {
     "data": {
      "text/plain": [
       "(7987, 49)"
      ]
     },
     "execution_count": 8,
     "metadata": {},
     "output_type": "execute_result"
    }
   ],
   "source": [
    "Y2018 = mat_data_18['Y2018']\n",
    "Y2019 = mat_data_19['Y2019']\n",
    "Y2020 = mat_data_20['Y2020']\n",
    "Y2021 = mat_data_21['Y2021']\n",
    "Y2022 = mat_data_22['Y2022']\n",
    "\n",
    "Y2022.shape"
   ]
  },
  {
   "cell_type": "code",
   "execution_count": 9,
   "id": "addb13bf-fcdd-40a5-af09-81ee1c3d9178",
   "metadata": {},
   "outputs": [],
   "source": [
    "country_index_map2 = {\n",
    "    country.strip(): i  # The column index corresponds to the country position in the list\n",
    "    for i, country in enumerate(countries)\n",
    "}\n",
    "\n",
    "# === Function to get 163 rows for a given country based on its position ===\n",
    "def get_country_final_18(country_name):\n",
    "    country_name = country_name.strip()\n",
    "    \n",
    "    # Check if the country is in the country_index_map\n",
    "    if country_name not in country_index_map2:\n",
    "        raise ValueError(f\"{country_name} not found in the country list.\")\n",
    "    \n",
    "    # Get the column index for the given country\n",
    "    country_column_index = country_index_map2[country_name]\n",
    "    \n",
    "    # Calculate the starting and ending rows for the country\n",
    "    start_row = country_column_index * 163\n",
    "    end_row = start_row + 163\n",
    "    \n",
    "    # Extract the rows for the given country's column, rows start from start_row and go to end_row\n",
    "    country_data = Y2018[start_row:end_row, country_column_index]\n",
    "    \n",
    "    # Return the column as a DataFrame\n",
    "    return pd.DataFrame(country_data)\n",
    "\n",
    "def get_country_final_19(country_name):\n",
    "    country_name = country_name.strip()\n",
    "    \n",
    "    # Check if the country is in the country_index_map\n",
    "    if country_name not in country_index_map2:\n",
    "        raise ValueError(f\"{country_name} not found in the country list.\")\n",
    "    \n",
    "    # Get the column index for the given country\n",
    "    country_column_index = country_index_map2[country_name]\n",
    "    \n",
    "    # Calculate the starting and ending rows for the country\n",
    "    start_row = country_column_index * 163\n",
    "    end_row = start_row + 163\n",
    "    \n",
    "    # Extract the rows for the given country's column, rows start from start_row and go to end_row\n",
    "    country_data = Y2019[start_row:end_row, country_column_index]\n",
    "    \n",
    "    # Return the column as a DataFrame\n",
    "    return pd.DataFrame(country_data)\n",
    "\n",
    "def get_country_final_20(country_name):\n",
    "    country_name = country_name.strip()\n",
    "    \n",
    "    # Check if the country is in the country_index_map\n",
    "    if country_name not in country_index_map2:\n",
    "        raise ValueError(f\"{country_name} not found in the country list.\")\n",
    "    \n",
    "    # Get the column index for the given country\n",
    "    country_column_index = country_index_map2[country_name]\n",
    "    \n",
    "    # Calculate the starting and ending rows for the country\n",
    "    start_row = country_column_index * 163\n",
    "    end_row = start_row + 163\n",
    "    \n",
    "    # Extract the rows for the given country's column, rows start from start_row and go to end_row\n",
    "    country_data = Y2020[start_row:end_row, country_column_index]\n",
    "    \n",
    "    # Return the column as a DataFrame\n",
    "    return pd.DataFrame(country_data)\n",
    "\n",
    "def get_country_final_21(country_name):\n",
    "    country_name = country_name.strip()\n",
    "    \n",
    "    # Check if the country is in the country_index_map\n",
    "    if country_name not in country_index_map2:\n",
    "        raise ValueError(f\"{country_name} not found in the country list.\")\n",
    "    \n",
    "    # Get the column index for the given country\n",
    "    country_column_index = country_index_map2[country_name]\n",
    "    \n",
    "    # Calculate the starting and ending rows for the country\n",
    "    start_row = country_column_index * 163\n",
    "    end_row = start_row + 163\n",
    "    \n",
    "    # Extract the rows for the given country's column, rows start from start_row and go to end_row\n",
    "    country_data = Y2021[start_row:end_row, country_column_index]\n",
    "    \n",
    "    # Return the column as a DataFrame\n",
    "    return pd.DataFrame(country_data)\n",
    "    \n",
    "def get_country_final_22(country_name):\n",
    "    country_name = country_name.strip()\n",
    "    \n",
    "    # Check if the country is in the country_index_map\n",
    "    if country_name not in country_index_map2:\n",
    "        raise ValueError(f\"{country_name} not found in the country list.\")\n",
    "    \n",
    "    # Get the column index for the given country\n",
    "    country_column_index = country_index_map2[country_name]\n",
    "    \n",
    "    # Calculate the starting and ending rows for the country\n",
    "    start_row = country_column_index * 163\n",
    "    end_row = start_row + 163\n",
    "    \n",
    "    # Extract the rows for the given country's column, rows start from start_row and go to end_row\n",
    "    country_data = Y2022[start_row:end_row, country_column_index]\n",
    "    \n",
    "    # Return the column as a DataFrame\n",
    "    return pd.DataFrame(country_data)"
   ]
  },
  {
   "cell_type": "code",
   "execution_count": 10,
   "id": "820909f9-ebe1-42d1-8008-80fde3131c04",
   "metadata": {},
   "outputs": [
    {
     "name": "stdout",
     "output_type": "stream",
     "text": [
      "                0\n",
      "0      826.251001\n",
      "1        0.000000\n",
      "2     8924.637727\n",
      "3    34513.068963\n",
      "4        0.000000\n",
      "..            ...\n",
      "158   2008.159361\n",
      "159  23357.179162\n",
      "160  11020.724160\n",
      "161   4439.063786\n",
      "162      0.000000\n",
      "\n",
      "[163 rows x 1 columns]\n"
     ]
    }
   ],
   "source": [
    "Y2018_Indonesia = get_country_final_18(\"Indonesia\")\n",
    "Y2019_Indonesia = get_country_final_19(\"Indonesia\")\n",
    "Y2020_Indonesia = get_country_final_20(\"Indonesia\")\n",
    "Y2021_Indonesia = get_country_final_21(\"Indonesia\")\n",
    "Y2022_Indonesia = get_country_final_22(\"Indonesia\")\n",
    "print(Y2021_Indonesia)"
   ]
  },
  {
   "cell_type": "code",
   "execution_count": 11,
   "id": "1fc7fdab-c84b-4b8f-a493-ea19ec69c2de",
   "metadata": {},
   "outputs": [],
   "source": [
    "def get_country_final_all_columns_18(country_name):\n",
    "    country_name = country_name.strip()\n",
    "    \n",
    "    if country_name not in country_index_map2:\n",
    "        raise ValueError(f\"{country_name} not found in the country list.\")\n",
    "    \n",
    "    country_column_index = country_index_map2[country_name]\n",
    "    \n",
    "    start_row = country_column_index * 163\n",
    "    end_row = start_row + 163\n",
    "\n",
    "    # Extract the block: 163 rows for the country, all 49 columns\n",
    "    country_data = Y2018[start_row:end_row, :]\n",
    "    \n",
    "    return pd.DataFrame(country_data)\n",
    "\n",
    "def get_country_final_all_columns_19(country_name):\n",
    "    country_name = country_name.strip()\n",
    "    \n",
    "    if country_name not in country_index_map2:\n",
    "        raise ValueError(f\"{country_name} not found in the country list.\")\n",
    "    \n",
    "    country_column_index = country_index_map2[country_name]\n",
    "    \n",
    "    start_row = country_column_index * 163\n",
    "    end_row = start_row + 163\n",
    "\n",
    "    # Extract the block: 163 rows for the country, all 49 columns\n",
    "    country_data = Y2019[start_row:end_row, :]\n",
    "    \n",
    "    return pd.DataFrame(country_data)\n",
    "\n",
    "def get_country_final_all_columns_20(country_name):\n",
    "    country_name = country_name.strip()\n",
    "    \n",
    "    if country_name not in country_index_map2:\n",
    "        raise ValueError(f\"{country_name} not found in the country list.\")\n",
    "    \n",
    "    country_column_index = country_index_map2[country_name]\n",
    "    \n",
    "    start_row = country_column_index * 163\n",
    "    end_row = start_row + 163\n",
    "\n",
    "    # Extract the block: 163 rows for the country, all 49 columns\n",
    "    country_data = Y2020[start_row:end_row, :]\n",
    "    \n",
    "    return pd.DataFrame(country_data)\n",
    "\n",
    "def get_country_final_all_columns_21(country_name):\n",
    "    country_name = country_name.strip()\n",
    "    \n",
    "    if country_name not in country_index_map2:\n",
    "        raise ValueError(f\"{country_name} not found in the country list.\")\n",
    "    \n",
    "    country_column_index = country_index_map2[country_name]\n",
    "    \n",
    "    start_row = country_column_index * 163\n",
    "    end_row = start_row + 163\n",
    "\n",
    "    # Extract the block: 163 rows for the country, all 49 columns\n",
    "    country_data = Y2021[start_row:end_row, :]\n",
    "    \n",
    "    return pd.DataFrame(country_data)\n",
    "\n",
    "def get_country_final_all_columns_22(country_name):\n",
    "    country_name = country_name.strip()\n",
    "    \n",
    "    if country_name not in country_index_map2:\n",
    "        raise ValueError(f\"{country_name} not found in the country list.\")\n",
    "    \n",
    "    country_column_index = country_index_map2[country_name]\n",
    "    \n",
    "    start_row = country_column_index * 163\n",
    "    end_row = start_row + 163\n",
    "\n",
    "    # Extract the block: 163 rows for the country, all 49 columns\n",
    "    country_data = Y2022[start_row:end_row, :]\n",
    "    \n",
    "    return pd.DataFrame(country_data)"
   ]
  },
  {
   "cell_type": "code",
   "execution_count": 12,
   "id": "0143c02d-33c6-403c-9a3e-1dd2bcf81a87",
   "metadata": {},
   "outputs": [],
   "source": [
    "# === Load Total Output from the same .mat file ===\n",
    "X2018 = mat_data_18['O2018'].flatten()\n",
    "X2019 = mat_data_19['O2019'].flatten()\n",
    "X2020 = mat_data_20['O2020'].flatten()\n",
    "X2021 = mat_data_21['O2021'].flatten()\n",
    "X2022 = mat_data_22['O2022'].flatten()  # Flatten to ensure it's a 1D NumPy array\n",
    "\n",
    "# === Function to get 163x1 vector for a specific country ===\n",
    "def get_country_vector_18(country_name):\n",
    "    country_name = country_name.strip()\n",
    "    if country_name not in country_index_map:\n",
    "        raise ValueError(f\"{country_name} not found in the country list.\")\n",
    "    start, end = country_index_map[country_name]\n",
    "    return pd.Series(X2018[start:end])\n",
    "\n",
    "def get_country_vector_19(country_name):\n",
    "    country_name = country_name.strip()\n",
    "    if country_name not in country_index_map:\n",
    "        raise ValueError(f\"{country_name} not found in the country list.\")\n",
    "    start, end = country_index_map[country_name]\n",
    "    return pd.Series(X2019[start:end])\n",
    "\n",
    "def get_country_vector_20(country_name):\n",
    "    country_name = country_name.strip()\n",
    "    if country_name not in country_index_map:\n",
    "        raise ValueError(f\"{country_name} not found in the country list.\")\n",
    "    start, end = country_index_map[country_name]\n",
    "    return pd.Series(X2020[start:end])\n",
    "\n",
    "def get_country_vector_21(country_name):\n",
    "    country_name = country_name.strip()\n",
    "    if country_name not in country_index_map:\n",
    "        raise ValueError(f\"{country_name} not found in the country list.\")\n",
    "    start, end = country_index_map[country_name]\n",
    "    return pd.Series(X2021[start:end])\n",
    "    \n",
    "def get_country_vector_22(country_name):\n",
    "    country_name = country_name.strip()\n",
    "    if country_name not in country_index_map:\n",
    "        raise ValueError(f\"{country_name} not found in the country list.\")\n",
    "    start, end = country_index_map[country_name]\n",
    "    return pd.Series(X2022[start:end])"
   ]
  },
  {
   "cell_type": "code",
   "execution_count": 13,
   "id": "1acf8458-8881-4a52-ac28-6b13fa1c98a5",
   "metadata": {},
   "outputs": [],
   "source": [
    "X2018_Indonesia = get_country_vector_18(\"Indonesia\")\n",
    "X2019_Indonesia = get_country_vector_19(\"Indonesia\")\n",
    "X2020_Indonesia = get_country_vector_20(\"Indonesia\")\n",
    "X2021_Indonesia = get_country_vector_21(\"Indonesia\")\n",
    "X2022_Indonesia = get_country_vector_22(\"Indonesia\")\n",
    "\n",
    "X2018_Indonesia_df = pd.DataFrame(X2018_Indonesia).reset_index(drop=True)\n",
    "X2019_Indonesia_df = pd.DataFrame(X2019_Indonesia).reset_index(drop=True)\n",
    "X2020_Indonesia_df = pd.DataFrame(X2020_Indonesia).reset_index(drop=True)\n",
    "X2021_Indonesia_df = pd.DataFrame(X2021_Indonesia).reset_index(drop=True)\n",
    "X2022_Indonesia_df = pd.DataFrame(X2022_Indonesia).reset_index(drop=True)\n",
    "#print(X2022_Indonesia)"
   ]
  },
  {
   "cell_type": "code",
   "execution_count": 14,
   "id": "948a9d52-ca36-4ad6-85f5-e473ab26ed8e",
   "metadata": {},
   "outputs": [],
   "source": [
    "# === Load Value Added from the .mat file ===\n",
    "VA2018 = mat_data_18['VA2018'].flatten()\n",
    "VA2019 = mat_data_19['VA2019'].flatten()\n",
    "VA2020 = mat_data_20['VA2020'].flatten()\n",
    "VA2021 = mat_data_21['VA2021'].flatten()\n",
    "VA2022 = mat_data_22['VA2022'].flatten()  # Flatten to 1D just like O2022\n",
    "\n",
    "# === Function to get 1x163 vector for a given country from VA2022 ===\n",
    "def get_country_va_vector_18(country_name):\n",
    "    country_name = country_name.strip()\n",
    "    if country_name not in country_index_map:\n",
    "        raise ValueError(f\"{country_name} not found in the country list.\")\n",
    "    start, end = country_index_map[country_name]\n",
    "    return pd.Series(VA2018[start:end])\n",
    "    \n",
    "def get_country_va_vector_19(country_name):\n",
    "    country_name = country_name.strip()\n",
    "    if country_name not in country_index_map:\n",
    "        raise ValueError(f\"{country_name} not found in the country list.\")\n",
    "    start, end = country_index_map[country_name]\n",
    "    return pd.Series(VA2019[start:end])\n",
    "\n",
    "def get_country_va_vector_20(country_name):\n",
    "    country_name = country_name.strip()\n",
    "    if country_name not in country_index_map:\n",
    "        raise ValueError(f\"{country_name} not found in the country list.\")\n",
    "    start, end = country_index_map[country_name]\n",
    "    return pd.Series(VA2020[start:end])\n",
    "\n",
    "def get_country_va_vector_21(country_name):\n",
    "    country_name = country_name.strip()\n",
    "    if country_name not in country_index_map:\n",
    "        raise ValueError(f\"{country_name} not found in the country list.\")\n",
    "    start, end = country_index_map[country_name]\n",
    "    return pd.Series(VA2021[start:end])\n",
    "    \n",
    "def get_country_va_vector_22(country_name):\n",
    "    country_name = country_name.strip()\n",
    "    if country_name not in country_index_map:\n",
    "        raise ValueError(f\"{country_name} not found in the country list.\")\n",
    "    start, end = country_index_map[country_name]\n",
    "    return pd.Series(VA2022[start:end])"
   ]
  },
  {
   "cell_type": "code",
   "execution_count": 15,
   "id": "76aa1194-602f-4f91-932e-f87636e13d65",
   "metadata": {
    "scrolled": true
   },
   "outputs": [],
   "source": [
    "VA2018_Indonesia = get_country_va_vector_18(\"Indonesia\")\n",
    "VA2019_Indonesia = get_country_va_vector_19(\"Indonesia\")\n",
    "VA2020_Indonesia = get_country_va_vector_20(\"Indonesia\")\n",
    "VA2021_Indonesia = get_country_va_vector_21(\"Indonesia\")\n",
    "VA2022_Indonesia = get_country_va_vector_22(\"Indonesia\")\n",
    "#print(VA2022_Indonesia)\n",
    "\n",
    "VA2018_Indonesia_df = pd.DataFrame(VA2018_Indonesia).reset_index(drop=True)\n",
    "VA2019_Indonesia_df = pd.DataFrame(VA2019_Indonesia).reset_index(drop=True)\n",
    "VA2020_Indonesia_df = pd.DataFrame(VA2020_Indonesia).reset_index(drop=True)\n",
    "VA2021_Indonesia_df = pd.DataFrame(VA2021_Indonesia).reset_index(drop=True)\n",
    "VA2022_Indonesia_df = pd.DataFrame(VA2022_Indonesia).reset_index(drop=True)"
   ]
  },
  {
   "cell_type": "code",
   "execution_count": 16,
   "id": "ff2a1c6e-405a-4a8c-abc1-2d5ca4eb24a6",
   "metadata": {},
   "outputs": [],
   "source": [
    "# === Load Carbon Emission from the .mat file ===\n",
    "C2018 = mat_data_18['C2018'].flatten()\n",
    "C2019 = mat_data_19['C2019'].flatten()\n",
    "C2020 = mat_data_20['C2020'].flatten()\n",
    "C2021 = mat_data_21['C2021'].flatten()\n",
    "C2022 = mat_data_22['C2022'].flatten()  # Flatten to 1D just like O2022\n",
    "\n",
    "# === Function to get 1x163 vector for a given country from VA2022 ===\n",
    "def get_country_carbon_18(country_name):\n",
    "    country_name = country_name.strip()\n",
    "    if country_name not in country_index_map:\n",
    "        raise ValueError(f\"{country_name} not found in the country list.\")\n",
    "    start, end = country_index_map[country_name]\n",
    "    return pd.Series(C2018[start:end])\n",
    "    \n",
    "def get_country_carbon_19(country_name):\n",
    "    country_name = country_name.strip()\n",
    "    if country_name not in country_index_map:\n",
    "        raise ValueError(f\"{country_name} not found in the country list.\")\n",
    "    start, end = country_index_map[country_name]\n",
    "    return pd.Series(C2019[start:end])\n",
    "    \n",
    "def get_country_carbon_20(country_name):\n",
    "    country_name = country_name.strip()\n",
    "    if country_name not in country_index_map:\n",
    "        raise ValueError(f\"{country_name} not found in the country list.\")\n",
    "    start, end = country_index_map[country_name]\n",
    "    return pd.Series(C2020[start:end])\n",
    "    \n",
    "def get_country_carbon_21(country_name):\n",
    "    country_name = country_name.strip()\n",
    "    if country_name not in country_index_map:\n",
    "        raise ValueError(f\"{country_name} not found in the country list.\")\n",
    "    start, end = country_index_map[country_name]\n",
    "    return pd.Series(C2021[start:end])\n",
    "\n",
    "def get_country_carbon_22(country_name):\n",
    "    country_name = country_name.strip()\n",
    "    if country_name not in country_index_map:\n",
    "        raise ValueError(f\"{country_name} not found in the country list.\")\n",
    "    start, end = country_index_map[country_name]\n",
    "    return pd.Series(C2022[start:end])"
   ]
  },
  {
   "cell_type": "code",
   "execution_count": 17,
   "id": "82e92c6a-d7a3-46c1-a867-fbf9341d93a6",
   "metadata": {},
   "outputs": [
    {
     "name": "stdout",
     "output_type": "stream",
     "text": [
      "                                                Sector   Value Added  \\\n",
      "0                            Cultivation of paddy rice  25739.955911   \n",
      "1                                 Cultivation of wheat      0.000000   \n",
      "2                     Cultivation of cereal grains nec  14283.309387   \n",
      "3               Cultivation of vegetables, fruit, nuts  33772.987017   \n",
      "4                             Cultivation of oil seeds   4483.870618   \n",
      "..                                                 ...           ...   \n",
      "158     Activities of membership organisation nec (91)    156.926882   \n",
      "159  Recreational, cultural and sporting activities...  24160.327582   \n",
      "160                      Other service activities (93)   8096.425827   \n",
      "161      Private households with employed persons (95)    693.557596   \n",
      "162         Extra-territorial organizations and bodies      0.000000   \n",
      "\n",
      "               CO2  Total Output  \n",
      "0    155015.934554  33560.000452  \n",
      "1         0.000000      0.000000  \n",
      "2      6808.576537  15854.781095  \n",
      "3     19274.158340  37419.335381  \n",
      "4     17076.652240  10641.188438  \n",
      "..             ...           ...  \n",
      "158      12.521779   2920.134374  \n",
      "159     120.886508  44467.099588  \n",
      "160      78.160962  30335.499563  \n",
      "161      10.889660   6302.824985  \n",
      "162       0.000000      0.000000  \n",
      "\n",
      "[163 rows x 4 columns]\n"
     ]
    }
   ],
   "source": [
    "C2018_Indonesia = get_country_carbon_18(\"Indonesia\")\n",
    "C2019_Indonesia = get_country_carbon_19(\"Indonesia\")\n",
    "C2020_Indonesia = get_country_carbon_20(\"Indonesia\")\n",
    "C2021_Indonesia = get_country_carbon_21(\"Indonesia\")\n",
    "C2022_Indonesia = get_country_carbon_22(\"Indonesia\")\n",
    "\n",
    "C2018_Indonesia_df = pd.DataFrame(C2018_Indonesia).reset_index(drop=True)\n",
    "C2019_Indonesia_df = pd.DataFrame(C2019_Indonesia).reset_index(drop=True)\n",
    "C2020_Indonesia_df = pd.DataFrame(C2020_Indonesia).reset_index(drop=True)\n",
    "C2021_Indonesia_df = pd.DataFrame(C2021_Indonesia).reset_index(drop=True)\n",
    "C2022_Indonesia_df = pd.DataFrame(C2022_Indonesia).reset_index(drop=True)\n",
    "\n",
    "combined_df_VA_18 = pd.concat([sectors_df, VA2018_Indonesia_df, C2018_Indonesia_df,X2018_Indonesia_df], axis=1)\n",
    "combined_df_VA_18.columns = ['Sector', 'Value Added','CO2','Total Output']\n",
    "combined_df_VA_18['CO2'] = combined_df_VA_18['CO2'] / 1_000_000 #CO2 in ktonne CO2e\n",
    "\n",
    "combined_df_VA_19 = pd.concat([sectors_df, VA2019_Indonesia_df, C2019_Indonesia_df,X2019_Indonesia_df], axis=1)\n",
    "combined_df_VA_19.columns = ['Sector', 'Value Added','CO2','Total Output']\n",
    "combined_df_VA_19['CO2'] = combined_df_VA_19['CO2'] / 1_000_000 #CO2 in ktonne CO2e\n",
    "\n",
    "combined_df_VA_20 = pd.concat([sectors_df, VA2020_Indonesia_df, C2020_Indonesia_df,X2020_Indonesia_df], axis=1)\n",
    "combined_df_VA_20.columns = ['Sector', 'Value Added','CO2','Total Output']\n",
    "combined_df_VA_20['CO2'] = combined_df_VA_20['CO2'] / 1_000_000 #CO2 in ktonne CO2e\n",
    "\n",
    "combined_df_VA_21 = pd.concat([sectors_df, VA2021_Indonesia_df, C2021_Indonesia_df,X2021_Indonesia_df], axis=1)\n",
    "combined_df_VA_21.columns = ['Sector', 'Value Added','CO2','Total Output']\n",
    "combined_df_VA_21['CO2'] = combined_df_VA_21['CO2'] / 1_000_000 #CO2 in ktonne CO2e\n",
    "\n",
    "combined_df_VA_22 = pd.concat([sectors_df, VA2022_Indonesia_df, C2022_Indonesia_df,X2022_Indonesia_df], axis=1)\n",
    "combined_df_VA_22.columns = ['Sector', 'Value Added','CO2','Total Output']\n",
    "combined_df_VA_22['CO2'] = combined_df_VA_22['CO2'] / 1_000_000 #CO2 in ktonne CO2e\n",
    "\n",
    "print(combined_df_VA_22)"
   ]
  },
  {
   "cell_type": "code",
   "execution_count": 18,
   "id": "c84e9bed-5d1e-4b30-acdc-e0573f38cd79",
   "metadata": {},
   "outputs": [],
   "source": [
    "# Total GDP & CO2 emission\n",
    "C2018_Indonesia_sum=C2018_Indonesia_df.sum(axis=1)\n",
    "VA2018_Indonesia_sum=VA2018_Indonesia_df.sum(axis=0)\n",
    "\n",
    "C2019_Indonesia_sum=C2019_Indonesia_df.sum(axis=1)\n",
    "VA2019_Indonesia_sum=VA2019_Indonesia_df.sum(axis=0)\n",
    "\n",
    "C2020_Indonesia_sum=C2020_Indonesia_df.sum(axis=1)\n",
    "VA2020_Indonesia_sum=VA2020_Indonesia_df.sum(axis=0)\n",
    "\n",
    "C2021_Indonesia_sum=C2021_Indonesia_df.sum(axis=1)\n",
    "VA2021_Indonesia_sum=VA2021_Indonesia_df.sum(axis=0)\n",
    "\n",
    "C2022_Indonesia_sum=C2022_Indonesia_df.sum(axis=1)\n",
    "VA2022_Indonesia_sum=VA2022_Indonesia_df.sum(axis=0)\n",
    "\n",
    "#print(VA2022_Indonesia_sum)"
   ]
  },
  {
   "cell_type": "code",
   "execution_count": 19,
   "id": "2eb30b76-2563-4c72-a200-d52c49c8796a",
   "metadata": {},
   "outputs": [],
   "source": [
    "x_diag_18 = np.diag(X2018_Indonesia)\n",
    "x_diag_safe_18 = np.where(x_diag_18 == 0, 1e-10, x_diag_18)\n",
    "x_diag_inv_18 = np.diag(1 / x_diag_safe_18.diagonal())\n",
    "A18 = Z2018_Indonesia @ x_diag_inv_18\n",
    "\n",
    "x_diag_19 = np.diag(X2019_Indonesia)\n",
    "x_diag_safe_19 = np.where(x_diag_19 == 0, 1e-10, x_diag_19)\n",
    "x_diag_inv_19 = np.diag(1 / x_diag_safe_19.diagonal())\n",
    "A19 = Z2019_Indonesia @ x_diag_inv_19\n",
    "\n",
    "x_diag_20 = np.diag(X2020_Indonesia)\n",
    "x_diag_safe_20 = np.where(x_diag_20 == 0, 1e-10, x_diag_20)\n",
    "x_diag_inv_20 = np.diag(1 / x_diag_safe_20.diagonal())\n",
    "A20 = Z2020_Indonesia @ x_diag_inv_20\n",
    "\n",
    "x_diag_21 = np.diag(X2021_Indonesia)\n",
    "x_diag_safe_21 = np.where(x_diag_21 == 0, 1e-10, x_diag_21)\n",
    "x_diag_inv_21 = np.diag(1 / x_diag_safe_21.diagonal())\n",
    "A21 = Z2021_Indonesia @ x_diag_inv_21\n",
    "\n",
    "# Step 1: Create a diagonal matrix from X2022_Indonesia\n",
    "x_diag_22 = np.diag(X2022_Indonesia)\n",
    "x_diag_safe_22 = np.where(x_diag_22 == 0, 1e-10, x_diag_22)\n",
    "\n",
    "# Step 3: Compute the inverse of the diagonal matrix element-wise (reciprocal of each diagonal element)\n",
    "x_diag_inv_22 = np.diag(1 / x_diag_safe_22.diagonal())\n",
    "# Step 2: Multiply Z by the inverse of the diagonal matrix\n",
    "A22 = Z2022_Indonesia @ x_diag_inv_22\n",
    "\n",
    "#print(A22)"
   ]
  },
  {
   "cell_type": "code",
   "execution_count": 20,
   "id": "1ec4d21b-4f29-4cd8-aa1b-177f2ef306e2",
   "metadata": {},
   "outputs": [],
   "source": [
    "#import numpy as np\n",
    "#import pandas as pd\n",
    "\n",
    "# Flatten VA2022_Indonesia into a 1D array\n",
    "#va_vector = VA2022_Indonesia.values.flatten()\n",
    "\n",
    "# Replace any 0s or very small values with a tiny number to avoid division by zero\n",
    "#va_safe = np.where(va_vector == 0, 1e-10, va_vector)\n",
    "\n",
    "# Do the row-wise division safely\n",
    "#A2 = Z2022_Indonesia.values / va_safe[:, np.newaxis]\n",
    "\n",
    "# Convert to DataFrame (optional)\n",
    "#A2_df = pd.DataFrame(A2)\n",
    "#print(A2_df)"
   ]
  },
  {
   "cell_type": "code",
   "execution_count": 21,
   "id": "6aadc35f-5785-4550-b523-678c265404ab",
   "metadata": {},
   "outputs": [],
   "source": [
    "identity_matrix = np.eye(A22.shape[0])"
   ]
  },
  {
   "cell_type": "code",
   "execution_count": 23,
   "id": "6ddd20a4-ca83-4fe7-9f18-040d4a048240",
   "metadata": {},
   "outputs": [],
   "source": [
    "L18=identity_matrix-A18\n",
    "L19=identity_matrix-A19\n",
    "L20=identity_matrix-A20\n",
    "L21=identity_matrix-A21\n",
    "L22=identity_matrix-A22\n",
    "\n",
    "L18_inv = np.linalg.inv(L18)\n",
    "L19_inv = np.linalg.inv(L19)\n",
    "L20_inv = np.linalg.inv(L20)\n",
    "L21_inv = np.linalg.inv(L21)\n",
    "L22_inv = np.linalg.inv(L22)"
   ]
  },
  {
   "cell_type": "code",
   "execution_count": 24,
   "id": "681ab9d5-03d3-4075-b77f-d4bd3f3467f6",
   "metadata": {},
   "outputs": [],
   "source": [
    "###### Check\n",
    "\n",
    "Y2018_Indonesia_all_columns = get_country_final_all_columns_18(\"Indonesia\")\n",
    "Y2019_Indonesia_all_columns = get_country_final_all_columns_19(\"Indonesia\")\n",
    "Y2020_Indonesia_all_columns = get_country_final_all_columns_20(\"Indonesia\")\n",
    "Y2021_Indonesia_all_columns = get_country_final_all_columns_21(\"Indonesia\")\n",
    "Y2022_Indonesia_all_columns = get_country_final_all_columns_22(\"Indonesia\")\n",
    "#print(Y2022_Indonesia_all_columns.shape)  # Should be (163, 49)\n",
    "#print(Y2022_Indonesia_all_columns)"
   ]
  },
  {
   "cell_type": "code",
   "execution_count": 25,
   "id": "1291df7a-508a-4d26-9db5-7f0d0c9db0c3",
   "metadata": {},
   "outputs": [],
   "source": [
    "Y2018_sum=Y2018_Indonesia_all_columns.sum(axis=1)\n",
    "Z2018_sum_total = Z2018_Indonesia_column.sum(axis=1)\n",
    "Z2018_sum_indo = Z2018_Indonesia.sum(axis=1)\n",
    "\n",
    "Y2019_sum=Y2019_Indonesia_all_columns.sum(axis=1)\n",
    "Z2019_sum_total = Z2019_Indonesia_column.sum(axis=1)\n",
    "Z2019_sum_indo = Z2019_Indonesia.sum(axis=1)\n",
    "\n",
    "Y2020_sum=Y2020_Indonesia_all_columns.sum(axis=1)\n",
    "Z2020_sum_total = Z2020_Indonesia_column.sum(axis=1)\n",
    "Z2020_sum_indo = Z2020_Indonesia.sum(axis=1)\n",
    "\n",
    "Y2021_sum=Y2021_Indonesia_all_columns.sum(axis=1)\n",
    "Z2021_sum_total = Z2021_Indonesia_column.sum(axis=1)\n",
    "Z2021_sum_indo = Z2021_Indonesia.sum(axis=1)\n",
    "\n",
    "Y2022_sum=Y2022_Indonesia_all_columns.sum(axis=1)\n",
    "Z2022_sum_total = Z2022_Indonesia_column.sum(axis=1)\n",
    "Z2022_sum_indo = Z2022_Indonesia.sum(axis=1)"
   ]
  },
  {
   "cell_type": "code",
   "execution_count": 26,
   "id": "288416fd-0313-424f-a5a0-a910e27848e4",
   "metadata": {},
   "outputs": [],
   "source": [
    "tot_series_18 = Y2018_sum + Z2018_sum_total - Z2018_sum_indo\n",
    "tot_series_19 = Y2019_sum + Z2019_sum_total - Z2019_sum_indo\n",
    "tot_series_20 = Y2020_sum + Z2020_sum_total - Z2020_sum_indo\n",
    "tot_series_21 = Y2021_sum + Z2021_sum_total - Z2021_sum_indo\n",
    "tot_series_22 = Y2022_sum + Z2022_sum_total - Z2022_sum_indo"
   ]
  },
  {
   "cell_type": "code",
   "execution_count": 27,
   "id": "665884fa-1b2e-4cb4-8f9c-bb83f555b04e",
   "metadata": {},
   "outputs": [],
   "source": [
    "#Check\n",
    "o18 = L18_inv @ tot_series_18\n",
    "o18_df = pd.DataFrame(o18).reset_index(drop=True)\n",
    "x18_df = pd.DataFrame(X2018_Indonesia).reset_index(drop=True)\n",
    "\n",
    "o19 = L19_inv @ tot_series_19\n",
    "o19_df = pd.DataFrame(o19).reset_index(drop=True)\n",
    "x19_df = pd.DataFrame(X2019_Indonesia).reset_index(drop=True)\n",
    "\n",
    "o20 = L20_inv @ tot_series_20\n",
    "o20_df = pd.DataFrame(o20).reset_index(drop=True)\n",
    "x20_df = pd.DataFrame(X2020_Indonesia).reset_index(drop=True)\n",
    "\n",
    "o21 = L21_inv @ tot_series_21\n",
    "o21_df = pd.DataFrame(o21).reset_index(drop=True)\n",
    "x21_df = pd.DataFrame(X2021_Indonesia).reset_index(drop=True)\n",
    "\n",
    "o22 = L22_inv @ tot_series_22\n",
    "o22_df = pd.DataFrame(o22).reset_index(drop=True)\n",
    "x22_df = pd.DataFrame(X2022_Indonesia).reset_index(drop=True)\n",
    "\n",
    "# Concatenate them side by side (column-wise)\n",
    "check18 = pd.concat([x18_df, o18_df], axis=1)\n",
    "check19 = pd.concat([x19_df, o19_df], axis=1)\n",
    "check20 = pd.concat([x20_df, o20_df], axis=1)\n",
    "check21 = pd.concat([x21_df, o21_df], axis=1)\n",
    "check22 = pd.concat([x22_df, o22_df], axis=1)\n",
    "#print(check22)"
   ]
  },
  {
   "cell_type": "code",
   "execution_count": 28,
   "id": "ee40b349-2df0-4d4b-ae40-6e15c8d8e7b3",
   "metadata": {},
   "outputs": [],
   "source": [
    "#with pd.ExcelWriter(\"Indonesia_IO_data2.xlsx\") as writer:\n",
    "   # Z2022_Indonesia.to_excel(writer, sheet_name=\"Z2022_Indonesia\", index=False)\n",
    "   # VA2022_Indonesia.to_excel(writer, sheet_name=\"VA2022_Indonesia\", index=False)\n",
    "   # Y2022_Indonesia.to_excel(writer, sheet_name=\"Y2022_Indonesia\", index=False)\n",
    "   # X2022_Indonesia.to_excel(writer, sheet_name=\"X2022_Indonesia\", index=False)\n"
   ]
  },
  {
   "cell_type": "code",
   "execution_count": 111,
   "id": "ab0fe514-2393-4477-a36c-79ce856ed71a",
   "metadata": {},
   "outputs": [
    {
     "name": "stdout",
     "output_type": "stream",
     "text": [
      "                                               Sector           VA18  \\\n",
      "0                   Agriculture, Forestry and Fishing  118390.960490   \n",
      "1                                Mining and Quarrying   77953.816281   \n",
      "2                                       Manufacturing  186262.092045   \n",
      "3                                 Electricity and Gas    8570.437076   \n",
      "4   Water supply, Sewerage, Waste Management and R...     981.991616   \n",
      "5                                        Construction   96905.909226   \n",
      "6                          Wholesale and Retail Trade  142992.347141   \n",
      "7                          Transportation and Storage   40668.448182   \n",
      "8           Accommodation and Food Service Activities    7986.044643   \n",
      "9                       Information and Communication   36149.410948   \n",
      "10                 Financial and Insurance Activities   23765.336334   \n",
      "11                             Real Estate Activities   16943.048404   \n",
      "12                                Business Activities   13423.767553   \n",
      "13  Public Administration and Defence; Compulsory ...   13088.187513   \n",
      "14                                          Education   24825.222029   \n",
      "15            Human Health and Social Work Activities    2218.452542   \n",
      "16                          Other Services Activities   71381.142105   \n",
      "\n",
      "            C2018  \n",
      "0   228568.524706  \n",
      "1   264873.117400  \n",
      "2   130566.493328  \n",
      "3   159342.826367  \n",
      "4    14573.014077  \n",
      "5     1046.707779  \n",
      "6     5846.675127  \n",
      "7    49363.505645  \n",
      "8     2703.804134  \n",
      "9    19616.445199  \n",
      "10   17256.460701  \n",
      "11      21.380316  \n",
      "12     134.109642  \n",
      "13     363.748437  \n",
      "14    2117.059582  \n",
      "15      78.686978  \n",
      "16   80066.939307  \n"
     ]
    }
   ],
   "source": [
    "# Define the new sector names and index ranges (0-based indexing)\n",
    "new_sectors = [\n",
    "    (\"Agriculture, Forestry and Fishing\", range(0, 19)),\n",
    "    (\"Mining and Quarrying\", list(range(19, 34)) + list(range(70, 85))),  # 0-based\n",
    "    (\"Manufacturing\", [i for i in range(34, 95) if i not in range(70, 85)]),\n",
    "    (\"Electricity and Gas\", range(95, 110)),\n",
    "    (\"Water supply, Sewerage, Waste Management and Remediation Activities\", range(110, 112)),\n",
    "    (\"Construction\", range(112, 114)),\n",
    "    (\"Wholesale and Retail Trade\", range(114, 119)),\n",
    "    (\"Transportation and Storage\", range(119, 125)),\n",
    "    (\"Accommodation and Food Service Activities\", [125]),\n",
    "    (\"Information and Communication\", [126]),\n",
    "    (\"Financial and Insurance Activities\", range(127, 130)),\n",
    "    (\"Real Estate Activities\", [130]),\n",
    "    (\"Business Activities\", range(131, 135)),\n",
    "    (\"Public Administration and Defence; Compulsory Social Security\", [135]),\n",
    "    (\"Education\", [136]),\n",
    "    (\"Human Health and Social Work Activities\", [137]),\n",
    "    (\"Other Services Activities\", range(138, 163)),\n",
    "]\n",
    "\n",
    "# Aggregate into new DataFrame\n",
    "aggregated_data_18 = []\n",
    "for sector_name, indices in new_sectors:\n",
    "    row = {\n",
    "        'Sector': sector_name,\n",
    "        'VA18': combined_df_VA_18.loc[indices, 'Value Added'].sum(),\n",
    "        'C2018': combined_df_VA_18.loc[indices, 'CO2'].sum()\n",
    "    }\n",
    "    aggregated_data_18.append(row)\n",
    "\n",
    "aggregated_data_19 = []\n",
    "for sector_name, indices in new_sectors:\n",
    "    row = {\n",
    "        'Sector': sector_name,\n",
    "        'VA19': combined_df_VA_19.loc[indices, 'Value Added'].sum(),\n",
    "        'C2019': combined_df_VA_19.loc[indices, 'CO2'].sum()\n",
    "    }\n",
    "    aggregated_data_19.append(row)\n",
    "\n",
    "aggregated_data_20 = []\n",
    "for sector_name, indices in new_sectors:\n",
    "    row = {\n",
    "        'Sector': sector_name,\n",
    "        'VA20': combined_df_VA_20.loc[indices, 'Value Added'].sum(),\n",
    "        'C2020': combined_df_VA_20.loc[indices, 'CO2'].sum()\n",
    "    }\n",
    "    aggregated_data_20.append(row)\n",
    "    \n",
    "aggregated_data_21 = []\n",
    "for sector_name, indices in new_sectors:\n",
    "    row = {\n",
    "        'Sector': sector_name,\n",
    "        'VA21': combined_df_VA_21.loc[indices, 'Value Added'].sum(),\n",
    "        'C2021': combined_df_VA_21.loc[indices, 'CO2'].sum()\n",
    "    }\n",
    "    aggregated_data_21.append(row)\n",
    "    \n",
    "aggregated_data_22 = []\n",
    "for sector_name, indices in new_sectors:\n",
    "    row = {\n",
    "        'Sector': sector_name,\n",
    "        'VA22': combined_df_VA_22.loc[indices, 'Value Added'].sum(),\n",
    "        'C2022': combined_df_VA_22.loc[indices, 'CO2'].sum()\n",
    "    }\n",
    "    aggregated_data_22.append(row)\n",
    "\n",
    "aggregated_df_18 = pd.DataFrame(aggregated_data_18)\n",
    "aggregated_df_19 = pd.DataFrame(aggregated_data_19)\n",
    "aggregated_df_20 = pd.DataFrame(aggregated_data_20)\n",
    "aggregated_df_21 = pd.DataFrame(aggregated_data_21)\n",
    "aggregated_df_22 = pd.DataFrame(aggregated_data_22)\n",
    "\n",
    "print(aggregated_df_18)"
   ]
  },
  {
   "cell_type": "code",
   "execution_count": 112,
   "id": "7b3fdd36-cd9a-4fb3-bbe3-5f291d03c55f",
   "metadata": {},
   "outputs": [],
   "source": [
    "merged_df = aggregated_df_18[['Sector', 'VA18', 'C2018']].merge(\n",
    "    aggregated_df_19[['Sector','VA19', 'C2019']], on='Sector').merge(\n",
    "    aggregated_df_20[['Sector','VA20', 'C2020']], on='Sector').merge(\n",
    "    aggregated_df_21[['Sector','VA21', 'C2021']], on='Sector').merge(\n",
    "    aggregated_df_22[['Sector','VA22', 'C2022']], on='Sector')\n",
    "\n",
    "# Save to Excel\n",
    "output_path = 'aggregated_CO2_value_added_by_sector.xlsx'\n",
    "merged_df.to_excel(output_path, index=False)\n",
    "\n",
    "#print(f\"Excel file saved to: {output_path}\")"
   ]
  },
  {
   "cell_type": "raw",
   "id": "e7993dde-e39e-4b70-95e2-516e00207d9d",
   "metadata": {
    "scrolled": true
   },
   "source": [
    "# Step 1: Sort combined_df_VA by 'Value Added'\n",
    "sorted_df_va_22 = aggregated_df_22.sort_values(by='VA22', ascending=False).reset_index(drop=True)\n",
    "\n",
    "# Step 2: Separate top 10 sectors\n",
    "top_10_va_22 = sorted_df_va_22.iloc[:10].copy()\n",
    "\n",
    "fig = px.treemap(top_10_va_22, \n",
    "                 path=['Sector'], \n",
    "                 values='VA22',\n",
    "                 title='Top 10 GDP Sectors (Indonesia 2022)',\n",
    "                 color='VA22',\n",
    "                 color_continuous_scale='Blues')\n",
    "\n",
    "fig.update_traces(\n",
    "    texttemplate='%{label}<br>%{value:,.0f}',\n",
    "    textinfo='label+value'\n",
    ")\n",
    "fig.update_layout(\n",
    "    width=800,\n",
    "    height=800,  # Make height equal to width\n",
    "    margin=dict(t=50, l=25, r=25, b=25),\n",
    "    coloraxis_colorbar=dict(\n",
    "        title=\"million €\")\n",
    ")\n",
    "\n",
    "fig.show()"
   ]
  },
  {
   "cell_type": "code",
   "execution_count": 175,
   "id": "00052e62-e231-47a0-9507-259322838c98",
   "metadata": {},
   "outputs": [
    {
     "data": {
      "application/vnd.plotly.v1+json": {
       "config": {
        "plotlyServerURL": "https://plot.ly"
       },
       "data": [
        {
         "branchvalues": "total",
         "customdata": [
          [
           "13%"
          ],
          [
           "11%"
          ],
          [
           "21%"
          ],
          [
           "9%"
          ],
          [
           "29%"
          ],
          [
           "16%"
          ]
         ],
         "domain": {
          "x": [
           0,
           1
          ],
          "y": [
           0,
           1
          ]
         },
         "hovertemplate": "labels=%{label}<br>VA18_sum=%{value}<br>parent=%{parent}<br>id=%{id}<br>VA18=%{color}<extra></extra>",
         "ids": [
          "Agriculture, Forestry and Fishing",
          "Construction",
          "Manufacturing",
          "Mining and Quarrying",
          "Remaining Sectors",
          "Wholesale and Retail Trade"
         ],
         "labels": [
          "Agriculture, Forestry and Fishing",
          "Construction",
          "Manufacturing",
          "Mining and Quarrying",
          "Remaining Sectors",
          "Wholesale and Retail Trade"
         ],
         "marker": {
          "coloraxis": "coloraxis",
          "colors": [
           118390.96049021714,
           96905.90922598261,
           186262.09204497724,
           77953.81628136997,
           260001.4889437846,
           142992.34714071464
          ]
         },
         "name": "",
         "parents": [
          "",
          "",
          "",
          "",
          "",
          ""
         ],
         "textinfo": "label+value+text",
         "texttemplate": "%{label}<br>€%{value:,.0f} million<br>%{customdata}",
         "type": "treemap",
         "values": [
          118390.96049021714,
          96905.90922598261,
          186262.09204497727,
          77953.81628136997,
          260001.4889437846,
          142992.34714071464
         ]
        }
       ],
       "layout": {
        "coloraxis": {
         "colorbar": {
          "title": {
           "text": "million €"
          }
         },
         "colorscale": [
          [
           0,
           "rgb(247,251,255)"
          ],
          [
           0.125,
           "rgb(222,235,247)"
          ],
          [
           0.25,
           "rgb(198,219,239)"
          ],
          [
           0.375,
           "rgb(158,202,225)"
          ],
          [
           0.5,
           "rgb(107,174,214)"
          ],
          [
           0.625,
           "rgb(66,146,198)"
          ],
          [
           0.75,
           "rgb(33,113,181)"
          ],
          [
           0.875,
           "rgb(8,81,156)"
          ],
          [
           1,
           "rgb(8,48,107)"
          ]
         ]
        },
        "height": 800,
        "legend": {
         "tracegroupgap": 0
        },
        "margin": {
         "b": 25,
         "l": 25,
         "r": 25,
         "t": 50
        },
        "template": {
         "data": {
          "bar": [
           {
            "error_x": {
             "color": "#2a3f5f"
            },
            "error_y": {
             "color": "#2a3f5f"
            },
            "marker": {
             "line": {
              "color": "#E5ECF6",
              "width": 0.5
             },
             "pattern": {
              "fillmode": "overlay",
              "size": 10,
              "solidity": 0.2
             }
            },
            "type": "bar"
           }
          ],
          "barpolar": [
           {
            "marker": {
             "line": {
              "color": "#E5ECF6",
              "width": 0.5
             },
             "pattern": {
              "fillmode": "overlay",
              "size": 10,
              "solidity": 0.2
             }
            },
            "type": "barpolar"
           }
          ],
          "carpet": [
           {
            "aaxis": {
             "endlinecolor": "#2a3f5f",
             "gridcolor": "white",
             "linecolor": "white",
             "minorgridcolor": "white",
             "startlinecolor": "#2a3f5f"
            },
            "baxis": {
             "endlinecolor": "#2a3f5f",
             "gridcolor": "white",
             "linecolor": "white",
             "minorgridcolor": "white",
             "startlinecolor": "#2a3f5f"
            },
            "type": "carpet"
           }
          ],
          "choropleth": [
           {
            "colorbar": {
             "outlinewidth": 0,
             "ticks": ""
            },
            "type": "choropleth"
           }
          ],
          "contour": [
           {
            "colorbar": {
             "outlinewidth": 0,
             "ticks": ""
            },
            "colorscale": [
             [
              0,
              "#0d0887"
             ],
             [
              0.1111111111111111,
              "#46039f"
             ],
             [
              0.2222222222222222,
              "#7201a8"
             ],
             [
              0.3333333333333333,
              "#9c179e"
             ],
             [
              0.4444444444444444,
              "#bd3786"
             ],
             [
              0.5555555555555556,
              "#d8576b"
             ],
             [
              0.6666666666666666,
              "#ed7953"
             ],
             [
              0.7777777777777778,
              "#fb9f3a"
             ],
             [
              0.8888888888888888,
              "#fdca26"
             ],
             [
              1,
              "#f0f921"
             ]
            ],
            "type": "contour"
           }
          ],
          "contourcarpet": [
           {
            "colorbar": {
             "outlinewidth": 0,
             "ticks": ""
            },
            "type": "contourcarpet"
           }
          ],
          "heatmap": [
           {
            "colorbar": {
             "outlinewidth": 0,
             "ticks": ""
            },
            "colorscale": [
             [
              0,
              "#0d0887"
             ],
             [
              0.1111111111111111,
              "#46039f"
             ],
             [
              0.2222222222222222,
              "#7201a8"
             ],
             [
              0.3333333333333333,
              "#9c179e"
             ],
             [
              0.4444444444444444,
              "#bd3786"
             ],
             [
              0.5555555555555556,
              "#d8576b"
             ],
             [
              0.6666666666666666,
              "#ed7953"
             ],
             [
              0.7777777777777778,
              "#fb9f3a"
             ],
             [
              0.8888888888888888,
              "#fdca26"
             ],
             [
              1,
              "#f0f921"
             ]
            ],
            "type": "heatmap"
           }
          ],
          "heatmapgl": [
           {
            "colorbar": {
             "outlinewidth": 0,
             "ticks": ""
            },
            "colorscale": [
             [
              0,
              "#0d0887"
             ],
             [
              0.1111111111111111,
              "#46039f"
             ],
             [
              0.2222222222222222,
              "#7201a8"
             ],
             [
              0.3333333333333333,
              "#9c179e"
             ],
             [
              0.4444444444444444,
              "#bd3786"
             ],
             [
              0.5555555555555556,
              "#d8576b"
             ],
             [
              0.6666666666666666,
              "#ed7953"
             ],
             [
              0.7777777777777778,
              "#fb9f3a"
             ],
             [
              0.8888888888888888,
              "#fdca26"
             ],
             [
              1,
              "#f0f921"
             ]
            ],
            "type": "heatmapgl"
           }
          ],
          "histogram": [
           {
            "marker": {
             "pattern": {
              "fillmode": "overlay",
              "size": 10,
              "solidity": 0.2
             }
            },
            "type": "histogram"
           }
          ],
          "histogram2d": [
           {
            "colorbar": {
             "outlinewidth": 0,
             "ticks": ""
            },
            "colorscale": [
             [
              0,
              "#0d0887"
             ],
             [
              0.1111111111111111,
              "#46039f"
             ],
             [
              0.2222222222222222,
              "#7201a8"
             ],
             [
              0.3333333333333333,
              "#9c179e"
             ],
             [
              0.4444444444444444,
              "#bd3786"
             ],
             [
              0.5555555555555556,
              "#d8576b"
             ],
             [
              0.6666666666666666,
              "#ed7953"
             ],
             [
              0.7777777777777778,
              "#fb9f3a"
             ],
             [
              0.8888888888888888,
              "#fdca26"
             ],
             [
              1,
              "#f0f921"
             ]
            ],
            "type": "histogram2d"
           }
          ],
          "histogram2dcontour": [
           {
            "colorbar": {
             "outlinewidth": 0,
             "ticks": ""
            },
            "colorscale": [
             [
              0,
              "#0d0887"
             ],
             [
              0.1111111111111111,
              "#46039f"
             ],
             [
              0.2222222222222222,
              "#7201a8"
             ],
             [
              0.3333333333333333,
              "#9c179e"
             ],
             [
              0.4444444444444444,
              "#bd3786"
             ],
             [
              0.5555555555555556,
              "#d8576b"
             ],
             [
              0.6666666666666666,
              "#ed7953"
             ],
             [
              0.7777777777777778,
              "#fb9f3a"
             ],
             [
              0.8888888888888888,
              "#fdca26"
             ],
             [
              1,
              "#f0f921"
             ]
            ],
            "type": "histogram2dcontour"
           }
          ],
          "mesh3d": [
           {
            "colorbar": {
             "outlinewidth": 0,
             "ticks": ""
            },
            "type": "mesh3d"
           }
          ],
          "parcoords": [
           {
            "line": {
             "colorbar": {
              "outlinewidth": 0,
              "ticks": ""
             }
            },
            "type": "parcoords"
           }
          ],
          "pie": [
           {
            "automargin": true,
            "type": "pie"
           }
          ],
          "scatter": [
           {
            "fillpattern": {
             "fillmode": "overlay",
             "size": 10,
             "solidity": 0.2
            },
            "type": "scatter"
           }
          ],
          "scatter3d": [
           {
            "line": {
             "colorbar": {
              "outlinewidth": 0,
              "ticks": ""
             }
            },
            "marker": {
             "colorbar": {
              "outlinewidth": 0,
              "ticks": ""
             }
            },
            "type": "scatter3d"
           }
          ],
          "scattercarpet": [
           {
            "marker": {
             "colorbar": {
              "outlinewidth": 0,
              "ticks": ""
             }
            },
            "type": "scattercarpet"
           }
          ],
          "scattergeo": [
           {
            "marker": {
             "colorbar": {
              "outlinewidth": 0,
              "ticks": ""
             }
            },
            "type": "scattergeo"
           }
          ],
          "scattergl": [
           {
            "marker": {
             "colorbar": {
              "outlinewidth": 0,
              "ticks": ""
             }
            },
            "type": "scattergl"
           }
          ],
          "scattermapbox": [
           {
            "marker": {
             "colorbar": {
              "outlinewidth": 0,
              "ticks": ""
             }
            },
            "type": "scattermapbox"
           }
          ],
          "scatterpolar": [
           {
            "marker": {
             "colorbar": {
              "outlinewidth": 0,
              "ticks": ""
             }
            },
            "type": "scatterpolar"
           }
          ],
          "scatterpolargl": [
           {
            "marker": {
             "colorbar": {
              "outlinewidth": 0,
              "ticks": ""
             }
            },
            "type": "scatterpolargl"
           }
          ],
          "scatterternary": [
           {
            "marker": {
             "colorbar": {
              "outlinewidth": 0,
              "ticks": ""
             }
            },
            "type": "scatterternary"
           }
          ],
          "surface": [
           {
            "colorbar": {
             "outlinewidth": 0,
             "ticks": ""
            },
            "colorscale": [
             [
              0,
              "#0d0887"
             ],
             [
              0.1111111111111111,
              "#46039f"
             ],
             [
              0.2222222222222222,
              "#7201a8"
             ],
             [
              0.3333333333333333,
              "#9c179e"
             ],
             [
              0.4444444444444444,
              "#bd3786"
             ],
             [
              0.5555555555555556,
              "#d8576b"
             ],
             [
              0.6666666666666666,
              "#ed7953"
             ],
             [
              0.7777777777777778,
              "#fb9f3a"
             ],
             [
              0.8888888888888888,
              "#fdca26"
             ],
             [
              1,
              "#f0f921"
             ]
            ],
            "type": "surface"
           }
          ],
          "table": [
           {
            "cells": {
             "fill": {
              "color": "#EBF0F8"
             },
             "line": {
              "color": "white"
             }
            },
            "header": {
             "fill": {
              "color": "#C8D4E3"
             },
             "line": {
              "color": "white"
             }
            },
            "type": "table"
           }
          ]
         },
         "layout": {
          "annotationdefaults": {
           "arrowcolor": "#2a3f5f",
           "arrowhead": 0,
           "arrowwidth": 1
          },
          "autotypenumbers": "strict",
          "coloraxis": {
           "colorbar": {
            "outlinewidth": 0,
            "ticks": ""
           }
          },
          "colorscale": {
           "diverging": [
            [
             0,
             "#8e0152"
            ],
            [
             0.1,
             "#c51b7d"
            ],
            [
             0.2,
             "#de77ae"
            ],
            [
             0.3,
             "#f1b6da"
            ],
            [
             0.4,
             "#fde0ef"
            ],
            [
             0.5,
             "#f7f7f7"
            ],
            [
             0.6,
             "#e6f5d0"
            ],
            [
             0.7,
             "#b8e186"
            ],
            [
             0.8,
             "#7fbc41"
            ],
            [
             0.9,
             "#4d9221"
            ],
            [
             1,
             "#276419"
            ]
           ],
           "sequential": [
            [
             0,
             "#0d0887"
            ],
            [
             0.1111111111111111,
             "#46039f"
            ],
            [
             0.2222222222222222,
             "#7201a8"
            ],
            [
             0.3333333333333333,
             "#9c179e"
            ],
            [
             0.4444444444444444,
             "#bd3786"
            ],
            [
             0.5555555555555556,
             "#d8576b"
            ],
            [
             0.6666666666666666,
             "#ed7953"
            ],
            [
             0.7777777777777778,
             "#fb9f3a"
            ],
            [
             0.8888888888888888,
             "#fdca26"
            ],
            [
             1,
             "#f0f921"
            ]
           ],
           "sequentialminus": [
            [
             0,
             "#0d0887"
            ],
            [
             0.1111111111111111,
             "#46039f"
            ],
            [
             0.2222222222222222,
             "#7201a8"
            ],
            [
             0.3333333333333333,
             "#9c179e"
            ],
            [
             0.4444444444444444,
             "#bd3786"
            ],
            [
             0.5555555555555556,
             "#d8576b"
            ],
            [
             0.6666666666666666,
             "#ed7953"
            ],
            [
             0.7777777777777778,
             "#fb9f3a"
            ],
            [
             0.8888888888888888,
             "#fdca26"
            ],
            [
             1,
             "#f0f921"
            ]
           ]
          },
          "colorway": [
           "#636efa",
           "#EF553B",
           "#00cc96",
           "#ab63fa",
           "#FFA15A",
           "#19d3f3",
           "#FF6692",
           "#B6E880",
           "#FF97FF",
           "#FECB52"
          ],
          "font": {
           "color": "#2a3f5f"
          },
          "geo": {
           "bgcolor": "white",
           "lakecolor": "white",
           "landcolor": "#E5ECF6",
           "showlakes": true,
           "showland": true,
           "subunitcolor": "white"
          },
          "hoverlabel": {
           "align": "left"
          },
          "hovermode": "closest",
          "mapbox": {
           "style": "light"
          },
          "paper_bgcolor": "white",
          "plot_bgcolor": "#E5ECF6",
          "polar": {
           "angularaxis": {
            "gridcolor": "white",
            "linecolor": "white",
            "ticks": ""
           },
           "bgcolor": "#E5ECF6",
           "radialaxis": {
            "gridcolor": "white",
            "linecolor": "white",
            "ticks": ""
           }
          },
          "scene": {
           "xaxis": {
            "backgroundcolor": "#E5ECF6",
            "gridcolor": "white",
            "gridwidth": 2,
            "linecolor": "white",
            "showbackground": true,
            "ticks": "",
            "zerolinecolor": "white"
           },
           "yaxis": {
            "backgroundcolor": "#E5ECF6",
            "gridcolor": "white",
            "gridwidth": 2,
            "linecolor": "white",
            "showbackground": true,
            "ticks": "",
            "zerolinecolor": "white"
           },
           "zaxis": {
            "backgroundcolor": "#E5ECF6",
            "gridcolor": "white",
            "gridwidth": 2,
            "linecolor": "white",
            "showbackground": true,
            "ticks": "",
            "zerolinecolor": "white"
           }
          },
          "shapedefaults": {
           "line": {
            "color": "#2a3f5f"
           }
          },
          "ternary": {
           "aaxis": {
            "gridcolor": "white",
            "linecolor": "white",
            "ticks": ""
           },
           "baxis": {
            "gridcolor": "white",
            "linecolor": "white",
            "ticks": ""
           },
           "bgcolor": "#E5ECF6",
           "caxis": {
            "gridcolor": "white",
            "linecolor": "white",
            "ticks": ""
           }
          },
          "title": {
           "x": 0.05
          },
          "xaxis": {
           "automargin": true,
           "gridcolor": "white",
           "linecolor": "white",
           "ticks": "",
           "title": {
            "standoff": 15
           },
           "zerolinecolor": "white",
           "zerolinewidth": 2
          },
          "yaxis": {
           "automargin": true,
           "gridcolor": "white",
           "linecolor": "white",
           "ticks": "",
           "title": {
            "standoff": 15
           },
           "zerolinecolor": "white",
           "zerolinewidth": 2
          }
         }
        },
        "title": {
         "text": "Top 5 GDP Sectors (Grouped) - Indonesia 2018"
        },
        "width": 800
       }
      },
      "image/png": "[encoded data removed]",
      "text/html": [
       "<div>                            <div id=\"aec7b5d1-82a1-4dde-ae09-78c8d5a6ca78\" class=\"plotly-graph-div\" style=\"height:800px; width:800px;\"></div>            <script type=\"text/javascript\">                require([\"plotly\"], function(Plotly) {                    window.PLOTLYENV=window.PLOTLYENV || {};                                    if (document.getElementById(\"aec7b5d1-82a1-4dde-ae09-78c8d5a6ca78\")) {                    Plotly.newPlot(                        \"aec7b5d1-82a1-4dde-ae09-78c8d5a6ca78\",                        [{\"branchvalues\":\"total\",\"customdata\":[[\"13%\"],[\"11%\"],[\"21%\"],[\"9%\"],[\"29%\"],[\"16%\"]],\"domain\":{\"x\":[0.0,1.0],\"y\":[0.0,1.0]},\"hovertemplate\":\"labels=%{label}\\u003cbr\\u003eVA18_sum=%{value}\\u003cbr\\u003eparent=%{parent}\\u003cbr\\u003eid=%{id}\\u003cbr\\u003eVA18=%{color}\\u003cextra\\u003e\\u003c\\u002fextra\\u003e\",\"ids\":[\"Agriculture, Forestry and Fishing\",\"Construction\",\"Manufacturing\",\"Mining and Quarrying\",\"Remaining Sectors\",\"Wholesale and Retail Trade\"],\"labels\":[\"Agriculture, Forestry and Fishing\",\"Construction\",\"Manufacturing\",\"Mining and Quarrying\",\"Remaining Sectors\",\"Wholesale and Retail Trade\"],\"marker\":{\"coloraxis\":\"coloraxis\",\"colors\":[118390.96049021714,96905.90922598261,186262.09204497724,77953.81628136997,260001.4889437846,142992.34714071464]},\"name\":\"\",\"parents\":[\"\",\"\",\"\",\"\",\"\",\"\"],\"values\":[118390.96049021714,96905.90922598261,186262.09204497727,77953.81628136997,260001.4889437846,142992.34714071464],\"type\":\"treemap\",\"textinfo\":\"label+value+text\",\"texttemplate\":\"%{label}\\u003cbr\\u003e\\u20ac%{value:,.0f} million\\u003cbr\\u003e%{customdata}\"}],                        {\"template\":{\"data\":{\"histogram2dcontour\":[{\"type\":\"histogram2dcontour\",\"colorbar\":{\"outlinewidth\":0,\"ticks\":\"\"},\"colorscale\":[[0.0,\"#0d0887\"],[0.1111111111111111,\"#46039f\"],[0.2222222222222222,\"#7201a8\"],[0.3333333333333333,\"#9c179e\"],[0.4444444444444444,\"#bd3786\"],[0.5555555555555556,\"#d8576b\"],[0.6666666666666666,\"#ed7953\"],[0.7777777777777778,\"#fb9f3a\"],[0.8888888888888888,\"#fdca26\"],[1.0,\"#f0f921\"]]}],\"choropleth\":[{\"type\":\"choropleth\",\"colorbar\":{\"outlinewidth\":0,\"ticks\":\"\"}}],\"histogram2d\":[{\"type\":\"histogram2d\",\"colorbar\":{\"outlinewidth\":0,\"ticks\":\"\"},\"colorscale\":[[0.0,\"#0d0887\"],[0.1111111111111111,\"#46039f\"],[0.2222222222222222,\"#7201a8\"],[0.3333333333333333,\"#9c179e\"],[0.4444444444444444,\"#bd3786\"],[0.5555555555555556,\"#d8576b\"],[0.6666666666666666,\"#ed7953\"],[0.7777777777777778,\"#fb9f3a\"],[0.8888888888888888,\"#fdca26\"],[1.0,\"#f0f921\"]]}],\"heatmap\":[{\"type\":\"heatmap\",\"colorbar\":{\"outlinewidth\":0,\"ticks\":\"\"},\"colorscale\":[[0.0,\"#0d0887\"],[0.1111111111111111,\"#46039f\"],[0.2222222222222222,\"#7201a8\"],[0.3333333333333333,\"#9c179e\"],[0.4444444444444444,\"#bd3786\"],[0.5555555555555556,\"#d8576b\"],[0.6666666666666666,\"#ed7953\"],[0.7777777777777778,\"#fb9f3a\"],[0.8888888888888888,\"#fdca26\"],[1.0,\"#f0f921\"]]}],\"heatmapgl\":[{\"type\":\"heatmapgl\",\"colorbar\":{\"outlinewidth\":0,\"ticks\":\"\"},\"colorscale\":[[0.0,\"#0d0887\"],[0.1111111111111111,\"#46039f\"],[0.2222222222222222,\"#7201a8\"],[0.3333333333333333,\"#9c179e\"],[0.4444444444444444,\"#bd3786\"],[0.5555555555555556,\"#d8576b\"],[0.6666666666666666,\"#ed7953\"],[0.7777777777777778,\"#fb9f3a\"],[0.8888888888888888,\"#fdca26\"],[1.0,\"#f0f921\"]]}],\"contourcarpet\":[{\"type\":\"contourcarpet\",\"colorbar\":{\"outlinewidth\":0,\"ticks\":\"\"}}],\"contour\":[{\"type\":\"contour\",\"colorbar\":{\"outlinewidth\":0,\"ticks\":\"\"},\"colorscale\":[[0.0,\"#0d0887\"],[0.1111111111111111,\"#46039f\"],[0.2222222222222222,\"#7201a8\"],[0.3333333333333333,\"#9c179e\"],[0.4444444444444444,\"#bd3786\"],[0.5555555555555556,\"#d8576b\"],[0.6666666666666666,\"#ed7953\"],[0.7777777777777778,\"#fb9f3a\"],[0.8888888888888888,\"#fdca26\"],[1.0,\"#f0f921\"]]}],\"surface\":[{\"type\":\"surface\",\"colorbar\":{\"outlinewidth\":0,\"ticks\":\"\"},\"colorscale\":[[0.0,\"#0d0887\"],[0.1111111111111111,\"#46039f\"],[0.2222222222222222,\"#7201a8\"],[0.3333333333333333,\"#9c179e\"],[0.4444444444444444,\"#bd3786\"],[0.5555555555555556,\"#d8576b\"],[0.6666666666666666,\"#ed7953\"],[0.7777777777777778,\"#fb9f3a\"],[0.8888888888888888,\"#fdca26\"],[1.0,\"#f0f921\"]]}],\"mesh3d\":[{\"type\":\"mesh3d\",\"colorbar\":{\"outlinewidth\":0,\"ticks\":\"\"}}],\"scatter\":[{\"fillpattern\":{\"fillmode\":\"overlay\",\"size\":10,\"solidity\":0.2},\"type\":\"scatter\"}],\"parcoords\":[{\"type\":\"parcoords\",\"line\":{\"colorbar\":{\"outlinewidth\":0,\"ticks\":\"\"}}}],\"scatterpolargl\":[{\"type\":\"scatterpolargl\",\"marker\":{\"colorbar\":{\"outlinewidth\":0,\"ticks\":\"\"}}}],\"bar\":[{\"error_x\":{\"color\":\"#2a3f5f\"},\"error_y\":{\"color\":\"#2a3f5f\"},\"marker\":{\"line\":{\"color\":\"#E5ECF6\",\"width\":0.5},\"pattern\":{\"fillmode\":\"overlay\",\"size\":10,\"solidity\":0.2}},\"type\":\"bar\"}],\"scattergeo\":[{\"type\":\"scattergeo\",\"marker\":{\"colorbar\":{\"outlinewidth\":0,\"ticks\":\"\"}}}],\"scatterpolar\":[{\"type\":\"scatterpolar\",\"marker\":{\"colorbar\":{\"outlinewidth\":0,\"ticks\":\"\"}}}],\"histogram\":[{\"marker\":{\"pattern\":{\"fillmode\":\"overlay\",\"size\":10,\"solidity\":0.2}},\"type\":\"histogram\"}],\"scattergl\":[{\"type\":\"scattergl\",\"marker\":{\"colorbar\":{\"outlinewidth\":0,\"ticks\":\"\"}}}],\"scatter3d\":[{\"type\":\"scatter3d\",\"line\":{\"colorbar\":{\"outlinewidth\":0,\"ticks\":\"\"}},\"marker\":{\"colorbar\":{\"outlinewidth\":0,\"ticks\":\"\"}}}],\"scattermapbox\":[{\"type\":\"scattermapbox\",\"marker\":{\"colorbar\":{\"outlinewidth\":0,\"ticks\":\"\"}}}],\"scatterternary\":[{\"type\":\"scatterternary\",\"marker\":{\"colorbar\":{\"outlinewidth\":0,\"ticks\":\"\"}}}],\"scattercarpet\":[{\"type\":\"scattercarpet\",\"marker\":{\"colorbar\":{\"outlinewidth\":0,\"ticks\":\"\"}}}],\"carpet\":[{\"aaxis\":{\"endlinecolor\":\"#2a3f5f\",\"gridcolor\":\"white\",\"linecolor\":\"white\",\"minorgridcolor\":\"white\",\"startlinecolor\":\"#2a3f5f\"},\"baxis\":{\"endlinecolor\":\"#2a3f5f\",\"gridcolor\":\"white\",\"linecolor\":\"white\",\"minorgridcolor\":\"white\",\"startlinecolor\":\"#2a3f5f\"},\"type\":\"carpet\"}],\"table\":[{\"cells\":{\"fill\":{\"color\":\"#EBF0F8\"},\"line\":{\"color\":\"white\"}},\"header\":{\"fill\":{\"color\":\"#C8D4E3\"},\"line\":{\"color\":\"white\"}},\"type\":\"table\"}],\"barpolar\":[{\"marker\":{\"line\":{\"color\":\"#E5ECF6\",\"width\":0.5},\"pattern\":{\"fillmode\":\"overlay\",\"size\":10,\"solidity\":0.2}},\"type\":\"barpolar\"}],\"pie\":[{\"automargin\":true,\"type\":\"pie\"}]},\"layout\":{\"autotypenumbers\":\"strict\",\"colorway\":[\"#636efa\",\"#EF553B\",\"#00cc96\",\"#ab63fa\",\"#FFA15A\",\"#19d3f3\",\"#FF6692\",\"#B6E880\",\"#FF97FF\",\"#FECB52\"],\"font\":{\"color\":\"#2a3f5f\"},\"hovermode\":\"closest\",\"hoverlabel\":{\"align\":\"left\"},\"paper_bgcolor\":\"white\",\"plot_bgcolor\":\"#E5ECF6\",\"polar\":{\"bgcolor\":\"#E5ECF6\",\"angularaxis\":{\"gridcolor\":\"white\",\"linecolor\":\"white\",\"ticks\":\"\"},\"radialaxis\":{\"gridcolor\":\"white\",\"linecolor\":\"white\",\"ticks\":\"\"}},\"ternary\":{\"bgcolor\":\"#E5ECF6\",\"aaxis\":{\"gridcolor\":\"white\",\"linecolor\":\"white\",\"ticks\":\"\"},\"baxis\":{\"gridcolor\":\"white\",\"linecolor\":\"white\",\"ticks\":\"\"},\"caxis\":{\"gridcolor\":\"white\",\"linecolor\":\"white\",\"ticks\":\"\"}},\"coloraxis\":{\"colorbar\":{\"outlinewidth\":0,\"ticks\":\"\"}},\"colorscale\":{\"sequential\":[[0.0,\"#0d0887\"],[0.1111111111111111,\"#46039f\"],[0.2222222222222222,\"#7201a8\"],[0.3333333333333333,\"#9c179e\"],[0.4444444444444444,\"#bd3786\"],[0.5555555555555556,\"#d8576b\"],[0.6666666666666666,\"#ed7953\"],[0.7777777777777778,\"#fb9f3a\"],[0.8888888888888888,\"#fdca26\"],[1.0,\"#f0f921\"]],\"sequentialminus\":[[0.0,\"#0d0887\"],[0.1111111111111111,\"#46039f\"],[0.2222222222222222,\"#7201a8\"],[0.3333333333333333,\"#9c179e\"],[0.4444444444444444,\"#bd3786\"],[0.5555555555555556,\"#d8576b\"],[0.6666666666666666,\"#ed7953\"],[0.7777777777777778,\"#fb9f3a\"],[0.8888888888888888,\"#fdca26\"],[1.0,\"#f0f921\"]],\"diverging\":[[0,\"#8e0152\"],[0.1,\"#c51b7d\"],[0.2,\"#de77ae\"],[0.3,\"#f1b6da\"],[0.4,\"#fde0ef\"],[0.5,\"#f7f7f7\"],[0.6,\"#e6f5d0\"],[0.7,\"#b8e186\"],[0.8,\"#7fbc41\"],[0.9,\"#4d9221\"],[1,\"#276419\"]]},\"xaxis\":{\"gridcolor\":\"white\",\"linecolor\":\"white\",\"ticks\":\"\",\"title\":{\"standoff\":15},\"zerolinecolor\":\"white\",\"automargin\":true,\"zerolinewidth\":2},\"yaxis\":{\"gridcolor\":\"white\",\"linecolor\":\"white\",\"ticks\":\"\",\"title\":{\"standoff\":15},\"zerolinecolor\":\"white\",\"automargin\":true,\"zerolinewidth\":2},\"scene\":{\"xaxis\":{\"backgroundcolor\":\"#E5ECF6\",\"gridcolor\":\"white\",\"linecolor\":\"white\",\"showbackground\":true,\"ticks\":\"\",\"zerolinecolor\":\"white\",\"gridwidth\":2},\"yaxis\":{\"backgroundcolor\":\"#E5ECF6\",\"gridcolor\":\"white\",\"linecolor\":\"white\",\"showbackground\":true,\"ticks\":\"\",\"zerolinecolor\":\"white\",\"gridwidth\":2},\"zaxis\":{\"backgroundcolor\":\"#E5ECF6\",\"gridcolor\":\"white\",\"linecolor\":\"white\",\"showbackground\":true,\"ticks\":\"\",\"zerolinecolor\":\"white\",\"gridwidth\":2}},\"shapedefaults\":{\"line\":{\"color\":\"#2a3f5f\"}},\"annotationdefaults\":{\"arrowcolor\":\"#2a3f5f\",\"arrowhead\":0,\"arrowwidth\":1},\"geo\":{\"bgcolor\":\"white\",\"landcolor\":\"#E5ECF6\",\"subunitcolor\":\"white\",\"showland\":true,\"showlakes\":true,\"lakecolor\":\"white\"},\"title\":{\"x\":0.05},\"mapbox\":{\"style\":\"light\"}}},\"coloraxis\":{\"colorbar\":{\"title\":{\"text\":\"million \\u20ac\"}},\"colorscale\":[[0.0,\"rgb(247,251,255)\"],[0.125,\"rgb(222,235,247)\"],[0.25,\"rgb(198,219,239)\"],[0.375,\"rgb(158,202,225)\"],[0.5,\"rgb(107,174,214)\"],[0.625,\"rgb(66,146,198)\"],[0.75,\"rgb(33,113,181)\"],[0.875,\"rgb(8,81,156)\"],[1.0,\"rgb(8,48,107)\"]]},\"legend\":{\"tracegroupgap\":0},\"title\":{\"text\":\"Top 5 GDP Sectors (Grouped) - Indonesia 2018\"},\"margin\":{\"t\":50,\"l\":25,\"r\":25,\"b\":25},\"width\":800,\"height\":800},                        {\"responsive\": true}                    ).then(function(){\n",
       "                            \n",
       "var gd = document.getElementById('aec7b5d1-82a1-4dde-ae09-78c8d5a6ca78');\n",
       "var x = new MutationObserver(function (mutations, observer) {{\n",
       "        var display = window.getComputedStyle(gd).display;\n",
       "        if (!display || display === 'none') {{\n",
       "            console.log([gd, 'removed!']);\n",
       "            Plotly.purge(gd);\n",
       "            observer.disconnect();\n",
       "        }}\n",
       "}});\n",
       "\n",
       "// Listen for the removal of the full notebook cells\n",
       "var notebookContainer = gd.closest('#notebook-container');\n",
       "if (notebookContainer) {{\n",
       "    x.observe(notebookContainer, {childList: true});\n",
       "}}\n",
       "\n",
       "// Listen for the clearing of the current output cell\n",
       "var outputEl = gd.closest('.output');\n",
       "if (outputEl) {{\n",
       "    x.observe(outputEl, {childList: true});\n",
       "}}\n",
       "\n",
       "                        })                };                });            </script>        </div>"
      ]
     },
     "metadata": {},
     "output_type": "display_data"
    }
   ],
   "source": [
    "# Step 1: Sort by VA18 descending\n",
    "sorted_df_va_18 = aggregated_df_18.sort_values(by='VA18', ascending=False).reset_index(drop=True)\n",
    "\n",
    "# Step 2: Remove \"Other service activities\" from the sorted list\n",
    "cleaned_df_18 = sorted_df_va_18[sorted_df_va_18['Sector'] != 'Other Services Activities'].reset_index(drop=True)\n",
    "\n",
    "# Step 3: Take top 5 sectors (excluding \"Other service activities\")\n",
    "top_5_va_18 = cleaned_df_18.iloc[:5].copy()\n",
    "\n",
    "# Step 4: Sum the rest + \"Other service activities\"\n",
    "others_df_18 = pd.concat([cleaned_df_18.iloc[5:], \n",
    "                       sorted_df_va_18[sorted_df_va_18['Sector'] == 'Other Services Activities']])\n",
    "\n",
    "other_total_18 = others_df_18['VA18'].sum()\n",
    "other_row_18 = pd.DataFrame({'Sector': ['Remaining Sectors'], 'VA18': [other_total_18]})\n",
    "\n",
    "# Step 5: Combine into final dataframe\n",
    "final_df_18 = pd.concat([top_5_va_18, other_row_18], ignore_index=True)\n",
    "\n",
    "# Step 6: Calculate percentage column\n",
    "total_va_18 = final_df_18['VA18'].sum()\n",
    "\n",
    "# Manual percentages in correct order — must match final_df_18['Sector']\n",
    "ordered_percentages = ['13%', '11%', '21%', '9%', '29%', '16%']  # Match the current sector order\n",
    "# Assign directly to the DataFrame as a column\n",
    "final_df_18['ManualPercent'] = ordered_percentages\n",
    "\n",
    "# Create the treemap\n",
    "fig = px.treemap(\n",
    "    final_df_18, \n",
    "    path=['Sector'],\n",
    "    values='VA18',\n",
    "    title='Top 5 GDP Sectors (Grouped) - Indonesia 2018',\n",
    "    color='VA18',\n",
    "    color_continuous_scale='Blues'\n",
    ")\n",
    "\n",
    "# Update trace with correct label + value + manual percent\n",
    "fig.update_traces(\n",
    "    texttemplate=(\n",
    "        '%{label}' +                  # Sector name\n",
    "        '<br>€%{value:,.0f} million' +        # Value in €\n",
    "        '<br>%{customdata}'           # Manual percentage\n",
    "    ),\n",
    "    customdata=final_df_18[['ManualPercent']],  # Correctly ordered %s\n",
    "    textinfo='label+value+text'\n",
    ")\n",
    "\n",
    "fig.update_layout(\n",
    "    width=800,\n",
    "    height=800,\n",
    "    margin=dict(t=50, l=25, r=25, b=25),\n",
    "    coloraxis_colorbar=dict(title=\"million €\")\n",
    ")\n",
    "\n",
    "fig.show()"
   ]
  },
  {
   "cell_type": "code",
   "execution_count": 179,
   "id": "593a9ee5-6e4b-49b2-8b29-2d9656c61812",
   "metadata": {},
   "outputs": [
    {
     "data": {
      "application/vnd.plotly.v1+json": {
       "config": {
        "plotlyServerURL": "https://plot.ly"
       },
       "data": [
        {
         "branchvalues": "total",
         "customdata": [
          [
           "13%"
          ],
          [
           "11%"
          ],
          [
           "22%"
          ],
          [
           "7%"
          ],
          [
           "30%"
          ],
          [
           "16%"
          ]
         ],
         "domain": {
          "x": [
           0,
           1
          ],
          "y": [
           0,
           1
          ]
         },
         "hovertemplate": "labels=%{label}<br>VA22_sum=%{value}<br>parent=%{parent}<br>id=%{id}<br>VA22=%{color}<extra></extra>",
         "ids": [
          "Agriculture, Forestry and Fishing",
          "Construction",
          "Manufacturing",
          "Mining and Quarrying",
          "Remaining Sectors",
          "Wholesale and Retail Trade"
         ],
         "labels": [
          "Agriculture, Forestry and Fishing",
          "Construction",
          "Manufacturing",
          "Mining and Quarrying",
          "Remaining Sectors",
          "Wholesale and Retail Trade"
         ],
         "marker": {
          "coloraxis": "coloraxis",
          "colors": [
           155171.1076812167,
           130585.04076522097,
           255695.09728423948,
           84081.93154428579,
           349810.173947826,
           188641.50120603386
          ]
         },
         "name": "",
         "parents": [
          "",
          "",
          "",
          "",
          "",
          ""
         ],
         "textinfo": "label+value+text",
         "texttemplate": "%{label}<br>€%{value:,.0f} million<br>%{customdata}",
         "type": "treemap",
         "values": [
          155171.1076812167,
          130585.04076522097,
          255695.09728423948,
          84081.93154428579,
          349810.173947826,
          188641.50120603386
         ]
        }
       ],
       "layout": {
        "coloraxis": {
         "colorbar": {
          "title": {
           "text": "million €"
          }
         },
         "colorscale": [
          [
           0,
           "rgb(247,251,255)"
          ],
          [
           0.125,
           "rgb(222,235,247)"
          ],
          [
           0.25,
           "rgb(198,219,239)"
          ],
          [
           0.375,
           "rgb(158,202,225)"
          ],
          [
           0.5,
           "rgb(107,174,214)"
          ],
          [
           0.625,
           "rgb(66,146,198)"
          ],
          [
           0.75,
           "rgb(33,113,181)"
          ],
          [
           0.875,
           "rgb(8,81,156)"
          ],
          [
           1,
           "rgb(8,48,107)"
          ]
         ]
        },
        "height": 800,
        "legend": {
         "tracegroupgap": 0
        },
        "margin": {
         "b": 25,
         "l": 25,
         "r": 25,
         "t": 50
        },
        "template": {
         "data": {
          "bar": [
           {
            "error_x": {
             "color": "#2a3f5f"
            },
            "error_y": {
             "color": "#2a3f5f"
            },
            "marker": {
             "line": {
              "color": "#E5ECF6",
              "width": 0.5
             },
             "pattern": {
              "fillmode": "overlay",
              "size": 10,
              "solidity": 0.2
             }
            },
            "type": "bar"
           }
          ],
          "barpolar": [
           {
            "marker": {
             "line": {
              "color": "#E5ECF6",
              "width": 0.5
             },
             "pattern": {
              "fillmode": "overlay",
              "size": 10,
              "solidity": 0.2
             }
            },
            "type": "barpolar"
           }
          ],
          "carpet": [
           {
            "aaxis": {
             "endlinecolor": "#2a3f5f",
             "gridcolor": "white",
             "linecolor": "white",
             "minorgridcolor": "white",
             "startlinecolor": "#2a3f5f"
            },
            "baxis": {
             "endlinecolor": "#2a3f5f",
             "gridcolor": "white",
             "linecolor": "white",
             "minorgridcolor": "white",
             "startlinecolor": "#2a3f5f"
            },
            "type": "carpet"
           }
          ],
          "choropleth": [
           {
            "colorbar": {
             "outlinewidth": 0,
             "ticks": ""
            },
            "type": "choropleth"
           }
          ],
          "contour": [
           {
            "colorbar": {
             "outlinewidth": 0,
             "ticks": ""
            },
            "colorscale": [
             [
              0,
              "#0d0887"
             ],
             [
              0.1111111111111111,
              "#46039f"
             ],
             [
              0.2222222222222222,
              "#7201a8"
             ],
             [
              0.3333333333333333,
              "#9c179e"
             ],
             [
              0.4444444444444444,
              "#bd3786"
             ],
             [
              0.5555555555555556,
              "#d8576b"
             ],
             [
              0.6666666666666666,
              "#ed7953"
             ],
             [
              0.7777777777777778,
              "#fb9f3a"
             ],
             [
              0.8888888888888888,
              "#fdca26"
             ],
             [
              1,
              "#f0f921"
             ]
            ],
            "type": "contour"
           }
          ],
          "contourcarpet": [
           {
            "colorbar": {
             "outlinewidth": 0,
             "ticks": ""
            },
            "type": "contourcarpet"
           }
          ],
          "heatmap": [
           {
            "colorbar": {
             "outlinewidth": 0,
             "ticks": ""
            },
            "colorscale": [
             [
              0,
              "#0d0887"
             ],
             [
              0.1111111111111111,
              "#46039f"
             ],
             [
              0.2222222222222222,
              "#7201a8"
             ],
             [
              0.3333333333333333,
              "#9c179e"
             ],
             [
              0.4444444444444444,
              "#bd3786"
             ],
             [
              0.5555555555555556,
              "#d8576b"
             ],
             [
              0.6666666666666666,
              "#ed7953"
             ],
             [
              0.7777777777777778,
              "#fb9f3a"
             ],
             [
              0.8888888888888888,
              "#fdca26"
             ],
             [
              1,
              "#f0f921"
             ]
            ],
            "type": "heatmap"
           }
          ],
          "heatmapgl": [
           {
            "colorbar": {
             "outlinewidth": 0,
             "ticks": ""
            },
            "colorscale": [
             [
              0,
              "#0d0887"
             ],
             [
              0.1111111111111111,
              "#46039f"
             ],
             [
              0.2222222222222222,
              "#7201a8"
             ],
             [
              0.3333333333333333,
              "#9c179e"
             ],
             [
              0.4444444444444444,
              "#bd3786"
             ],
             [
              0.5555555555555556,
              "#d8576b"
             ],
             [
              0.6666666666666666,
              "#ed7953"
             ],
             [
              0.7777777777777778,
              "#fb9f3a"
             ],
             [
              0.8888888888888888,
              "#fdca26"
             ],
             [
              1,
              "#f0f921"
             ]
            ],
            "type": "heatmapgl"
           }
          ],
          "histogram": [
           {
            "marker": {
             "pattern": {
              "fillmode": "overlay",
              "size": 10,
              "solidity": 0.2
             }
            },
            "type": "histogram"
           }
          ],
          "histogram2d": [
           {
            "colorbar": {
             "outlinewidth": 0,
             "ticks": ""
            },
            "colorscale": [
             [
              0,
              "#0d0887"
             ],
             [
              0.1111111111111111,
              "#46039f"
             ],
             [
              0.2222222222222222,
              "#7201a8"
             ],
             [
              0.3333333333333333,
              "#9c179e"
             ],
             [
              0.4444444444444444,
              "#bd3786"
             ],
             [
              0.5555555555555556,
              "#d8576b"
             ],
             [
              0.6666666666666666,
              "#ed7953"
             ],
             [
              0.7777777777777778,
              "#fb9f3a"
             ],
             [
              0.8888888888888888,
              "#fdca26"
             ],
             [
              1,
              "#f0f921"
             ]
            ],
            "type": "histogram2d"
           }
          ],
          "histogram2dcontour": [
           {
            "colorbar": {
             "outlinewidth": 0,
             "ticks": ""
            },
            "colorscale": [
             [
              0,
              "#0d0887"
             ],
             [
              0.1111111111111111,
              "#46039f"
             ],
             [
              0.2222222222222222,
              "#7201a8"
             ],
             [
              0.3333333333333333,
              "#9c179e"
             ],
             [
              0.4444444444444444,
              "#bd3786"
             ],
             [
              0.5555555555555556,
              "#d8576b"
             ],
             [
              0.6666666666666666,
              "#ed7953"
             ],
             [
              0.7777777777777778,
              "#fb9f3a"
             ],
             [
              0.8888888888888888,
              "#fdca26"
             ],
             [
              1,
              "#f0f921"
             ]
            ],
            "type": "histogram2dcontour"
           }
          ],
          "mesh3d": [
           {
            "colorbar": {
             "outlinewidth": 0,
             "ticks": ""
            },
            "type": "mesh3d"
           }
          ],
          "parcoords": [
           {
            "line": {
             "colorbar": {
              "outlinewidth": 0,
              "ticks": ""
             }
            },
            "type": "parcoords"
           }
          ],
          "pie": [
           {
            "automargin": true,
            "type": "pie"
           }
          ],
          "scatter": [
           {
            "fillpattern": {
             "fillmode": "overlay",
             "size": 10,
             "solidity": 0.2
            },
            "type": "scatter"
           }
          ],
          "scatter3d": [
           {
            "line": {
             "colorbar": {
              "outlinewidth": 0,
              "ticks": ""
             }
            },
            "marker": {
             "colorbar": {
              "outlinewidth": 0,
              "ticks": ""
             }
            },
            "type": "scatter3d"
           }
          ],
          "scattercarpet": [
           {
            "marker": {
             "colorbar": {
              "outlinewidth": 0,
              "ticks": ""
             }
            },
            "type": "scattercarpet"
           }
          ],
          "scattergeo": [
           {
            "marker": {
             "colorbar": {
              "outlinewidth": 0,
              "ticks": ""
             }
            },
            "type": "scattergeo"
           }
          ],
          "scattergl": [
           {
            "marker": {
             "colorbar": {
              "outlinewidth": 0,
              "ticks": ""
             }
            },
            "type": "scattergl"
           }
          ],
          "scattermapbox": [
           {
            "marker": {
             "colorbar": {
              "outlinewidth": 0,
              "ticks": ""
             }
            },
            "type": "scattermapbox"
           }
          ],
          "scatterpolar": [
           {
            "marker": {
             "colorbar": {
              "outlinewidth": 0,
              "ticks": ""
             }
            },
            "type": "scatterpolar"
           }
          ],
          "scatterpolargl": [
           {
            "marker": {
             "colorbar": {
              "outlinewidth": 0,
              "ticks": ""
             }
            },
            "type": "scatterpolargl"
           }
          ],
          "scatterternary": [
           {
            "marker": {
             "colorbar": {
              "outlinewidth": 0,
              "ticks": ""
             }
            },
            "type": "scatterternary"
           }
          ],
          "surface": [
           {
            "colorbar": {
             "outlinewidth": 0,
             "ticks": ""
            },
            "colorscale": [
             [
              0,
              "#0d0887"
             ],
             [
              0.1111111111111111,
              "#46039f"
             ],
             [
              0.2222222222222222,
              "#7201a8"
             ],
             [
              0.3333333333333333,
              "#9c179e"
             ],
             [
              0.4444444444444444,
              "#bd3786"
             ],
             [
              0.5555555555555556,
              "#d8576b"
             ],
             [
              0.6666666666666666,
              "#ed7953"
             ],
             [
              0.7777777777777778,
              "#fb9f3a"
             ],
             [
              0.8888888888888888,
              "#fdca26"
             ],
             [
              1,
              "#f0f921"
             ]
            ],
            "type": "surface"
           }
          ],
          "table": [
           {
            "cells": {
             "fill": {
              "color": "#EBF0F8"
             },
             "line": {
              "color": "white"
             }
            },
            "header": {
             "fill": {
              "color": "#C8D4E3"
             },
             "line": {
              "color": "white"
             }
            },
            "type": "table"
           }
          ]
         },
         "layout": {
          "annotationdefaults": {
           "arrowcolor": "#2a3f5f",
           "arrowhead": 0,
           "arrowwidth": 1
          },
          "autotypenumbers": "strict",
          "coloraxis": {
           "colorbar": {
            "outlinewidth": 0,
            "ticks": ""
           }
          },
          "colorscale": {
           "diverging": [
            [
             0,
             "#8e0152"
            ],
            [
             0.1,
             "#c51b7d"
            ],
            [
             0.2,
             "#de77ae"
            ],
            [
             0.3,
             "#f1b6da"
            ],
            [
             0.4,
             "#fde0ef"
            ],
            [
             0.5,
             "#f7f7f7"
            ],
            [
             0.6,
             "#e6f5d0"
            ],
            [
             0.7,
             "#b8e186"
            ],
            [
             0.8,
             "#7fbc41"
            ],
            [
             0.9,
             "#4d9221"
            ],
            [
             1,
             "#276419"
            ]
           ],
           "sequential": [
            [
             0,
             "#0d0887"
            ],
            [
             0.1111111111111111,
             "#46039f"
            ],
            [
             0.2222222222222222,
             "#7201a8"
            ],
            [
             0.3333333333333333,
             "#9c179e"
            ],
            [
             0.4444444444444444,
             "#bd3786"
            ],
            [
             0.5555555555555556,
             "#d8576b"
            ],
            [
             0.6666666666666666,
             "#ed7953"
            ],
            [
             0.7777777777777778,
             "#fb9f3a"
            ],
            [
             0.8888888888888888,
             "#fdca26"
            ],
            [
             1,
             "#f0f921"
            ]
           ],
           "sequentialminus": [
            [
             0,
             "#0d0887"
            ],
            [
             0.1111111111111111,
             "#46039f"
            ],
            [
             0.2222222222222222,
             "#7201a8"
            ],
            [
             0.3333333333333333,
             "#9c179e"
            ],
            [
             0.4444444444444444,
             "#bd3786"
            ],
            [
             0.5555555555555556,
             "#d8576b"
            ],
            [
             0.6666666666666666,
             "#ed7953"
            ],
            [
             0.7777777777777778,
             "#fb9f3a"
            ],
            [
             0.8888888888888888,
             "#fdca26"
            ],
            [
             1,
             "#f0f921"
            ]
           ]
          },
          "colorway": [
           "#636efa",
           "#EF553B",
           "#00cc96",
           "#ab63fa",
           "#FFA15A",
           "#19d3f3",
           "#FF6692",
           "#B6E880",
           "#FF97FF",
           "#FECB52"
          ],
          "font": {
           "color": "#2a3f5f"
          },
          "geo": {
           "bgcolor": "white",
           "lakecolor": "white",
           "landcolor": "#E5ECF6",
           "showlakes": true,
           "showland": true,
           "subunitcolor": "white"
          },
          "hoverlabel": {
           "align": "left"
          },
          "hovermode": "closest",
          "mapbox": {
           "style": "light"
          },
          "paper_bgcolor": "white",
          "plot_bgcolor": "#E5ECF6",
          "polar": {
           "angularaxis": {
            "gridcolor": "white",
            "linecolor": "white",
            "ticks": ""
           },
           "bgcolor": "#E5ECF6",
           "radialaxis": {
            "gridcolor": "white",
            "linecolor": "white",
            "ticks": ""
           }
          },
          "scene": {
           "xaxis": {
            "backgroundcolor": "#E5ECF6",
            "gridcolor": "white",
            "gridwidth": 2,
            "linecolor": "white",
            "showbackground": true,
            "ticks": "",
            "zerolinecolor": "white"
           },
           "yaxis": {
            "backgroundcolor": "#E5ECF6",
            "gridcolor": "white",
            "gridwidth": 2,
            "linecolor": "white",
            "showbackground": true,
            "ticks": "",
            "zerolinecolor": "white"
           },
           "zaxis": {
            "backgroundcolor": "#E5ECF6",
            "gridcolor": "white",
            "gridwidth": 2,
            "linecolor": "white",
            "showbackground": true,
            "ticks": "",
            "zerolinecolor": "white"
           }
          },
          "shapedefaults": {
           "line": {
            "color": "#2a3f5f"
           }
          },
          "ternary": {
           "aaxis": {
            "gridcolor": "white",
            "linecolor": "white",
            "ticks": ""
           },
           "baxis": {
            "gridcolor": "white",
            "linecolor": "white",
            "ticks": ""
           },
           "bgcolor": "#E5ECF6",
           "caxis": {
            "gridcolor": "white",
            "linecolor": "white",
            "ticks": ""
           }
          },
          "title": {
           "x": 0.05
          },
          "xaxis": {
           "automargin": true,
           "gridcolor": "white",
           "linecolor": "white",
           "ticks": "",
           "title": {
            "standoff": 15
           },
           "zerolinecolor": "white",
           "zerolinewidth": 2
          },
          "yaxis": {
           "automargin": true,
           "gridcolor": "white",
           "linecolor": "white",
           "ticks": "",
           "title": {
            "standoff": 15
           },
           "zerolinecolor": "white",
           "zerolinewidth": 2
          }
         }
        },
        "title": {
         "text": "Top 5 GDP Sectors (Grouped) - Indonesia 2022"
        },
        "width": 800
       }
      },
      "image/png": "[encoded data removed]",
      "text/html": [
       "<div>                            <div id=\"6a9c5a83-4dc4-4de0-958c-02591fa9a1cd\" class=\"plotly-graph-div\" style=\"height:800px; width:800px;\"></div>            <script type=\"text/javascript\">                require([\"plotly\"], function(Plotly) {                    window.PLOTLYENV=window.PLOTLYENV || {};                                    if (document.getElementById(\"6a9c5a83-4dc4-4de0-958c-02591fa9a1cd\")) {                    Plotly.newPlot(                        \"6a9c5a83-4dc4-4de0-958c-02591fa9a1cd\",                        [{\"branchvalues\":\"total\",\"customdata\":[[\"13%\"],[\"11%\"],[\"22%\"],[\"7%\"],[\"30%\"],[\"16%\"]],\"domain\":{\"x\":[0.0,1.0],\"y\":[0.0,1.0]},\"hovertemplate\":\"labels=%{label}\\u003cbr\\u003eVA22_sum=%{value}\\u003cbr\\u003eparent=%{parent}\\u003cbr\\u003eid=%{id}\\u003cbr\\u003eVA22=%{color}\\u003cextra\\u003e\\u003c\\u002fextra\\u003e\",\"ids\":[\"Agriculture, Forestry and Fishing\",\"Construction\",\"Manufacturing\",\"Mining and Quarrying\",\"Remaining Sectors\",\"Wholesale and Retail Trade\"],\"labels\":[\"Agriculture, Forestry and Fishing\",\"Construction\",\"Manufacturing\",\"Mining and Quarrying\",\"Remaining Sectors\",\"Wholesale and Retail Trade\"],\"marker\":{\"coloraxis\":\"coloraxis\",\"colors\":[155171.1076812167,130585.04076522097,255695.09728423948,84081.93154428579,349810.173947826,188641.50120603386]},\"name\":\"\",\"parents\":[\"\",\"\",\"\",\"\",\"\",\"\"],\"values\":[155171.1076812167,130585.04076522097,255695.09728423948,84081.93154428579,349810.173947826,188641.50120603386],\"type\":\"treemap\",\"textinfo\":\"label+value+text\",\"texttemplate\":\"%{label}\\u003cbr\\u003e\\u20ac%{value:,.0f} million\\u003cbr\\u003e%{customdata}\"}],                        {\"template\":{\"data\":{\"histogram2dcontour\":[{\"type\":\"histogram2dcontour\",\"colorbar\":{\"outlinewidth\":0,\"ticks\":\"\"},\"colorscale\":[[0.0,\"#0d0887\"],[0.1111111111111111,\"#46039f\"],[0.2222222222222222,\"#7201a8\"],[0.3333333333333333,\"#9c179e\"],[0.4444444444444444,\"#bd3786\"],[0.5555555555555556,\"#d8576b\"],[0.6666666666666666,\"#ed7953\"],[0.7777777777777778,\"#fb9f3a\"],[0.8888888888888888,\"#fdca26\"],[1.0,\"#f0f921\"]]}],\"choropleth\":[{\"type\":\"choropleth\",\"colorbar\":{\"outlinewidth\":0,\"ticks\":\"\"}}],\"histogram2d\":[{\"type\":\"histogram2d\",\"colorbar\":{\"outlinewidth\":0,\"ticks\":\"\"},\"colorscale\":[[0.0,\"#0d0887\"],[0.1111111111111111,\"#46039f\"],[0.2222222222222222,\"#7201a8\"],[0.3333333333333333,\"#9c179e\"],[0.4444444444444444,\"#bd3786\"],[0.5555555555555556,\"#d8576b\"],[0.6666666666666666,\"#ed7953\"],[0.7777777777777778,\"#fb9f3a\"],[0.8888888888888888,\"#fdca26\"],[1.0,\"#f0f921\"]]}],\"heatmap\":[{\"type\":\"heatmap\",\"colorbar\":{\"outlinewidth\":0,\"ticks\":\"\"},\"colorscale\":[[0.0,\"#0d0887\"],[0.1111111111111111,\"#46039f\"],[0.2222222222222222,\"#7201a8\"],[0.3333333333333333,\"#9c179e\"],[0.4444444444444444,\"#bd3786\"],[0.5555555555555556,\"#d8576b\"],[0.6666666666666666,\"#ed7953\"],[0.7777777777777778,\"#fb9f3a\"],[0.8888888888888888,\"#fdca26\"],[1.0,\"#f0f921\"]]}],\"heatmapgl\":[{\"type\":\"heatmapgl\",\"colorbar\":{\"outlinewidth\":0,\"ticks\":\"\"},\"colorscale\":[[0.0,\"#0d0887\"],[0.1111111111111111,\"#46039f\"],[0.2222222222222222,\"#7201a8\"],[0.3333333333333333,\"#9c179e\"],[0.4444444444444444,\"#bd3786\"],[0.5555555555555556,\"#d8576b\"],[0.6666666666666666,\"#ed7953\"],[0.7777777777777778,\"#fb9f3a\"],[0.8888888888888888,\"#fdca26\"],[1.0,\"#f0f921\"]]}],\"contourcarpet\":[{\"type\":\"contourcarpet\",\"colorbar\":{\"outlinewidth\":0,\"ticks\":\"\"}}],\"contour\":[{\"type\":\"contour\",\"colorbar\":{\"outlinewidth\":0,\"ticks\":\"\"},\"colorscale\":[[0.0,\"#0d0887\"],[0.1111111111111111,\"#46039f\"],[0.2222222222222222,\"#7201a8\"],[0.3333333333333333,\"#9c179e\"],[0.4444444444444444,\"#bd3786\"],[0.5555555555555556,\"#d8576b\"],[0.6666666666666666,\"#ed7953\"],[0.7777777777777778,\"#fb9f3a\"],[0.8888888888888888,\"#fdca26\"],[1.0,\"#f0f921\"]]}],\"surface\":[{\"type\":\"surface\",\"colorbar\":{\"outlinewidth\":0,\"ticks\":\"\"},\"colorscale\":[[0.0,\"#0d0887\"],[0.1111111111111111,\"#46039f\"],[0.2222222222222222,\"#7201a8\"],[0.3333333333333333,\"#9c179e\"],[0.4444444444444444,\"#bd3786\"],[0.5555555555555556,\"#d8576b\"],[0.6666666666666666,\"#ed7953\"],[0.7777777777777778,\"#fb9f3a\"],[0.8888888888888888,\"#fdca26\"],[1.0,\"#f0f921\"]]}],\"mesh3d\":[{\"type\":\"mesh3d\",\"colorbar\":{\"outlinewidth\":0,\"ticks\":\"\"}}],\"scatter\":[{\"fillpattern\":{\"fillmode\":\"overlay\",\"size\":10,\"solidity\":0.2},\"type\":\"scatter\"}],\"parcoords\":[{\"type\":\"parcoords\",\"line\":{\"colorbar\":{\"outlinewidth\":0,\"ticks\":\"\"}}}],\"scatterpolargl\":[{\"type\":\"scatterpolargl\",\"marker\":{\"colorbar\":{\"outlinewidth\":0,\"ticks\":\"\"}}}],\"bar\":[{\"error_x\":{\"color\":\"#2a3f5f\"},\"error_y\":{\"color\":\"#2a3f5f\"},\"marker\":{\"line\":{\"color\":\"#E5ECF6\",\"width\":0.5},\"pattern\":{\"fillmode\":\"overlay\",\"size\":10,\"solidity\":0.2}},\"type\":\"bar\"}],\"scattergeo\":[{\"type\":\"scattergeo\",\"marker\":{\"colorbar\":{\"outlinewidth\":0,\"ticks\":\"\"}}}],\"scatterpolar\":[{\"type\":\"scatterpolar\",\"marker\":{\"colorbar\":{\"outlinewidth\":0,\"ticks\":\"\"}}}],\"histogram\":[{\"marker\":{\"pattern\":{\"fillmode\":\"overlay\",\"size\":10,\"solidity\":0.2}},\"type\":\"histogram\"}],\"scattergl\":[{\"type\":\"scattergl\",\"marker\":{\"colorbar\":{\"outlinewidth\":0,\"ticks\":\"\"}}}],\"scatter3d\":[{\"type\":\"scatter3d\",\"line\":{\"colorbar\":{\"outlinewidth\":0,\"ticks\":\"\"}},\"marker\":{\"colorbar\":{\"outlinewidth\":0,\"ticks\":\"\"}}}],\"scattermapbox\":[{\"type\":\"scattermapbox\",\"marker\":{\"colorbar\":{\"outlinewidth\":0,\"ticks\":\"\"}}}],\"scatterternary\":[{\"type\":\"scatterternary\",\"marker\":{\"colorbar\":{\"outlinewidth\":0,\"ticks\":\"\"}}}],\"scattercarpet\":[{\"type\":\"scattercarpet\",\"marker\":{\"colorbar\":{\"outlinewidth\":0,\"ticks\":\"\"}}}],\"carpet\":[{\"aaxis\":{\"endlinecolor\":\"#2a3f5f\",\"gridcolor\":\"white\",\"linecolor\":\"white\",\"minorgridcolor\":\"white\",\"startlinecolor\":\"#2a3f5f\"},\"baxis\":{\"endlinecolor\":\"#2a3f5f\",\"gridcolor\":\"white\",\"linecolor\":\"white\",\"minorgridcolor\":\"white\",\"startlinecolor\":\"#2a3f5f\"},\"type\":\"carpet\"}],\"table\":[{\"cells\":{\"fill\":{\"color\":\"#EBF0F8\"},\"line\":{\"color\":\"white\"}},\"header\":{\"fill\":{\"color\":\"#C8D4E3\"},\"line\":{\"color\":\"white\"}},\"type\":\"table\"}],\"barpolar\":[{\"marker\":{\"line\":{\"color\":\"#E5ECF6\",\"width\":0.5},\"pattern\":{\"fillmode\":\"overlay\",\"size\":10,\"solidity\":0.2}},\"type\":\"barpolar\"}],\"pie\":[{\"automargin\":true,\"type\":\"pie\"}]},\"layout\":{\"autotypenumbers\":\"strict\",\"colorway\":[\"#636efa\",\"#EF553B\",\"#00cc96\",\"#ab63fa\",\"#FFA15A\",\"#19d3f3\",\"#FF6692\",\"#B6E880\",\"#FF97FF\",\"#FECB52\"],\"font\":{\"color\":\"#2a3f5f\"},\"hovermode\":\"closest\",\"hoverlabel\":{\"align\":\"left\"},\"paper_bgcolor\":\"white\",\"plot_bgcolor\":\"#E5ECF6\",\"polar\":{\"bgcolor\":\"#E5ECF6\",\"angularaxis\":{\"gridcolor\":\"white\",\"linecolor\":\"white\",\"ticks\":\"\"},\"radialaxis\":{\"gridcolor\":\"white\",\"linecolor\":\"white\",\"ticks\":\"\"}},\"ternary\":{\"bgcolor\":\"#E5ECF6\",\"aaxis\":{\"gridcolor\":\"white\",\"linecolor\":\"white\",\"ticks\":\"\"},\"baxis\":{\"gridcolor\":\"white\",\"linecolor\":\"white\",\"ticks\":\"\"},\"caxis\":{\"gridcolor\":\"white\",\"linecolor\":\"white\",\"ticks\":\"\"}},\"coloraxis\":{\"colorbar\":{\"outlinewidth\":0,\"ticks\":\"\"}},\"colorscale\":{\"sequential\":[[0.0,\"#0d0887\"],[0.1111111111111111,\"#46039f\"],[0.2222222222222222,\"#7201a8\"],[0.3333333333333333,\"#9c179e\"],[0.4444444444444444,\"#bd3786\"],[0.5555555555555556,\"#d8576b\"],[0.6666666666666666,\"#ed7953\"],[0.7777777777777778,\"#fb9f3a\"],[0.8888888888888888,\"#fdca26\"],[1.0,\"#f0f921\"]],\"sequentialminus\":[[0.0,\"#0d0887\"],[0.1111111111111111,\"#46039f\"],[0.2222222222222222,\"#7201a8\"],[0.3333333333333333,\"#9c179e\"],[0.4444444444444444,\"#bd3786\"],[0.5555555555555556,\"#d8576b\"],[0.6666666666666666,\"#ed7953\"],[0.7777777777777778,\"#fb9f3a\"],[0.8888888888888888,\"#fdca26\"],[1.0,\"#f0f921\"]],\"diverging\":[[0,\"#8e0152\"],[0.1,\"#c51b7d\"],[0.2,\"#de77ae\"],[0.3,\"#f1b6da\"],[0.4,\"#fde0ef\"],[0.5,\"#f7f7f7\"],[0.6,\"#e6f5d0\"],[0.7,\"#b8e186\"],[0.8,\"#7fbc41\"],[0.9,\"#4d9221\"],[1,\"#276419\"]]},\"xaxis\":{\"gridcolor\":\"white\",\"linecolor\":\"white\",\"ticks\":\"\",\"title\":{\"standoff\":15},\"zerolinecolor\":\"white\",\"automargin\":true,\"zerolinewidth\":2},\"yaxis\":{\"gridcolor\":\"white\",\"linecolor\":\"white\",\"ticks\":\"\",\"title\":{\"standoff\":15},\"zerolinecolor\":\"white\",\"automargin\":true,\"zerolinewidth\":2},\"scene\":{\"xaxis\":{\"backgroundcolor\":\"#E5ECF6\",\"gridcolor\":\"white\",\"linecolor\":\"white\",\"showbackground\":true,\"ticks\":\"\",\"zerolinecolor\":\"white\",\"gridwidth\":2},\"yaxis\":{\"backgroundcolor\":\"#E5ECF6\",\"gridcolor\":\"white\",\"linecolor\":\"white\",\"showbackground\":true,\"ticks\":\"\",\"zerolinecolor\":\"white\",\"gridwidth\":2},\"zaxis\":{\"backgroundcolor\":\"#E5ECF6\",\"gridcolor\":\"white\",\"linecolor\":\"white\",\"showbackground\":true,\"ticks\":\"\",\"zerolinecolor\":\"white\",\"gridwidth\":2}},\"shapedefaults\":{\"line\":{\"color\":\"#2a3f5f\"}},\"annotationdefaults\":{\"arrowcolor\":\"#2a3f5f\",\"arrowhead\":0,\"arrowwidth\":1},\"geo\":{\"bgcolor\":\"white\",\"landcolor\":\"#E5ECF6\",\"subunitcolor\":\"white\",\"showland\":true,\"showlakes\":true,\"lakecolor\":\"white\"},\"title\":{\"x\":0.05},\"mapbox\":{\"style\":\"light\"}}},\"coloraxis\":{\"colorbar\":{\"title\":{\"text\":\"million \\u20ac\"}},\"colorscale\":[[0.0,\"rgb(247,251,255)\"],[0.125,\"rgb(222,235,247)\"],[0.25,\"rgb(198,219,239)\"],[0.375,\"rgb(158,202,225)\"],[0.5,\"rgb(107,174,214)\"],[0.625,\"rgb(66,146,198)\"],[0.75,\"rgb(33,113,181)\"],[0.875,\"rgb(8,81,156)\"],[1.0,\"rgb(8,48,107)\"]]},\"legend\":{\"tracegroupgap\":0},\"title\":{\"text\":\"Top 5 GDP Sectors (Grouped) - Indonesia 2022\"},\"margin\":{\"t\":50,\"l\":25,\"r\":25,\"b\":25},\"width\":800,\"height\":800},                        {\"responsive\": true}                    ).then(function(){\n",
       "                            \n",
       "var gd = document.getElementById('6a9c5a83-4dc4-4de0-958c-02591fa9a1cd');\n",
       "var x = new MutationObserver(function (mutations, observer) {{\n",
       "        var display = window.getComputedStyle(gd).display;\n",
       "        if (!display || display === 'none') {{\n",
       "            console.log([gd, 'removed!']);\n",
       "            Plotly.purge(gd);\n",
       "            observer.disconnect();\n",
       "        }}\n",
       "}});\n",
       "\n",
       "// Listen for the removal of the full notebook cells\n",
       "var notebookContainer = gd.closest('#notebook-container');\n",
       "if (notebookContainer) {{\n",
       "    x.observe(notebookContainer, {childList: true});\n",
       "}}\n",
       "\n",
       "// Listen for the clearing of the current output cell\n",
       "var outputEl = gd.closest('.output');\n",
       "if (outputEl) {{\n",
       "    x.observe(outputEl, {childList: true});\n",
       "}}\n",
       "\n",
       "                        })                };                });            </script>        </div>"
      ]
     },
     "metadata": {},
     "output_type": "display_data"
    }
   ],
   "source": [
    "# Step 1: Sort by VA22 descending\n",
    "sorted_df_va_22 = aggregated_df_22.sort_values(by='VA22', ascending=False).reset_index(drop=True)\n",
    "\n",
    "# Step 2: Remove \"Other service activities\" from the sorted list\n",
    "cleaned_df = sorted_df_va_22[sorted_df_va_22['Sector'] != 'Other Services Activities'].reset_index(drop=True)\n",
    "\n",
    "# Step 3: Take top 5 sectors (excluding \"Other service activities\")\n",
    "top_5_va = cleaned_df.iloc[:5].copy()\n",
    "\n",
    "# Step 4: Sum the rest + \"Other service activities\"\n",
    "others_df = pd.concat([cleaned_df.iloc[5:], \n",
    "                       sorted_df_va_22[sorted_df_va_22['Sector'] == 'Other Services Activities']])\n",
    "\n",
    "other_total = others_df['VA22'].sum()\n",
    "other_row = pd.DataFrame({'Sector': ['Remaining Sectors'], 'VA22': [other_total]})\n",
    "\n",
    "# Step 5: Combine into final dataframe\n",
    "final_df = pd.concat([top_5_va, other_row], ignore_index=True)\n",
    "\n",
    "# Step 6: Calculate percentage column\n",
    "total_va = final_df['VA22'].sum()\n",
    "final_df['Percentage'] = (final_df['VA22'] / total_va * 100).round(1).astype(str) + '%'\n",
    "\n",
    "# Step 1: Make sure the manual percentages are in the correct order\n",
    "ordered_percentages_22 = ['13%', '11%', '22%', '7%', '30%', '16%']  # Match the order in final_df\n",
    "\n",
    "# Step 2: Assign as new column (used as customdata)\n",
    "final_df['ManualPercent'] = ordered_percentages_22\n",
    "\n",
    "# Step 3: Plot treemap\n",
    "fig = px.treemap(\n",
    "    final_df, \n",
    "    path=['Sector'], \n",
    "    values='VA22',\n",
    "    title='Top 5 GDP Sectors (Grouped) - Indonesia 2022',\n",
    "    color='VA22',\n",
    "    color_continuous_scale='Blues'\n",
    ")\n",
    "\n",
    "# Step 4: Format text: label, €value, and manual % (on separate lines)\n",
    "fig.update_traces(\n",
    "    texttemplate='%{label}<br>€%{value:,.0f} million<br>%{customdata}',\n",
    "    customdata=final_df[['ManualPercent']],\n",
    "    textinfo='label+value+text'\n",
    ")\n",
    "\n",
    "# Step 5: Layout cleanup\n",
    "fig.update_layout(\n",
    "    width=800,\n",
    "    height=800,\n",
    "    margin=dict(t=50, l=25, r=25, b=25),\n",
    "    coloraxis_colorbar=dict(title=\"million €\")\n",
    ")\n",
    "\n",
    "fig.show()"
   ]
  },
  {
   "cell_type": "code",
   "execution_count": 169,
   "id": "00ee178b-e074-41f0-a766-f92a51c0eb2d",
   "metadata": {},
   "outputs": [
    {
     "data": {
      "application/vnd.plotly.v1+json": {
       "config": {
        "plotlyServerURL": "https://plot.ly"
       },
       "data": [
        {
         "branchvalues": "total",
         "customdata": [
          [
           "23%"
          ],
          [
           "16%"
          ],
          [
           "13%"
          ],
          [
           "27%"
          ],
          [
           "15%"
          ],
          [
           "5%"
          ]
         ],
         "domain": {
          "x": [
           0,
           1
          ],
          "y": [
           0,
           1
          ]
         },
         "hovertemplate": "labels=%{label}<br>C2018_sum=%{value}<br>parent=%{parent}<br>id=%{id}<br>C2018=%{color}<extra></extra>",
         "ids": [
          "Agriculture, Forestry and Fishing",
          "Electricity and Gas",
          "Manufacturing",
          "Mining and Quarrying",
          "Remaining Sectors",
          "Transportation and Storage"
         ],
         "labels": [
          "Agriculture, Forestry and Fishing",
          "Electricity and Gas",
          "Manufacturing",
          "Mining and Quarrying",
          "Remaining Sectors",
          "Transportation and Storage"
         ],
         "marker": {
          "coloraxis": "coloraxis",
          "colors": [
           228568.5247059705,
           159342.82636741662,
           130566.4933275733,
           264873.1173996225,
           143825.0312785052,
           49363.50564513919
          ]
         },
         "name": "",
         "parents": [
          "",
          "",
          "",
          "",
          "",
          ""
         ],
         "textinfo": "label+value+text",
         "texttemplate": "%{label}<br>%{value:,.0f} ktCO₂e<br>%{customdata}",
         "type": "treemap",
         "values": [
          228568.5247059705,
          159342.82636741662,
          130566.4933275733,
          264873.1173996225,
          143825.0312785052,
          49363.50564513919
         ]
        }
       ],
       "layout": {
        "coloraxis": {
         "colorbar": {
          "title": {
           "text": "ktonne CO₂e"
          }
         },
         "colorscale": [
          [
           0,
           "rgb(247,251,255)"
          ],
          [
           0.125,
           "rgb(222,235,247)"
          ],
          [
           0.25,
           "rgb(198,219,239)"
          ],
          [
           0.375,
           "rgb(158,202,225)"
          ],
          [
           0.5,
           "rgb(107,174,214)"
          ],
          [
           0.625,
           "rgb(66,146,198)"
          ],
          [
           0.75,
           "rgb(33,113,181)"
          ],
          [
           0.875,
           "rgb(8,81,156)"
          ],
          [
           1,
           "rgb(8,48,107)"
          ]
         ]
        },
        "height": 800,
        "legend": {
         "tracegroupgap": 0
        },
        "margin": {
         "b": 25,
         "l": 25,
         "r": 25,
         "t": 50
        },
        "template": {
         "data": {
          "bar": [
           {
            "error_x": {
             "color": "#2a3f5f"
            },
            "error_y": {
             "color": "#2a3f5f"
            },
            "marker": {
             "line": {
              "color": "#E5ECF6",
              "width": 0.5
             },
             "pattern": {
              "fillmode": "overlay",
              "size": 10,
              "solidity": 0.2
             }
            },
            "type": "bar"
           }
          ],
          "barpolar": [
           {
            "marker": {
             "line": {
              "color": "#E5ECF6",
              "width": 0.5
             },
             "pattern": {
              "fillmode": "overlay",
              "size": 10,
              "solidity": 0.2
             }
            },
            "type": "barpolar"
           }
          ],
          "carpet": [
           {
            "aaxis": {
             "endlinecolor": "#2a3f5f",
             "gridcolor": "white",
             "linecolor": "white",
             "minorgridcolor": "white",
             "startlinecolor": "#2a3f5f"
            },
            "baxis": {
             "endlinecolor": "#2a3f5f",
             "gridcolor": "white",
             "linecolor": "white",
             "minorgridcolor": "white",
             "startlinecolor": "#2a3f5f"
            },
            "type": "carpet"
           }
          ],
          "choropleth": [
           {
            "colorbar": {
             "outlinewidth": 0,
             "ticks": ""
            },
            "type": "choropleth"
           }
          ],
          "contour": [
           {
            "colorbar": {
             "outlinewidth": 0,
             "ticks": ""
            },
            "colorscale": [
             [
              0,
              "#0d0887"
             ],
             [
              0.1111111111111111,
              "#46039f"
             ],
             [
              0.2222222222222222,
              "#7201a8"
             ],
             [
              0.3333333333333333,
              "#9c179e"
             ],
             [
              0.4444444444444444,
              "#bd3786"
             ],
             [
              0.5555555555555556,
              "#d8576b"
             ],
             [
              0.6666666666666666,
              "#ed7953"
             ],
             [
              0.7777777777777778,
              "#fb9f3a"
             ],
             [
              0.8888888888888888,
              "#fdca26"
             ],
             [
              1,
              "#f0f921"
             ]
            ],
            "type": "contour"
           }
          ],
          "contourcarpet": [
           {
            "colorbar": {
             "outlinewidth": 0,
             "ticks": ""
            },
            "type": "contourcarpet"
           }
          ],
          "heatmap": [
           {
            "colorbar": {
             "outlinewidth": 0,
             "ticks": ""
            },
            "colorscale": [
             [
              0,
              "#0d0887"
             ],
             [
              0.1111111111111111,
              "#46039f"
             ],
             [
              0.2222222222222222,
              "#7201a8"
             ],
             [
              0.3333333333333333,
              "#9c179e"
             ],
             [
              0.4444444444444444,
              "#bd3786"
             ],
             [
              0.5555555555555556,
              "#d8576b"
             ],
             [
              0.6666666666666666,
              "#ed7953"
             ],
             [
              0.7777777777777778,
              "#fb9f3a"
             ],
             [
              0.8888888888888888,
              "#fdca26"
             ],
             [
              1,
              "#f0f921"
             ]
            ],
            "type": "heatmap"
           }
          ],
          "heatmapgl": [
           {
            "colorbar": {
             "outlinewidth": 0,
             "ticks": ""
            },
            "colorscale": [
             [
              0,
              "#0d0887"
             ],
             [
              0.1111111111111111,
              "#46039f"
             ],
             [
              0.2222222222222222,
              "#7201a8"
             ],
             [
              0.3333333333333333,
              "#9c179e"
             ],
             [
              0.4444444444444444,
              "#bd3786"
             ],
             [
              0.5555555555555556,
              "#d8576b"
             ],
             [
              0.6666666666666666,
              "#ed7953"
             ],
             [
              0.7777777777777778,
              "#fb9f3a"
             ],
             [
              0.8888888888888888,
              "#fdca26"
             ],
             [
              1,
              "#f0f921"
             ]
            ],
            "type": "heatmapgl"
           }
          ],
          "histogram": [
           {
            "marker": {
             "pattern": {
              "fillmode": "overlay",
              "size": 10,
              "solidity": 0.2
             }
            },
            "type": "histogram"
           }
          ],
          "histogram2d": [
           {
            "colorbar": {
             "outlinewidth": 0,
             "ticks": ""
            },
            "colorscale": [
             [
              0,
              "#0d0887"
             ],
             [
              0.1111111111111111,
              "#46039f"
             ],
             [
              0.2222222222222222,
              "#7201a8"
             ],
             [
              0.3333333333333333,
              "#9c179e"
             ],
             [
              0.4444444444444444,
              "#bd3786"
             ],
             [
              0.5555555555555556,
              "#d8576b"
             ],
             [
              0.6666666666666666,
              "#ed7953"
             ],
             [
              0.7777777777777778,
              "#fb9f3a"
             ],
             [
              0.8888888888888888,
              "#fdca26"
             ],
             [
              1,
              "#f0f921"
             ]
            ],
            "type": "histogram2d"
           }
          ],
          "histogram2dcontour": [
           {
            "colorbar": {
             "outlinewidth": 0,
             "ticks": ""
            },
            "colorscale": [
             [
              0,
              "#0d0887"
             ],
             [
              0.1111111111111111,
              "#46039f"
             ],
             [
              0.2222222222222222,
              "#7201a8"
             ],
             [
              0.3333333333333333,
              "#9c179e"
             ],
             [
              0.4444444444444444,
              "#bd3786"
             ],
             [
              0.5555555555555556,
              "#d8576b"
             ],
             [
              0.6666666666666666,
              "#ed7953"
             ],
             [
              0.7777777777777778,
              "#fb9f3a"
             ],
             [
              0.8888888888888888,
              "#fdca26"
             ],
             [
              1,
              "#f0f921"
             ]
            ],
            "type": "histogram2dcontour"
           }
          ],
          "mesh3d": [
           {
            "colorbar": {
             "outlinewidth": 0,
             "ticks": ""
            },
            "type": "mesh3d"
           }
          ],
          "parcoords": [
           {
            "line": {
             "colorbar": {
              "outlinewidth": 0,
              "ticks": ""
             }
            },
            "type": "parcoords"
           }
          ],
          "pie": [
           {
            "automargin": true,
            "type": "pie"
           }
          ],
          "scatter": [
           {
            "fillpattern": {
             "fillmode": "overlay",
             "size": 10,
             "solidity": 0.2
            },
            "type": "scatter"
           }
          ],
          "scatter3d": [
           {
            "line": {
             "colorbar": {
              "outlinewidth": 0,
              "ticks": ""
             }
            },
            "marker": {
             "colorbar": {
              "outlinewidth": 0,
              "ticks": ""
             }
            },
            "type": "scatter3d"
           }
          ],
          "scattercarpet": [
           {
            "marker": {
             "colorbar": {
              "outlinewidth": 0,
              "ticks": ""
             }
            },
            "type": "scattercarpet"
           }
          ],
          "scattergeo": [
           {
            "marker": {
             "colorbar": {
              "outlinewidth": 0,
              "ticks": ""
             }
            },
            "type": "scattergeo"
           }
          ],
          "scattergl": [
           {
            "marker": {
             "colorbar": {
              "outlinewidth": 0,
              "ticks": ""
             }
            },
            "type": "scattergl"
           }
          ],
          "scattermapbox": [
           {
            "marker": {
             "colorbar": {
              "outlinewidth": 0,
              "ticks": ""
             }
            },
            "type": "scattermapbox"
           }
          ],
          "scatterpolar": [
           {
            "marker": {
             "colorbar": {
              "outlinewidth": 0,
              "ticks": ""
             }
            },
            "type": "scatterpolar"
           }
          ],
          "scatterpolargl": [
           {
            "marker": {
             "colorbar": {
              "outlinewidth": 0,
              "ticks": ""
             }
            },
            "type": "scatterpolargl"
           }
          ],
          "scatterternary": [
           {
            "marker": {
             "colorbar": {
              "outlinewidth": 0,
              "ticks": ""
             }
            },
            "type": "scatterternary"
           }
          ],
          "surface": [
           {
            "colorbar": {
             "outlinewidth": 0,
             "ticks": ""
            },
            "colorscale": [
             [
              0,
              "#0d0887"
             ],
             [
              0.1111111111111111,
              "#46039f"
             ],
             [
              0.2222222222222222,
              "#7201a8"
             ],
             [
              0.3333333333333333,
              "#9c179e"
             ],
             [
              0.4444444444444444,
              "#bd3786"
             ],
             [
              0.5555555555555556,
              "#d8576b"
             ],
             [
              0.6666666666666666,
              "#ed7953"
             ],
             [
              0.7777777777777778,
              "#fb9f3a"
             ],
             [
              0.8888888888888888,
              "#fdca26"
             ],
             [
              1,
              "#f0f921"
             ]
            ],
            "type": "surface"
           }
          ],
          "table": [
           {
            "cells": {
             "fill": {
              "color": "#EBF0F8"
             },
             "line": {
              "color": "white"
             }
            },
            "header": {
             "fill": {
              "color": "#C8D4E3"
             },
             "line": {
              "color": "white"
             }
            },
            "type": "table"
           }
          ]
         },
         "layout": {
          "annotationdefaults": {
           "arrowcolor": "#2a3f5f",
           "arrowhead": 0,
           "arrowwidth": 1
          },
          "autotypenumbers": "strict",
          "coloraxis": {
           "colorbar": {
            "outlinewidth": 0,
            "ticks": ""
           }
          },
          "colorscale": {
           "diverging": [
            [
             0,
             "#8e0152"
            ],
            [
             0.1,
             "#c51b7d"
            ],
            [
             0.2,
             "#de77ae"
            ],
            [
             0.3,
             "#f1b6da"
            ],
            [
             0.4,
             "#fde0ef"
            ],
            [
             0.5,
             "#f7f7f7"
            ],
            [
             0.6,
             "#e6f5d0"
            ],
            [
             0.7,
             "#b8e186"
            ],
            [
             0.8,
             "#7fbc41"
            ],
            [
             0.9,
             "#4d9221"
            ],
            [
             1,
             "#276419"
            ]
           ],
           "sequential": [
            [
             0,
             "#0d0887"
            ],
            [
             0.1111111111111111,
             "#46039f"
            ],
            [
             0.2222222222222222,
             "#7201a8"
            ],
            [
             0.3333333333333333,
             "#9c179e"
            ],
            [
             0.4444444444444444,
             "#bd3786"
            ],
            [
             0.5555555555555556,
             "#d8576b"
            ],
            [
             0.6666666666666666,
             "#ed7953"
            ],
            [
             0.7777777777777778,
             "#fb9f3a"
            ],
            [
             0.8888888888888888,
             "#fdca26"
            ],
            [
             1,
             "#f0f921"
            ]
           ],
           "sequentialminus": [
            [
             0,
             "#0d0887"
            ],
            [
             0.1111111111111111,
             "#46039f"
            ],
            [
             0.2222222222222222,
             "#7201a8"
            ],
            [
             0.3333333333333333,
             "#9c179e"
            ],
            [
             0.4444444444444444,
             "#bd3786"
            ],
            [
             0.5555555555555556,
             "#d8576b"
            ],
            [
             0.6666666666666666,
             "#ed7953"
            ],
            [
             0.7777777777777778,
             "#fb9f3a"
            ],
            [
             0.8888888888888888,
             "#fdca26"
            ],
            [
             1,
             "#f0f921"
            ]
           ]
          },
          "colorway": [
           "#636efa",
           "#EF553B",
           "#00cc96",
           "#ab63fa",
           "#FFA15A",
           "#19d3f3",
           "#FF6692",
           "#B6E880",
           "#FF97FF",
           "#FECB52"
          ],
          "font": {
           "color": "#2a3f5f"
          },
          "geo": {
           "bgcolor": "white",
           "lakecolor": "white",
           "landcolor": "#E5ECF6",
           "showlakes": true,
           "showland": true,
           "subunitcolor": "white"
          },
          "hoverlabel": {
           "align": "left"
          },
          "hovermode": "closest",
          "mapbox": {
           "style": "light"
          },
          "paper_bgcolor": "white",
          "plot_bgcolor": "#E5ECF6",
          "polar": {
           "angularaxis": {
            "gridcolor": "white",
            "linecolor": "white",
            "ticks": ""
           },
           "bgcolor": "#E5ECF6",
           "radialaxis": {
            "gridcolor": "white",
            "linecolor": "white",
            "ticks": ""
           }
          },
          "scene": {
           "xaxis": {
            "backgroundcolor": "#E5ECF6",
            "gridcolor": "white",
            "gridwidth": 2,
            "linecolor": "white",
            "showbackground": true,
            "ticks": "",
            "zerolinecolor": "white"
           },
           "yaxis": {
            "backgroundcolor": "#E5ECF6",
            "gridcolor": "white",
            "gridwidth": 2,
            "linecolor": "white",
            "showbackground": true,
            "ticks": "",
            "zerolinecolor": "white"
           },
           "zaxis": {
            "backgroundcolor": "#E5ECF6",
            "gridcolor": "white",
            "gridwidth": 2,
            "linecolor": "white",
            "showbackground": true,
            "ticks": "",
            "zerolinecolor": "white"
           }
          },
          "shapedefaults": {
           "line": {
            "color": "#2a3f5f"
           }
          },
          "ternary": {
           "aaxis": {
            "gridcolor": "white",
            "linecolor": "white",
            "ticks": ""
           },
           "baxis": {
            "gridcolor": "white",
            "linecolor": "white",
            "ticks": ""
           },
           "bgcolor": "#E5ECF6",
           "caxis": {
            "gridcolor": "white",
            "linecolor": "white",
            "ticks": ""
           }
          },
          "title": {
           "x": 0.05
          },
          "xaxis": {
           "automargin": true,
           "gridcolor": "white",
           "linecolor": "white",
           "ticks": "",
           "title": {
            "standoff": 15
           },
           "zerolinecolor": "white",
           "zerolinewidth": 2
          },
          "yaxis": {
           "automargin": true,
           "gridcolor": "white",
           "linecolor": "white",
           "ticks": "",
           "title": {
            "standoff": 15
           },
           "zerolinecolor": "white",
           "zerolinewidth": 2
          }
         }
        },
        "title": {
         "text": "Top 5 CO₂ Emitting Sectors (Grouped) - Indonesia 2018"
        },
        "width": 800
       }
      },
      "image/png": "[encoded data removed]",
      "text/html": [
       "<div>                            <div id=\"95c5b2cb-0845-4797-9b5e-90847024720c\" class=\"plotly-graph-div\" style=\"height:800px; width:800px;\"></div>            <script type=\"text/javascript\">                require([\"plotly\"], function(Plotly) {                    window.PLOTLYENV=window.PLOTLYENV || {};                                    if (document.getElementById(\"95c5b2cb-0845-4797-9b5e-90847024720c\")) {                    Plotly.newPlot(                        \"95c5b2cb-0845-4797-9b5e-90847024720c\",                        [{\"branchvalues\":\"total\",\"customdata\":[[\"23%\"],[\"16%\"],[\"13%\"],[\"27%\"],[\"15%\"],[\"5%\"]],\"domain\":{\"x\":[0.0,1.0],\"y\":[0.0,1.0]},\"hovertemplate\":\"labels=%{label}\\u003cbr\\u003eC2018_sum=%{value}\\u003cbr\\u003eparent=%{parent}\\u003cbr\\u003eid=%{id}\\u003cbr\\u003eC2018=%{color}\\u003cextra\\u003e\\u003c\\u002fextra\\u003e\",\"ids\":[\"Agriculture, Forestry and Fishing\",\"Electricity and Gas\",\"Manufacturing\",\"Mining and Quarrying\",\"Remaining Sectors\",\"Transportation and Storage\"],\"labels\":[\"Agriculture, Forestry and Fishing\",\"Electricity and Gas\",\"Manufacturing\",\"Mining and Quarrying\",\"Remaining Sectors\",\"Transportation and Storage\"],\"marker\":{\"coloraxis\":\"coloraxis\",\"colors\":[228568.5247059705,159342.82636741662,130566.4933275733,264873.1173996225,143825.0312785052,49363.50564513919]},\"name\":\"\",\"parents\":[\"\",\"\",\"\",\"\",\"\",\"\"],\"values\":[228568.5247059705,159342.82636741662,130566.4933275733,264873.1173996225,143825.0312785052,49363.50564513919],\"type\":\"treemap\",\"textinfo\":\"label+value+text\",\"texttemplate\":\"%{label}\\u003cbr\\u003e%{value:,.0f} ktCO\\u2082e\\u003cbr\\u003e%{customdata}\"}],                        {\"template\":{\"data\":{\"histogram2dcontour\":[{\"type\":\"histogram2dcontour\",\"colorbar\":{\"outlinewidth\":0,\"ticks\":\"\"},\"colorscale\":[[0.0,\"#0d0887\"],[0.1111111111111111,\"#46039f\"],[0.2222222222222222,\"#7201a8\"],[0.3333333333333333,\"#9c179e\"],[0.4444444444444444,\"#bd3786\"],[0.5555555555555556,\"#d8576b\"],[0.6666666666666666,\"#ed7953\"],[0.7777777777777778,\"#fb9f3a\"],[0.8888888888888888,\"#fdca26\"],[1.0,\"#f0f921\"]]}],\"choropleth\":[{\"type\":\"choropleth\",\"colorbar\":{\"outlinewidth\":0,\"ticks\":\"\"}}],\"histogram2d\":[{\"type\":\"histogram2d\",\"colorbar\":{\"outlinewidth\":0,\"ticks\":\"\"},\"colorscale\":[[0.0,\"#0d0887\"],[0.1111111111111111,\"#46039f\"],[0.2222222222222222,\"#7201a8\"],[0.3333333333333333,\"#9c179e\"],[0.4444444444444444,\"#bd3786\"],[0.5555555555555556,\"#d8576b\"],[0.6666666666666666,\"#ed7953\"],[0.7777777777777778,\"#fb9f3a\"],[0.8888888888888888,\"#fdca26\"],[1.0,\"#f0f921\"]]}],\"heatmap\":[{\"type\":\"heatmap\",\"colorbar\":{\"outlinewidth\":0,\"ticks\":\"\"},\"colorscale\":[[0.0,\"#0d0887\"],[0.1111111111111111,\"#46039f\"],[0.2222222222222222,\"#7201a8\"],[0.3333333333333333,\"#9c179e\"],[0.4444444444444444,\"#bd3786\"],[0.5555555555555556,\"#d8576b\"],[0.6666666666666666,\"#ed7953\"],[0.7777777777777778,\"#fb9f3a\"],[0.8888888888888888,\"#fdca26\"],[1.0,\"#f0f921\"]]}],\"heatmapgl\":[{\"type\":\"heatmapgl\",\"colorbar\":{\"outlinewidth\":0,\"ticks\":\"\"},\"colorscale\":[[0.0,\"#0d0887\"],[0.1111111111111111,\"#46039f\"],[0.2222222222222222,\"#7201a8\"],[0.3333333333333333,\"#9c179e\"],[0.4444444444444444,\"#bd3786\"],[0.5555555555555556,\"#d8576b\"],[0.6666666666666666,\"#ed7953\"],[0.7777777777777778,\"#fb9f3a\"],[0.8888888888888888,\"#fdca26\"],[1.0,\"#f0f921\"]]}],\"contourcarpet\":[{\"type\":\"contourcarpet\",\"colorbar\":{\"outlinewidth\":0,\"ticks\":\"\"}}],\"contour\":[{\"type\":\"contour\",\"colorbar\":{\"outlinewidth\":0,\"ticks\":\"\"},\"colorscale\":[[0.0,\"#0d0887\"],[0.1111111111111111,\"#46039f\"],[0.2222222222222222,\"#7201a8\"],[0.3333333333333333,\"#9c179e\"],[0.4444444444444444,\"#bd3786\"],[0.5555555555555556,\"#d8576b\"],[0.6666666666666666,\"#ed7953\"],[0.7777777777777778,\"#fb9f3a\"],[0.8888888888888888,\"#fdca26\"],[1.0,\"#f0f921\"]]}],\"surface\":[{\"type\":\"surface\",\"colorbar\":{\"outlinewidth\":0,\"ticks\":\"\"},\"colorscale\":[[0.0,\"#0d0887\"],[0.1111111111111111,\"#46039f\"],[0.2222222222222222,\"#7201a8\"],[0.3333333333333333,\"#9c179e\"],[0.4444444444444444,\"#bd3786\"],[0.5555555555555556,\"#d8576b\"],[0.6666666666666666,\"#ed7953\"],[0.7777777777777778,\"#fb9f3a\"],[0.8888888888888888,\"#fdca26\"],[1.0,\"#f0f921\"]]}],\"mesh3d\":[{\"type\":\"mesh3d\",\"colorbar\":{\"outlinewidth\":0,\"ticks\":\"\"}}],\"scatter\":[{\"fillpattern\":{\"fillmode\":\"overlay\",\"size\":10,\"solidity\":0.2},\"type\":\"scatter\"}],\"parcoords\":[{\"type\":\"parcoords\",\"line\":{\"colorbar\":{\"outlinewidth\":0,\"ticks\":\"\"}}}],\"scatterpolargl\":[{\"type\":\"scatterpolargl\",\"marker\":{\"colorbar\":{\"outlinewidth\":0,\"ticks\":\"\"}}}],\"bar\":[{\"error_x\":{\"color\":\"#2a3f5f\"},\"error_y\":{\"color\":\"#2a3f5f\"},\"marker\":{\"line\":{\"color\":\"#E5ECF6\",\"width\":0.5},\"pattern\":{\"fillmode\":\"overlay\",\"size\":10,\"solidity\":0.2}},\"type\":\"bar\"}],\"scattergeo\":[{\"type\":\"scattergeo\",\"marker\":{\"colorbar\":{\"outlinewidth\":0,\"ticks\":\"\"}}}],\"scatterpolar\":[{\"type\":\"scatterpolar\",\"marker\":{\"colorbar\":{\"outlinewidth\":0,\"ticks\":\"\"}}}],\"histogram\":[{\"marker\":{\"pattern\":{\"fillmode\":\"overlay\",\"size\":10,\"solidity\":0.2}},\"type\":\"histogram\"}],\"scattergl\":[{\"type\":\"scattergl\",\"marker\":{\"colorbar\":{\"outlinewidth\":0,\"ticks\":\"\"}}}],\"scatter3d\":[{\"type\":\"scatter3d\",\"line\":{\"colorbar\":{\"outlinewidth\":0,\"ticks\":\"\"}},\"marker\":{\"colorbar\":{\"outlinewidth\":0,\"ticks\":\"\"}}}],\"scattermapbox\":[{\"type\":\"scattermapbox\",\"marker\":{\"colorbar\":{\"outlinewidth\":0,\"ticks\":\"\"}}}],\"scatterternary\":[{\"type\":\"scatterternary\",\"marker\":{\"colorbar\":{\"outlinewidth\":0,\"ticks\":\"\"}}}],\"scattercarpet\":[{\"type\":\"scattercarpet\",\"marker\":{\"colorbar\":{\"outlinewidth\":0,\"ticks\":\"\"}}}],\"carpet\":[{\"aaxis\":{\"endlinecolor\":\"#2a3f5f\",\"gridcolor\":\"white\",\"linecolor\":\"white\",\"minorgridcolor\":\"white\",\"startlinecolor\":\"#2a3f5f\"},\"baxis\":{\"endlinecolor\":\"#2a3f5f\",\"gridcolor\":\"white\",\"linecolor\":\"white\",\"minorgridcolor\":\"white\",\"startlinecolor\":\"#2a3f5f\"},\"type\":\"carpet\"}],\"table\":[{\"cells\":{\"fill\":{\"color\":\"#EBF0F8\"},\"line\":{\"color\":\"white\"}},\"header\":{\"fill\":{\"color\":\"#C8D4E3\"},\"line\":{\"color\":\"white\"}},\"type\":\"table\"}],\"barpolar\":[{\"marker\":{\"line\":{\"color\":\"#E5ECF6\",\"width\":0.5},\"pattern\":{\"fillmode\":\"overlay\",\"size\":10,\"solidity\":0.2}},\"type\":\"barpolar\"}],\"pie\":[{\"automargin\":true,\"type\":\"pie\"}]},\"layout\":{\"autotypenumbers\":\"strict\",\"colorway\":[\"#636efa\",\"#EF553B\",\"#00cc96\",\"#ab63fa\",\"#FFA15A\",\"#19d3f3\",\"#FF6692\",\"#B6E880\",\"#FF97FF\",\"#FECB52\"],\"font\":{\"color\":\"#2a3f5f\"},\"hovermode\":\"closest\",\"hoverlabel\":{\"align\":\"left\"},\"paper_bgcolor\":\"white\",\"plot_bgcolor\":\"#E5ECF6\",\"polar\":{\"bgcolor\":\"#E5ECF6\",\"angularaxis\":{\"gridcolor\":\"white\",\"linecolor\":\"white\",\"ticks\":\"\"},\"radialaxis\":{\"gridcolor\":\"white\",\"linecolor\":\"white\",\"ticks\":\"\"}},\"ternary\":{\"bgcolor\":\"#E5ECF6\",\"aaxis\":{\"gridcolor\":\"white\",\"linecolor\":\"white\",\"ticks\":\"\"},\"baxis\":{\"gridcolor\":\"white\",\"linecolor\":\"white\",\"ticks\":\"\"},\"caxis\":{\"gridcolor\":\"white\",\"linecolor\":\"white\",\"ticks\":\"\"}},\"coloraxis\":{\"colorbar\":{\"outlinewidth\":0,\"ticks\":\"\"}},\"colorscale\":{\"sequential\":[[0.0,\"#0d0887\"],[0.1111111111111111,\"#46039f\"],[0.2222222222222222,\"#7201a8\"],[0.3333333333333333,\"#9c179e\"],[0.4444444444444444,\"#bd3786\"],[0.5555555555555556,\"#d8576b\"],[0.6666666666666666,\"#ed7953\"],[0.7777777777777778,\"#fb9f3a\"],[0.8888888888888888,\"#fdca26\"],[1.0,\"#f0f921\"]],\"sequentialminus\":[[0.0,\"#0d0887\"],[0.1111111111111111,\"#46039f\"],[0.2222222222222222,\"#7201a8\"],[0.3333333333333333,\"#9c179e\"],[0.4444444444444444,\"#bd3786\"],[0.5555555555555556,\"#d8576b\"],[0.6666666666666666,\"#ed7953\"],[0.7777777777777778,\"#fb9f3a\"],[0.8888888888888888,\"#fdca26\"],[1.0,\"#f0f921\"]],\"diverging\":[[0,\"#8e0152\"],[0.1,\"#c51b7d\"],[0.2,\"#de77ae\"],[0.3,\"#f1b6da\"],[0.4,\"#fde0ef\"],[0.5,\"#f7f7f7\"],[0.6,\"#e6f5d0\"],[0.7,\"#b8e186\"],[0.8,\"#7fbc41\"],[0.9,\"#4d9221\"],[1,\"#276419\"]]},\"xaxis\":{\"gridcolor\":\"white\",\"linecolor\":\"white\",\"ticks\":\"\",\"title\":{\"standoff\":15},\"zerolinecolor\":\"white\",\"automargin\":true,\"zerolinewidth\":2},\"yaxis\":{\"gridcolor\":\"white\",\"linecolor\":\"white\",\"ticks\":\"\",\"title\":{\"standoff\":15},\"zerolinecolor\":\"white\",\"automargin\":true,\"zerolinewidth\":2},\"scene\":{\"xaxis\":{\"backgroundcolor\":\"#E5ECF6\",\"gridcolor\":\"white\",\"linecolor\":\"white\",\"showbackground\":true,\"ticks\":\"\",\"zerolinecolor\":\"white\",\"gridwidth\":2},\"yaxis\":{\"backgroundcolor\":\"#E5ECF6\",\"gridcolor\":\"white\",\"linecolor\":\"white\",\"showbackground\":true,\"ticks\":\"\",\"zerolinecolor\":\"white\",\"gridwidth\":2},\"zaxis\":{\"backgroundcolor\":\"#E5ECF6\",\"gridcolor\":\"white\",\"linecolor\":\"white\",\"showbackground\":true,\"ticks\":\"\",\"zerolinecolor\":\"white\",\"gridwidth\":2}},\"shapedefaults\":{\"line\":{\"color\":\"#2a3f5f\"}},\"annotationdefaults\":{\"arrowcolor\":\"#2a3f5f\",\"arrowhead\":0,\"arrowwidth\":1},\"geo\":{\"bgcolor\":\"white\",\"landcolor\":\"#E5ECF6\",\"subunitcolor\":\"white\",\"showland\":true,\"showlakes\":true,\"lakecolor\":\"white\"},\"title\":{\"x\":0.05},\"mapbox\":{\"style\":\"light\"}}},\"coloraxis\":{\"colorbar\":{\"title\":{\"text\":\"ktonne CO\\u2082e\"}},\"colorscale\":[[0.0,\"rgb(247,251,255)\"],[0.125,\"rgb(222,235,247)\"],[0.25,\"rgb(198,219,239)\"],[0.375,\"rgb(158,202,225)\"],[0.5,\"rgb(107,174,214)\"],[0.625,\"rgb(66,146,198)\"],[0.75,\"rgb(33,113,181)\"],[0.875,\"rgb(8,81,156)\"],[1.0,\"rgb(8,48,107)\"]]},\"legend\":{\"tracegroupgap\":0},\"title\":{\"text\":\"Top 5 CO\\u2082 Emitting Sectors (Grouped) - Indonesia 2018\"},\"margin\":{\"t\":50,\"l\":25,\"r\":25,\"b\":25},\"width\":800,\"height\":800},                        {\"responsive\": true}                    ).then(function(){\n",
       "                            \n",
       "var gd = document.getElementById('95c5b2cb-0845-4797-9b5e-90847024720c');\n",
       "var x = new MutationObserver(function (mutations, observer) {{\n",
       "        var display = window.getComputedStyle(gd).display;\n",
       "        if (!display || display === 'none') {{\n",
       "            console.log([gd, 'removed!']);\n",
       "            Plotly.purge(gd);\n",
       "            observer.disconnect();\n",
       "        }}\n",
       "}});\n",
       "\n",
       "// Listen for the removal of the full notebook cells\n",
       "var notebookContainer = gd.closest('#notebook-container');\n",
       "if (notebookContainer) {{\n",
       "    x.observe(notebookContainer, {childList: true});\n",
       "}}\n",
       "\n",
       "// Listen for the clearing of the current output cell\n",
       "var outputEl = gd.closest('.output');\n",
       "if (outputEl) {{\n",
       "    x.observe(outputEl, {childList: true});\n",
       "}}\n",
       "\n",
       "                        })                };                });            </script>        </div>"
      ]
     },
     "metadata": {},
     "output_type": "display_data"
    }
   ],
   "source": [
    "# Step 1: Sort by CO2 emissions in 2018\n",
    "sorted_df_CO2_18 = aggregated_df_18.sort_values(by='C2018', ascending=False).reset_index(drop=True)\n",
    "\n",
    "# Step 2: Select top 6 initially (to ensure we have a buffer if \"Other Services Activities\" is within top 5)\n",
    "top_6_CO2_18 = sorted_df_CO2_18.iloc[:6].copy()\n",
    "\n",
    "# Step 3: Check if \"Other Services Activities\" is in the top 6\n",
    "mask_osa = top_6_CO2_18['Sector'] == 'Other Services Activities'\n",
    "\n",
    "if mask_osa.any():\n",
    "    # Remove \"Other Services Activities\" from top 6\n",
    "    top_6_CO2_18 = top_6_CO2_18[~mask_osa]\n",
    "    # Now pick the top 5 after removal\n",
    "    top_5_CO2_18 = top_6_CO2_18.iloc[:5]\n",
    "else:\n",
    "    # If \"Other Services Activities\" not in top 6, just take top 5 normally\n",
    "    top_5_CO2_18 = top_6_CO2_18.iloc[:5]\n",
    "\n",
    "# Step 4: Sum the rest including \"Other Services Activities\" if it was removed\n",
    "excluded_sectors = sorted_df_CO2_18[~sorted_df_CO2_18['Sector'].isin(top_5_CO2_18['Sector'])]\n",
    "others_sum = excluded_sectors['C2018'].sum()\n",
    "\n",
    "# Step 5: Create a new row for \"Others\"\n",
    "others_row = pd.DataFrame({\n",
    "    'Sector': ['Remaining Sectors'],\n",
    "    'C2018': [others_sum]\n",
    "})\n",
    "\n",
    "# Step 6: Combine top 5 with \"Others\"\n",
    "final_df = pd.concat([top_5_CO2_18, others_row], ignore_index=True)\n",
    "\n",
    "manual_percentages_emission_2018 = ['23%', '16%', '13%', '27%', '15%', '5%']\n",
    "final_df['ManualPercent'] = manual_percentages_emission_2018\n",
    "fig = px.treemap(\n",
    "    final_df,\n",
    "    path=['Sector'],\n",
    "    values='C2018',\n",
    "    title='Top 5 CO₂ Emitting Sectors (Grouped) - Indonesia 2018',\n",
    "    color='C2018',\n",
    "    color_continuous_scale='Blues'\n",
    ")\n",
    "\n",
    "fig.update_traces(\n",
    "    texttemplate='%{label}<br>%{value:,.0f} ktCO₂e<br>%{customdata}',\n",
    "    customdata=final_df[['ManualPercent']],\n",
    "    textinfo='label+value+text'\n",
    ")\n",
    "\n",
    "fig.update_layout(\n",
    "    width=800,\n",
    "    height=800,\n",
    "    margin=dict(t=50, l=25, r=25, b=25),\n",
    "    coloraxis_colorbar=dict(title=\"ktonne CO₂e\")\n",
    ")\n",
    "\n",
    "fig.show()"
   ]
  },
  {
   "cell_type": "code",
   "execution_count": 171,
   "id": "9278dd6f-36aa-4fd2-ae2f-4a7f558ae658",
   "metadata": {},
   "outputs": [
    {
     "data": {
      "text/plain": [
       "976539.4987242273"
      ]
     },
     "execution_count": 171,
     "metadata": {},
     "output_type": "execute_result"
    }
   ],
   "source": [
    "aggregated_df_18['C2018'].sum()\n",
    "#aggregated_df_18['Value Added'].sum()\n",
    "#aggregated_df_22['C2022'].sum()\n",
    "#print(aggregated_df_18)"
   ]
  },
  {
   "cell_type": "code",
   "execution_count": 163,
   "id": "5e6a48cd-91bb-4db0-b5dc-5e9fb209dcde",
   "metadata": {},
   "outputs": [
    {
     "data": {
      "application/vnd.plotly.v1+json": {
       "config": {
        "plotlyServerURL": "https://plot.ly"
       },
       "data": [
        {
         "branchvalues": "total",
         "customdata": [
          [
           "24%"
          ],
          [
           "15%"
          ],
          [
           "14%"
          ],
          [
           "25%"
          ],
          [
           "16%"
          ],
          [
           "6%"
          ]
         ],
         "domain": {
          "x": [
           0,
           1
          ],
          "y": [
           0,
           1
          ]
         },
         "hovertemplate": "labels=%{label}<br>C2022_sum=%{value}<br>parent=%{parent}<br>id=%{id}<br>C2022=%{color}<extra></extra>",
         "ids": [
          "Agriculture, Forestry and Fishing",
          "Electricity and Gas",
          "Manufacturing",
          "Mining and Quarrying",
          "Remaining Sectors",
          "Transportation and Storage"
         ],
         "labels": [
          "Agriculture, Forestry and Fishing",
          "Electricity and Gas",
          "Manufacturing",
          "Mining and Quarrying",
          "Remaining Sectors",
          "Transportation and Storage"
         ],
         "marker": {
          "coloraxis": "coloraxis",
          "colors": [
           271532.74526505906,
           188373.86318118582,
           157859.36085294202,
           287692.3020781257,
           178416.7286098536,
           63280.05929954633
          ]
         },
         "name": "",
         "parents": [
          "",
          "",
          "",
          "",
          "",
          ""
         ],
         "textinfo": "label+value+text",
         "texttemplate": "%{label}<br>%{value:,.0f} ktCO₂e<br>%{customdata}",
         "type": "treemap",
         "values": [
          271532.74526505906,
          188373.86318118582,
          157859.36085294202,
          287692.3020781257,
          178416.7286098536,
          63280.05929954633
         ]
        }
       ],
       "layout": {
        "coloraxis": {
         "colorbar": {
          "title": {
           "text": "ktonne CO₂e"
          }
         },
         "colorscale": [
          [
           0,
           "rgb(247,251,255)"
          ],
          [
           0.125,
           "rgb(222,235,247)"
          ],
          [
           0.25,
           "rgb(198,219,239)"
          ],
          [
           0.375,
           "rgb(158,202,225)"
          ],
          [
           0.5,
           "rgb(107,174,214)"
          ],
          [
           0.625,
           "rgb(66,146,198)"
          ],
          [
           0.75,
           "rgb(33,113,181)"
          ],
          [
           0.875,
           "rgb(8,81,156)"
          ],
          [
           1,
           "rgb(8,48,107)"
          ]
         ]
        },
        "height": 800,
        "legend": {
         "tracegroupgap": 0
        },
        "margin": {
         "b": 25,
         "l": 25,
         "r": 25,
         "t": 50
        },
        "template": {
         "data": {
          "bar": [
           {
            "error_x": {
             "color": "#2a3f5f"
            },
            "error_y": {
             "color": "#2a3f5f"
            },
            "marker": {
             "line": {
              "color": "#E5ECF6",
              "width": 0.5
             },
             "pattern": {
              "fillmode": "overlay",
              "size": 10,
              "solidity": 0.2
             }
            },
            "type": "bar"
           }
          ],
          "barpolar": [
           {
            "marker": {
             "line": {
              "color": "#E5ECF6",
              "width": 0.5
             },
             "pattern": {
              "fillmode": "overlay",
              "size": 10,
              "solidity": 0.2
             }
            },
            "type": "barpolar"
           }
          ],
          "carpet": [
           {
            "aaxis": {
             "endlinecolor": "#2a3f5f",
             "gridcolor": "white",
             "linecolor": "white",
             "minorgridcolor": "white",
             "startlinecolor": "#2a3f5f"
            },
            "baxis": {
             "endlinecolor": "#2a3f5f",
             "gridcolor": "white",
             "linecolor": "white",
             "minorgridcolor": "white",
             "startlinecolor": "#2a3f5f"
            },
            "type": "carpet"
           }
          ],
          "choropleth": [
           {
            "colorbar": {
             "outlinewidth": 0,
             "ticks": ""
            },
            "type": "choropleth"
           }
          ],
          "contour": [
           {
            "colorbar": {
             "outlinewidth": 0,
             "ticks": ""
            },
            "colorscale": [
             [
              0,
              "#0d0887"
             ],
             [
              0.1111111111111111,
              "#46039f"
             ],
             [
              0.2222222222222222,
              "#7201a8"
             ],
             [
              0.3333333333333333,
              "#9c179e"
             ],
             [
              0.4444444444444444,
              "#bd3786"
             ],
             [
              0.5555555555555556,
              "#d8576b"
             ],
             [
              0.6666666666666666,
              "#ed7953"
             ],
             [
              0.7777777777777778,
              "#fb9f3a"
             ],
             [
              0.8888888888888888,
              "#fdca26"
             ],
             [
              1,
              "#f0f921"
             ]
            ],
            "type": "contour"
           }
          ],
          "contourcarpet": [
           {
            "colorbar": {
             "outlinewidth": 0,
             "ticks": ""
            },
            "type": "contourcarpet"
           }
          ],
          "heatmap": [
           {
            "colorbar": {
             "outlinewidth": 0,
             "ticks": ""
            },
            "colorscale": [
             [
              0,
              "#0d0887"
             ],
             [
              0.1111111111111111,
              "#46039f"
             ],
             [
              0.2222222222222222,
              "#7201a8"
             ],
             [
              0.3333333333333333,
              "#9c179e"
             ],
             [
              0.4444444444444444,
              "#bd3786"
             ],
             [
              0.5555555555555556,
              "#d8576b"
             ],
             [
              0.6666666666666666,
              "#ed7953"
             ],
             [
              0.7777777777777778,
              "#fb9f3a"
             ],
             [
              0.8888888888888888,
              "#fdca26"
             ],
             [
              1,
              "#f0f921"
             ]
            ],
            "type": "heatmap"
           }
          ],
          "heatmapgl": [
           {
            "colorbar": {
             "outlinewidth": 0,
             "ticks": ""
            },
            "colorscale": [
             [
              0,
              "#0d0887"
             ],
             [
              0.1111111111111111,
              "#46039f"
             ],
             [
              0.2222222222222222,
              "#7201a8"
             ],
             [
              0.3333333333333333,
              "#9c179e"
             ],
             [
              0.4444444444444444,
              "#bd3786"
             ],
             [
              0.5555555555555556,
              "#d8576b"
             ],
             [
              0.6666666666666666,
              "#ed7953"
             ],
             [
              0.7777777777777778,
              "#fb9f3a"
             ],
             [
              0.8888888888888888,
              "#fdca26"
             ],
             [
              1,
              "#f0f921"
             ]
            ],
            "type": "heatmapgl"
           }
          ],
          "histogram": [
           {
            "marker": {
             "pattern": {
              "fillmode": "overlay",
              "size": 10,
              "solidity": 0.2
             }
            },
            "type": "histogram"
           }
          ],
          "histogram2d": [
           {
            "colorbar": {
             "outlinewidth": 0,
             "ticks": ""
            },
            "colorscale": [
             [
              0,
              "#0d0887"
             ],
             [
              0.1111111111111111,
              "#46039f"
             ],
             [
              0.2222222222222222,
              "#7201a8"
             ],
             [
              0.3333333333333333,
              "#9c179e"
             ],
             [
              0.4444444444444444,
              "#bd3786"
             ],
             [
              0.5555555555555556,
              "#d8576b"
             ],
             [
              0.6666666666666666,
              "#ed7953"
             ],
             [
              0.7777777777777778,
              "#fb9f3a"
             ],
             [
              0.8888888888888888,
              "#fdca26"
             ],
             [
              1,
              "#f0f921"
             ]
            ],
            "type": "histogram2d"
           }
          ],
          "histogram2dcontour": [
           {
            "colorbar": {
             "outlinewidth": 0,
             "ticks": ""
            },
            "colorscale": [
             [
              0,
              "#0d0887"
             ],
             [
              0.1111111111111111,
              "#46039f"
             ],
             [
              0.2222222222222222,
              "#7201a8"
             ],
             [
              0.3333333333333333,
              "#9c179e"
             ],
             [
              0.4444444444444444,
              "#bd3786"
             ],
             [
              0.5555555555555556,
              "#d8576b"
             ],
             [
              0.6666666666666666,
              "#ed7953"
             ],
             [
              0.7777777777777778,
              "#fb9f3a"
             ],
             [
              0.8888888888888888,
              "#fdca26"
             ],
             [
              1,
              "#f0f921"
             ]
            ],
            "type": "histogram2dcontour"
           }
          ],
          "mesh3d": [
           {
            "colorbar": {
             "outlinewidth": 0,
             "ticks": ""
            },
            "type": "mesh3d"
           }
          ],
          "parcoords": [
           {
            "line": {
             "colorbar": {
              "outlinewidth": 0,
              "ticks": ""
             }
            },
            "type": "parcoords"
           }
          ],
          "pie": [
           {
            "automargin": true,
            "type": "pie"
           }
          ],
          "scatter": [
           {
            "fillpattern": {
             "fillmode": "overlay",
             "size": 10,
             "solidity": 0.2
            },
            "type": "scatter"
           }
          ],
          "scatter3d": [
           {
            "line": {
             "colorbar": {
              "outlinewidth": 0,
              "ticks": ""
             }
            },
            "marker": {
             "colorbar": {
              "outlinewidth": 0,
              "ticks": ""
             }
            },
            "type": "scatter3d"
           }
          ],
          "scattercarpet": [
           {
            "marker": {
             "colorbar": {
              "outlinewidth": 0,
              "ticks": ""
             }
            },
            "type": "scattercarpet"
           }
          ],
          "scattergeo": [
           {
            "marker": {
             "colorbar": {
              "outlinewidth": 0,
              "ticks": ""
             }
            },
            "type": "scattergeo"
           }
          ],
          "scattergl": [
           {
            "marker": {
             "colorbar": {
              "outlinewidth": 0,
              "ticks": ""
             }
            },
            "type": "scattergl"
           }
          ],
          "scattermapbox": [
           {
            "marker": {
             "colorbar": {
              "outlinewidth": 0,
              "ticks": ""
             }
            },
            "type": "scattermapbox"
           }
          ],
          "scatterpolar": [
           {
            "marker": {
             "colorbar": {
              "outlinewidth": 0,
              "ticks": ""
             }
            },
            "type": "scatterpolar"
           }
          ],
          "scatterpolargl": [
           {
            "marker": {
             "colorbar": {
              "outlinewidth": 0,
              "ticks": ""
             }
            },
            "type": "scatterpolargl"
           }
          ],
          "scatterternary": [
           {
            "marker": {
             "colorbar": {
              "outlinewidth": 0,
              "ticks": ""
             }
            },
            "type": "scatterternary"
           }
          ],
          "surface": [
           {
            "colorbar": {
             "outlinewidth": 0,
             "ticks": ""
            },
            "colorscale": [
             [
              0,
              "#0d0887"
             ],
             [
              0.1111111111111111,
              "#46039f"
             ],
             [
              0.2222222222222222,
              "#7201a8"
             ],
             [
              0.3333333333333333,
              "#9c179e"
             ],
             [
              0.4444444444444444,
              "#bd3786"
             ],
             [
              0.5555555555555556,
              "#d8576b"
             ],
             [
              0.6666666666666666,
              "#ed7953"
             ],
             [
              0.7777777777777778,
              "#fb9f3a"
             ],
             [
              0.8888888888888888,
              "#fdca26"
             ],
             [
              1,
              "#f0f921"
             ]
            ],
            "type": "surface"
           }
          ],
          "table": [
           {
            "cells": {
             "fill": {
              "color": "#EBF0F8"
             },
             "line": {
              "color": "white"
             }
            },
            "header": {
             "fill": {
              "color": "#C8D4E3"
             },
             "line": {
              "color": "white"
             }
            },
            "type": "table"
           }
          ]
         },
         "layout": {
          "annotationdefaults": {
           "arrowcolor": "#2a3f5f",
           "arrowhead": 0,
           "arrowwidth": 1
          },
          "autotypenumbers": "strict",
          "coloraxis": {
           "colorbar": {
            "outlinewidth": 0,
            "ticks": ""
           }
          },
          "colorscale": {
           "diverging": [
            [
             0,
             "#8e0152"
            ],
            [
             0.1,
             "#c51b7d"
            ],
            [
             0.2,
             "#de77ae"
            ],
            [
             0.3,
             "#f1b6da"
            ],
            [
             0.4,
             "#fde0ef"
            ],
            [
             0.5,
             "#f7f7f7"
            ],
            [
             0.6,
             "#e6f5d0"
            ],
            [
             0.7,
             "#b8e186"
            ],
            [
             0.8,
             "#7fbc41"
            ],
            [
             0.9,
             "#4d9221"
            ],
            [
             1,
             "#276419"
            ]
           ],
           "sequential": [
            [
             0,
             "#0d0887"
            ],
            [
             0.1111111111111111,
             "#46039f"
            ],
            [
             0.2222222222222222,
             "#7201a8"
            ],
            [
             0.3333333333333333,
             "#9c179e"
            ],
            [
             0.4444444444444444,
             "#bd3786"
            ],
            [
             0.5555555555555556,
             "#d8576b"
            ],
            [
             0.6666666666666666,
             "#ed7953"
            ],
            [
             0.7777777777777778,
             "#fb9f3a"
            ],
            [
             0.8888888888888888,
             "#fdca26"
            ],
            [
             1,
             "#f0f921"
            ]
           ],
           "sequentialminus": [
            [
             0,
             "#0d0887"
            ],
            [
             0.1111111111111111,
             "#46039f"
            ],
            [
             0.2222222222222222,
             "#7201a8"
            ],
            [
             0.3333333333333333,
             "#9c179e"
            ],
            [
             0.4444444444444444,
             "#bd3786"
            ],
            [
             0.5555555555555556,
             "#d8576b"
            ],
            [
             0.6666666666666666,
             "#ed7953"
            ],
            [
             0.7777777777777778,
             "#fb9f3a"
            ],
            [
             0.8888888888888888,
             "#fdca26"
            ],
            [
             1,
             "#f0f921"
            ]
           ]
          },
          "colorway": [
           "#636efa",
           "#EF553B",
           "#00cc96",
           "#ab63fa",
           "#FFA15A",
           "#19d3f3",
           "#FF6692",
           "#B6E880",
           "#FF97FF",
           "#FECB52"
          ],
          "font": {
           "color": "#2a3f5f"
          },
          "geo": {
           "bgcolor": "white",
           "lakecolor": "white",
           "landcolor": "#E5ECF6",
           "showlakes": true,
           "showland": true,
           "subunitcolor": "white"
          },
          "hoverlabel": {
           "align": "left"
          },
          "hovermode": "closest",
          "mapbox": {
           "style": "light"
          },
          "paper_bgcolor": "white",
          "plot_bgcolor": "#E5ECF6",
          "polar": {
           "angularaxis": {
            "gridcolor": "white",
            "linecolor": "white",
            "ticks": ""
           },
           "bgcolor": "#E5ECF6",
           "radialaxis": {
            "gridcolor": "white",
            "linecolor": "white",
            "ticks": ""
           }
          },
          "scene": {
           "xaxis": {
            "backgroundcolor": "#E5ECF6",
            "gridcolor": "white",
            "gridwidth": 2,
            "linecolor": "white",
            "showbackground": true,
            "ticks": "",
            "zerolinecolor": "white"
           },
           "yaxis": {
            "backgroundcolor": "#E5ECF6",
            "gridcolor": "white",
            "gridwidth": 2,
            "linecolor": "white",
            "showbackground": true,
            "ticks": "",
            "zerolinecolor": "white"
           },
           "zaxis": {
            "backgroundcolor": "#E5ECF6",
            "gridcolor": "white",
            "gridwidth": 2,
            "linecolor": "white",
            "showbackground": true,
            "ticks": "",
            "zerolinecolor": "white"
           }
          },
          "shapedefaults": {
           "line": {
            "color": "#2a3f5f"
           }
          },
          "ternary": {
           "aaxis": {
            "gridcolor": "white",
            "linecolor": "white",
            "ticks": ""
           },
           "baxis": {
            "gridcolor": "white",
            "linecolor": "white",
            "ticks": ""
           },
           "bgcolor": "#E5ECF6",
           "caxis": {
            "gridcolor": "white",
            "linecolor": "white",
            "ticks": ""
           }
          },
          "title": {
           "x": 0.05
          },
          "xaxis": {
           "automargin": true,
           "gridcolor": "white",
           "linecolor": "white",
           "ticks": "",
           "title": {
            "standoff": 15
           },
           "zerolinecolor": "white",
           "zerolinewidth": 2
          },
          "yaxis": {
           "automargin": true,
           "gridcolor": "white",
           "linecolor": "white",
           "ticks": "",
           "title": {
            "standoff": 15
           },
           "zerolinecolor": "white",
           "zerolinewidth": 2
          }
         }
        },
        "title": {
         "text": "Top 5 CO₂ Emitting Sectors (Grouped) - Indonesia 2022"
        },
        "width": 800
       }
      },
      "image/png": "[encoded data removed]",
      "text/html": [
       "<div>                            <div id=\"6a16ee06-9058-491c-9482-ed2537202111\" class=\"plotly-graph-div\" style=\"height:800px; width:800px;\"></div>            <script type=\"text/javascript\">                require([\"plotly\"], function(Plotly) {                    window.PLOTLYENV=window.PLOTLYENV || {};                                    if (document.getElementById(\"6a16ee06-9058-491c-9482-ed2537202111\")) {                    Plotly.newPlot(                        \"6a16ee06-9058-491c-9482-ed2537202111\",                        [{\"branchvalues\":\"total\",\"customdata\":[[\"24%\"],[\"15%\"],[\"14%\"],[\"25%\"],[\"16%\"],[\"6%\"]],\"domain\":{\"x\":[0.0,1.0],\"y\":[0.0,1.0]},\"hovertemplate\":\"labels=%{label}\\u003cbr\\u003eC2022_sum=%{value}\\u003cbr\\u003eparent=%{parent}\\u003cbr\\u003eid=%{id}\\u003cbr\\u003eC2022=%{color}\\u003cextra\\u003e\\u003c\\u002fextra\\u003e\",\"ids\":[\"Agriculture, Forestry and Fishing\",\"Electricity and Gas\",\"Manufacturing\",\"Mining and Quarrying\",\"Remaining Sectors\",\"Transportation and Storage\"],\"labels\":[\"Agriculture, Forestry and Fishing\",\"Electricity and Gas\",\"Manufacturing\",\"Mining and Quarrying\",\"Remaining Sectors\",\"Transportation and Storage\"],\"marker\":{\"coloraxis\":\"coloraxis\",\"colors\":[271532.74526505906,188373.86318118582,157859.36085294202,287692.3020781257,178416.7286098536,63280.05929954633]},\"name\":\"\",\"parents\":[\"\",\"\",\"\",\"\",\"\",\"\"],\"values\":[271532.74526505906,188373.86318118582,157859.36085294202,287692.3020781257,178416.7286098536,63280.05929954633],\"type\":\"treemap\",\"textinfo\":\"label+value+text\",\"texttemplate\":\"%{label}\\u003cbr\\u003e%{value:,.0f} ktCO\\u2082e\\u003cbr\\u003e%{customdata}\"}],                        {\"template\":{\"data\":{\"histogram2dcontour\":[{\"type\":\"histogram2dcontour\",\"colorbar\":{\"outlinewidth\":0,\"ticks\":\"\"},\"colorscale\":[[0.0,\"#0d0887\"],[0.1111111111111111,\"#46039f\"],[0.2222222222222222,\"#7201a8\"],[0.3333333333333333,\"#9c179e\"],[0.4444444444444444,\"#bd3786\"],[0.5555555555555556,\"#d8576b\"],[0.6666666666666666,\"#ed7953\"],[0.7777777777777778,\"#fb9f3a\"],[0.8888888888888888,\"#fdca26\"],[1.0,\"#f0f921\"]]}],\"choropleth\":[{\"type\":\"choropleth\",\"colorbar\":{\"outlinewidth\":0,\"ticks\":\"\"}}],\"histogram2d\":[{\"type\":\"histogram2d\",\"colorbar\":{\"outlinewidth\":0,\"ticks\":\"\"},\"colorscale\":[[0.0,\"#0d0887\"],[0.1111111111111111,\"#46039f\"],[0.2222222222222222,\"#7201a8\"],[0.3333333333333333,\"#9c179e\"],[0.4444444444444444,\"#bd3786\"],[0.5555555555555556,\"#d8576b\"],[0.6666666666666666,\"#ed7953\"],[0.7777777777777778,\"#fb9f3a\"],[0.8888888888888888,\"#fdca26\"],[1.0,\"#f0f921\"]]}],\"heatmap\":[{\"type\":\"heatmap\",\"colorbar\":{\"outlinewidth\":0,\"ticks\":\"\"},\"colorscale\":[[0.0,\"#0d0887\"],[0.1111111111111111,\"#46039f\"],[0.2222222222222222,\"#7201a8\"],[0.3333333333333333,\"#9c179e\"],[0.4444444444444444,\"#bd3786\"],[0.5555555555555556,\"#d8576b\"],[0.6666666666666666,\"#ed7953\"],[0.7777777777777778,\"#fb9f3a\"],[0.8888888888888888,\"#fdca26\"],[1.0,\"#f0f921\"]]}],\"heatmapgl\":[{\"type\":\"heatmapgl\",\"colorbar\":{\"outlinewidth\":0,\"ticks\":\"\"},\"colorscale\":[[0.0,\"#0d0887\"],[0.1111111111111111,\"#46039f\"],[0.2222222222222222,\"#7201a8\"],[0.3333333333333333,\"#9c179e\"],[0.4444444444444444,\"#bd3786\"],[0.5555555555555556,\"#d8576b\"],[0.6666666666666666,\"#ed7953\"],[0.7777777777777778,\"#fb9f3a\"],[0.8888888888888888,\"#fdca26\"],[1.0,\"#f0f921\"]]}],\"contourcarpet\":[{\"type\":\"contourcarpet\",\"colorbar\":{\"outlinewidth\":0,\"ticks\":\"\"}}],\"contour\":[{\"type\":\"contour\",\"colorbar\":{\"outlinewidth\":0,\"ticks\":\"\"},\"colorscale\":[[0.0,\"#0d0887\"],[0.1111111111111111,\"#46039f\"],[0.2222222222222222,\"#7201a8\"],[0.3333333333333333,\"#9c179e\"],[0.4444444444444444,\"#bd3786\"],[0.5555555555555556,\"#d8576b\"],[0.6666666666666666,\"#ed7953\"],[0.7777777777777778,\"#fb9f3a\"],[0.8888888888888888,\"#fdca26\"],[1.0,\"#f0f921\"]]}],\"surface\":[{\"type\":\"surface\",\"colorbar\":{\"outlinewidth\":0,\"ticks\":\"\"},\"colorscale\":[[0.0,\"#0d0887\"],[0.1111111111111111,\"#46039f\"],[0.2222222222222222,\"#7201a8\"],[0.3333333333333333,\"#9c179e\"],[0.4444444444444444,\"#bd3786\"],[0.5555555555555556,\"#d8576b\"],[0.6666666666666666,\"#ed7953\"],[0.7777777777777778,\"#fb9f3a\"],[0.8888888888888888,\"#fdca26\"],[1.0,\"#f0f921\"]]}],\"mesh3d\":[{\"type\":\"mesh3d\",\"colorbar\":{\"outlinewidth\":0,\"ticks\":\"\"}}],\"scatter\":[{\"fillpattern\":{\"fillmode\":\"overlay\",\"size\":10,\"solidity\":0.2},\"type\":\"scatter\"}],\"parcoords\":[{\"type\":\"parcoords\",\"line\":{\"colorbar\":{\"outlinewidth\":0,\"ticks\":\"\"}}}],\"scatterpolargl\":[{\"type\":\"scatterpolargl\",\"marker\":{\"colorbar\":{\"outlinewidth\":0,\"ticks\":\"\"}}}],\"bar\":[{\"error_x\":{\"color\":\"#2a3f5f\"},\"error_y\":{\"color\":\"#2a3f5f\"},\"marker\":{\"line\":{\"color\":\"#E5ECF6\",\"width\":0.5},\"pattern\":{\"fillmode\":\"overlay\",\"size\":10,\"solidity\":0.2}},\"type\":\"bar\"}],\"scattergeo\":[{\"type\":\"scattergeo\",\"marker\":{\"colorbar\":{\"outlinewidth\":0,\"ticks\":\"\"}}}],\"scatterpolar\":[{\"type\":\"scatterpolar\",\"marker\":{\"colorbar\":{\"outlinewidth\":0,\"ticks\":\"\"}}}],\"histogram\":[{\"marker\":{\"pattern\":{\"fillmode\":\"overlay\",\"size\":10,\"solidity\":0.2}},\"type\":\"histogram\"}],\"scattergl\":[{\"type\":\"scattergl\",\"marker\":{\"colorbar\":{\"outlinewidth\":0,\"ticks\":\"\"}}}],\"scatter3d\":[{\"type\":\"scatter3d\",\"line\":{\"colorbar\":{\"outlinewidth\":0,\"ticks\":\"\"}},\"marker\":{\"colorbar\":{\"outlinewidth\":0,\"ticks\":\"\"}}}],\"scattermapbox\":[{\"type\":\"scattermapbox\",\"marker\":{\"colorbar\":{\"outlinewidth\":0,\"ticks\":\"\"}}}],\"scatterternary\":[{\"type\":\"scatterternary\",\"marker\":{\"colorbar\":{\"outlinewidth\":0,\"ticks\":\"\"}}}],\"scattercarpet\":[{\"type\":\"scattercarpet\",\"marker\":{\"colorbar\":{\"outlinewidth\":0,\"ticks\":\"\"}}}],\"carpet\":[{\"aaxis\":{\"endlinecolor\":\"#2a3f5f\",\"gridcolor\":\"white\",\"linecolor\":\"white\",\"minorgridcolor\":\"white\",\"startlinecolor\":\"#2a3f5f\"},\"baxis\":{\"endlinecolor\":\"#2a3f5f\",\"gridcolor\":\"white\",\"linecolor\":\"white\",\"minorgridcolor\":\"white\",\"startlinecolor\":\"#2a3f5f\"},\"type\":\"carpet\"}],\"table\":[{\"cells\":{\"fill\":{\"color\":\"#EBF0F8\"},\"line\":{\"color\":\"white\"}},\"header\":{\"fill\":{\"color\":\"#C8D4E3\"},\"line\":{\"color\":\"white\"}},\"type\":\"table\"}],\"barpolar\":[{\"marker\":{\"line\":{\"color\":\"#E5ECF6\",\"width\":0.5},\"pattern\":{\"fillmode\":\"overlay\",\"size\":10,\"solidity\":0.2}},\"type\":\"barpolar\"}],\"pie\":[{\"automargin\":true,\"type\":\"pie\"}]},\"layout\":{\"autotypenumbers\":\"strict\",\"colorway\":[\"#636efa\",\"#EF553B\",\"#00cc96\",\"#ab63fa\",\"#FFA15A\",\"#19d3f3\",\"#FF6692\",\"#B6E880\",\"#FF97FF\",\"#FECB52\"],\"font\":{\"color\":\"#2a3f5f\"},\"hovermode\":\"closest\",\"hoverlabel\":{\"align\":\"left\"},\"paper_bgcolor\":\"white\",\"plot_bgcolor\":\"#E5ECF6\",\"polar\":{\"bgcolor\":\"#E5ECF6\",\"angularaxis\":{\"gridcolor\":\"white\",\"linecolor\":\"white\",\"ticks\":\"\"},\"radialaxis\":{\"gridcolor\":\"white\",\"linecolor\":\"white\",\"ticks\":\"\"}},\"ternary\":{\"bgcolor\":\"#E5ECF6\",\"aaxis\":{\"gridcolor\":\"white\",\"linecolor\":\"white\",\"ticks\":\"\"},\"baxis\":{\"gridcolor\":\"white\",\"linecolor\":\"white\",\"ticks\":\"\"},\"caxis\":{\"gridcolor\":\"white\",\"linecolor\":\"white\",\"ticks\":\"\"}},\"coloraxis\":{\"colorbar\":{\"outlinewidth\":0,\"ticks\":\"\"}},\"colorscale\":{\"sequential\":[[0.0,\"#0d0887\"],[0.1111111111111111,\"#46039f\"],[0.2222222222222222,\"#7201a8\"],[0.3333333333333333,\"#9c179e\"],[0.4444444444444444,\"#bd3786\"],[0.5555555555555556,\"#d8576b\"],[0.6666666666666666,\"#ed7953\"],[0.7777777777777778,\"#fb9f3a\"],[0.8888888888888888,\"#fdca26\"],[1.0,\"#f0f921\"]],\"sequentialminus\":[[0.0,\"#0d0887\"],[0.1111111111111111,\"#46039f\"],[0.2222222222222222,\"#7201a8\"],[0.3333333333333333,\"#9c179e\"],[0.4444444444444444,\"#bd3786\"],[0.5555555555555556,\"#d8576b\"],[0.6666666666666666,\"#ed7953\"],[0.7777777777777778,\"#fb9f3a\"],[0.8888888888888888,\"#fdca26\"],[1.0,\"#f0f921\"]],\"diverging\":[[0,\"#8e0152\"],[0.1,\"#c51b7d\"],[0.2,\"#de77ae\"],[0.3,\"#f1b6da\"],[0.4,\"#fde0ef\"],[0.5,\"#f7f7f7\"],[0.6,\"#e6f5d0\"],[0.7,\"#b8e186\"],[0.8,\"#7fbc41\"],[0.9,\"#4d9221\"],[1,\"#276419\"]]},\"xaxis\":{\"gridcolor\":\"white\",\"linecolor\":\"white\",\"ticks\":\"\",\"title\":{\"standoff\":15},\"zerolinecolor\":\"white\",\"automargin\":true,\"zerolinewidth\":2},\"yaxis\":{\"gridcolor\":\"white\",\"linecolor\":\"white\",\"ticks\":\"\",\"title\":{\"standoff\":15},\"zerolinecolor\":\"white\",\"automargin\":true,\"zerolinewidth\":2},\"scene\":{\"xaxis\":{\"backgroundcolor\":\"#E5ECF6\",\"gridcolor\":\"white\",\"linecolor\":\"white\",\"showbackground\":true,\"ticks\":\"\",\"zerolinecolor\":\"white\",\"gridwidth\":2},\"yaxis\":{\"backgroundcolor\":\"#E5ECF6\",\"gridcolor\":\"white\",\"linecolor\":\"white\",\"showbackground\":true,\"ticks\":\"\",\"zerolinecolor\":\"white\",\"gridwidth\":2},\"zaxis\":{\"backgroundcolor\":\"#E5ECF6\",\"gridcolor\":\"white\",\"linecolor\":\"white\",\"showbackground\":true,\"ticks\":\"\",\"zerolinecolor\":\"white\",\"gridwidth\":2}},\"shapedefaults\":{\"line\":{\"color\":\"#2a3f5f\"}},\"annotationdefaults\":{\"arrowcolor\":\"#2a3f5f\",\"arrowhead\":0,\"arrowwidth\":1},\"geo\":{\"bgcolor\":\"white\",\"landcolor\":\"#E5ECF6\",\"subunitcolor\":\"white\",\"showland\":true,\"showlakes\":true,\"lakecolor\":\"white\"},\"title\":{\"x\":0.05},\"mapbox\":{\"style\":\"light\"}}},\"coloraxis\":{\"colorbar\":{\"title\":{\"text\":\"ktonne CO\\u2082e\"}},\"colorscale\":[[0.0,\"rgb(247,251,255)\"],[0.125,\"rgb(222,235,247)\"],[0.25,\"rgb(198,219,239)\"],[0.375,\"rgb(158,202,225)\"],[0.5,\"rgb(107,174,214)\"],[0.625,\"rgb(66,146,198)\"],[0.75,\"rgb(33,113,181)\"],[0.875,\"rgb(8,81,156)\"],[1.0,\"rgb(8,48,107)\"]]},\"legend\":{\"tracegroupgap\":0},\"title\":{\"text\":\"Top 5 CO\\u2082 Emitting Sectors (Grouped) - Indonesia 2022\"},\"margin\":{\"t\":50,\"l\":25,\"r\":25,\"b\":25},\"width\":800,\"height\":800},                        {\"responsive\": true}                    ).then(function(){\n",
       "                            \n",
       "var gd = document.getElementById('6a16ee06-9058-491c-9482-ed2537202111');\n",
       "var x = new MutationObserver(function (mutations, observer) {{\n",
       "        var display = window.getComputedStyle(gd).display;\n",
       "        if (!display || display === 'none') {{\n",
       "            console.log([gd, 'removed!']);\n",
       "            Plotly.purge(gd);\n",
       "            observer.disconnect();\n",
       "        }}\n",
       "}});\n",
       "\n",
       "// Listen for the removal of the full notebook cells\n",
       "var notebookContainer = gd.closest('#notebook-container');\n",
       "if (notebookContainer) {{\n",
       "    x.observe(notebookContainer, {childList: true});\n",
       "}}\n",
       "\n",
       "// Listen for the clearing of the current output cell\n",
       "var outputEl = gd.closest('.output');\n",
       "if (outputEl) {{\n",
       "    x.observe(outputEl, {childList: true});\n",
       "}}\n",
       "\n",
       "                        })                };                });            </script>        </div>"
      ]
     },
     "metadata": {},
     "output_type": "display_data"
    }
   ],
   "source": [
    "# Step 1: Sort by CO2 emissions in 2022\n",
    "sorted_df_CO2_22 = aggregated_df_22.sort_values(by='C2022', ascending=False).reset_index(drop=True)\n",
    "\n",
    "# Step 2: Select top 6 initially (to ensure we have a buffer if \"Other Services Activities\" is within top 5)\n",
    "top_6_CO2_22 = sorted_df_CO2_22.iloc[:6].copy()\n",
    "\n",
    "# Step 3: Check if \"Other Services Activities\" is in the top 6\n",
    "mask_osa_22 = top_6_CO2_22['Sector'] == 'Other Services Activities'\n",
    "\n",
    "if mask_osa_22.any():\n",
    "    # Remove \"Other Services Activities\" from top 6\n",
    "    top_6_CO2_22 = top_6_CO2_22[~mask_osa_22]\n",
    "    # Now pick the top 5 after removal\n",
    "    top_5_CO2_22 = top_6_CO2_22.iloc[:5]\n",
    "else:\n",
    "    # If \"Other Services Activities\" not in top 6, just take top 5 normally\n",
    "    top_5_CO2_22 = top_6_CO2_22.iloc[:5]\n",
    "\n",
    "# Step 4: Sum the rest including \"Other Services Activities\" if it was removed\n",
    "excluded_sectors_22 = sorted_df_CO2_22[~sorted_df_CO2_22['Sector'].isin(top_5_CO2_22['Sector'])]\n",
    "others_sum_22 = excluded_sectors_22['C2022'].sum()\n",
    "\n",
    "# Step 5: Create a new row for \"Others\"\n",
    "others_row_22 = pd.DataFrame({\n",
    "    'Sector': ['Remaining Sectors'],\n",
    "    'C2022': [others_sum_22]\n",
    "})\n",
    "\n",
    "# Step 6: Combine top 5 with \"Others\"\n",
    "final_df_22 = pd.concat([top_5_CO2_22, others_row_22], ignore_index=True)\n",
    "\n",
    "# Step 1: Define manual percentages in correct order matching final_df_22\n",
    "manual_percentages_emission_22 = ['24%', '15%', '14%', '25%', '16%', '6%']  # Update if your order change\n",
    "# Step 2: Add the manual percentage column\n",
    "final_df_22['ManualPercent'] = manual_percentages_emission_22\n",
    "\n",
    "# Step 3: Plot treemap with custom data\n",
    "fig = px.treemap(\n",
    "    final_df_22,\n",
    "    path=['Sector'],\n",
    "    values='C2022',\n",
    "    title='Top 5 CO₂ Emitting Sectors (Grouped) - Indonesia 2022',\n",
    "    color='C2022',\n",
    "    color_continuous_scale='Blues'\n",
    ")\n",
    "\n",
    "# Step 4: Update trace to show: sector label, value (ktCO₂e), then percentage\n",
    "fig.update_traces(\n",
    "    texttemplate='%{label}<br>%{value:,.0f} ktCO₂e<br>%{customdata}',\n",
    "    customdata=final_df_22[['ManualPercent']],\n",
    "    textinfo='label+value+text'\n",
    ")\n",
    "\n",
    "# Step 5: Final layout settings\n",
    "fig.update_layout(\n",
    "    width=800,\n",
    "    height=800,\n",
    "    margin=dict(t=50, l=25, r=25, b=25),\n",
    "    coloraxis_colorbar=dict(title=\"ktonne CO₂e\")\n",
    ")\n",
    "\n",
    "fig.show()"
   ]
  },
  {
   "cell_type": "raw",
   "id": "36d8f002-654b-4f33-b9db-1fc96468fc5e",
   "metadata": {},
   "source": [
    "# Step 1: Sort combined_df_VA by 'Value Added'\n",
    "sorted_df_CO2_22 = aggregated_df_22.sort_values(by='C2022', ascending=False).reset_index(drop=True)\n",
    "\n",
    "# Step 2: Separate top 10 sectors\n",
    "top_10_CO2_22 = sorted_df_CO2_22.iloc[:10].copy()\n",
    "\n",
    "fig = px.treemap(top_10_CO2_22, \n",
    "                 path=['Sector'], \n",
    "                 values='C2022',\n",
    "                 title='Top 10 CO2 Emitter Sectors (Indonesia 2022)',\n",
    "                 color='C2022',\n",
    "                 color_continuous_scale='Blues')\n",
    "\n",
    "# Make it square and update colorbar label\n",
    "fig.update_layout(\n",
    "    width=800,\n",
    "    height=800,\n",
    "    margin=dict(t=50, l=25, r=25, b=25),\n",
    "    coloraxis_colorbar=dict(\n",
    "        title=\"ktonne CO₂e\"\n",
    "    )\n",
    ")\n",
    "\n",
    "fig.show()"
   ]
  },
  {
   "cell_type": "markdown",
   "id": "f9ba4ca3-2d6b-4253-807a-33c8a5850219",
   "metadata": {},
   "source": [
    "## Reduced Z, X, and A Matrix"
   ]
  },
  {
   "cell_type": "code",
   "execution_count": 37,
   "id": "e62a0c62-aacc-4b79-8ae6-056be1d74e2f",
   "metadata": {},
   "outputs": [
    {
     "name": "stdout",
     "output_type": "stream",
     "text": [
      "[[   0]\n",
      " [5000]\n",
      " [   0]\n",
      " [   0]\n",
      " [   0]\n",
      " [   0]\n",
      " [   0]\n",
      " [   0]\n",
      " [   0]\n",
      " [   0]\n",
      " [   0]\n",
      " [   0]\n",
      " [   0]\n",
      " [   0]\n",
      " [   0]\n",
      " [   0]\n",
      " [   0]]\n"
     ]
    }
   ],
   "source": [
    "## STUDY CASE:\n",
    "deltaf = pd.DataFrame(\n",
    "    [[5000 if sector[0] == \"Mining and Quarrying\" else 0 for sector in new_sectors]],\n",
    "    columns=[sector[0] for sector in new_sectors]\n",
    ")\n",
    "deltaf_array = deltaf.values.flatten()\n",
    "deltaf_array_T = deltaf_array.reshape(-1, 1)\n",
    "print(deltaf_array_T)"
   ]
  },
  {
   "cell_type": "code",
   "execution_count": 38,
   "id": "55696b3d-4b8f-453f-9a3f-b18b841e9351",
   "metadata": {},
   "outputs": [],
   "source": [
    "#Reduced Z Matrix from 163x163 to 17x17\n",
    "Z_matrix = np.array(Z2022_Indonesia)\n",
    "\n",
    "# Initialize the reduced 17x17 matrix\n",
    "Z2022_ID_reduced = np.zeros((17, 17))\n",
    "\n",
    "# Reduce the matrix\n",
    "for i, (_, row_indices) in enumerate(new_sectors):\n",
    "    for j, (_, col_indices) in enumerate(new_sectors):\n",
    "        # Get all values in Z_matrix[row_indices, col_indices] and sum\n",
    "        submatrix = Z_matrix[np.ix_(row_indices, col_indices)]\n",
    "        Z2022_ID_reduced[i, j] = submatrix.sum()\n",
    "\n",
    "#Check Z after reduced\n",
    "#Z2022_ID_reduced.sum()\n",
    "#print(Z2022_Indonesia.values.sum())"
   ]
  },
  {
   "cell_type": "code",
   "execution_count": 39,
   "id": "0129296a-f01d-4a18-9e00-1781cd1687bb",
   "metadata": {},
   "outputs": [],
   "source": [
    "X2022_ID_reduced = pd.DataFrame({\n",
    "    \"Sector\": [sector[0] for sector in new_sectors],\n",
    "    \"X2022\": [X2022_Indonesia_df.iloc[sector[1]].sum().values[0] if isinstance(sector[1], list) \n",
    "              else X2022_Indonesia_df.iloc[list(sector[1])].sum().values[0]\n",
    "              for sector in new_sectors]\n",
    "})\n",
    "\n",
    "X2022_series = X2022_ID_reduced[\"X2022\"]\n",
    "#Check\n",
    "#print(X2022_ID_reduced.sum())\n",
    "#print(X2022_Indonesia_df.sum())\n",
    "#print(X2022_series)"
   ]
  },
  {
   "cell_type": "code",
   "execution_count": 40,
   "id": "1d236375-8825-48bf-a585-908725e6b054",
   "metadata": {},
   "outputs": [],
   "source": [
    "x_diag_22_reduced = np.diag(X2022_series)\n",
    "x_diag_safe_22_reduced = np.where(x_diag_22_reduced == 0, 1e-10, x_diag_22_reduced)\n",
    "\n",
    "# Step 3: Compute the inverse of the diagonal matrix element-wise (reciprocal of each diagonal element)\n",
    "x_diag_inv_22_reduced = np.diag(1 / x_diag_safe_22_reduced.diagonal())\n",
    "# Step 2: Multiply Z by the inverse of the diagonal matrix\n",
    "A22_reduced = Z2022_ID_reduced @ x_diag_inv_22_reduced\n",
    "\n",
    "#A22_reduced.shape"
   ]
  },
  {
   "cell_type": "code",
   "execution_count": 41,
   "id": "295c408a-0862-41b9-8a67-1b4f28ddf366",
   "metadata": {},
   "outputs": [],
   "source": [
    "identity_matrix_reduced = np.eye(A22_reduced.shape[0])\n",
    "L22_reduced=identity_matrix_reduced-A22_reduced\n",
    "L22_inv_reduced = np.linalg.inv(L22_reduced)"
   ]
  },
  {
   "cell_type": "code",
   "execution_count": 42,
   "id": "1dde52a4-2ca4-45b8-90c3-780a4ccd1ead",
   "metadata": {},
   "outputs": [],
   "source": [
    "# Convert to NumPy arrays if not already\n",
    "# Load employment data from the Excel file\n",
    "file_path = r\"D:\\New folder\\Dissertation\\Socio_Economic_Accounts.xlsx\"\n",
    "employment_data = pd.read_excel(file_path, sheet_name=\"IDN\", usecols=\"H\", skiprows=0, nrows=17)\n",
    "\n",
    "# Convert to numpy array\n",
    "employment = employment_data.iloc[:, 0].to_numpy()\n",
    "\n",
    "# Assume 'value_added' is already defined and has 17 entries\n",
    "# Example:\n",
    "# value_added = np.array([...])  # Replace with actual values\n",
    "\n",
    "# Calculate employment intensity\n",
    "intensity_emp_22 = employment * x_diag_inv_22_reduced\n",
    "\n",
    "# Optional: reshape as 1x17 row vector\n",
    "intensity_emp_row_22 = np.diag(intensity_emp_22).reshape(-1, 1)"
   ]
  },
  {
   "cell_type": "code",
   "execution_count": 43,
   "id": "ecfdc13b-f65b-4857-b512-7ae07fe4d2b8",
   "metadata": {
    "scrolled": true
   },
   "outputs": [],
   "source": [
    "emp_L=intensity_emp_row_22*L22_inv_reduced\n",
    "delta_emp=emp_L@deltaf_array_T\n",
    "#print(delta_emp)"
   ]
  },
  {
   "cell_type": "code",
   "execution_count": 44,
   "id": "a946648f-1d13-4156-b785-17ab21a6777e",
   "metadata": {},
   "outputs": [],
   "source": [
    "direct_emp_22=intensity_emp_row_22*deltaf_array_T\n",
    "indirect_emp_22=delta_emp-direct_emp_22\n",
    "#print(direct_emp_22)\n",
    "#print(indirect_emp_22)"
   ]
  },
  {
   "cell_type": "code",
   "execution_count": 45,
   "id": "cf149cff-87f4-4977-918b-4dc599e571d6",
   "metadata": {},
   "outputs": [
    {
     "name": "stdout",
     "output_type": "stream",
     "text": [
      "4578.241670598077\n"
     ]
    }
   ],
   "source": [
    "# Value Added\n",
    "agg_22 = pd.DataFrame(aggregated_data_22)\n",
    "va22_col_vector = agg_22['VA22'].to_numpy().reshape(-1, 1)\n",
    "int_va_22= va22_col_vector * x_diag_inv_22_reduced\n",
    "int_va_row_22 = np.diag(int_va_22).reshape(-1, 1)\n",
    "va_L=int_va_row_22*L22_inv_reduced\n",
    "delta_va=va_L@deltaf_array_T\n",
    "#print(delta_va)\n",
    "direct_VA_22=int_va_row_22*deltaf_array_T\n",
    "indirect_VA_22=delta_va-direct_VA_22\n",
    "#print(direct_VA_22)\n",
    "#print(indirect_VA_22)\n",
    "print(delta_va.sum())"
   ]
  },
  {
   "cell_type": "code",
   "execution_count": 46,
   "id": "52a2a33d-99bb-4fb9-9bcf-ea88e5982e3f",
   "metadata": {},
   "outputs": [],
   "source": [
    "#CO2\n",
    "CO2_22_col_vector = agg_22['C2022'].to_numpy().reshape(-1, 1)\n",
    "int_CO2_22= CO2_22_col_vector * x_diag_inv_22_reduced\n",
    "int_CO2_row_22 = np.diag(int_CO2_22).reshape(-1, 1)\n",
    "CO2_L=int_CO2_row_22*L22_inv_reduced\n",
    "delta_CO2=CO2_L@deltaf_array_T\n",
    "#print(delta_CO2)\n",
    "direct_CO2_22=int_CO2_row_22*deltaf_array_T\n",
    "indirect_CO2_22=delta_CO2-direct_CO2_22\n",
    "#print(direct_CO2_22)\n",
    "#print(indirect_CO2_22)"
   ]
  },
  {
   "cell_type": "code",
   "execution_count": 47,
   "id": "789500e2-50f8-4ebd-8a74-85f410a1c5ea",
   "metadata": {},
   "outputs": [],
   "source": [
    "df22_output = pd.DataFrame({\n",
    "    'Direct VA': direct_VA_22.flatten(),\n",
    "    'Indirect VA': indirect_VA_22.flatten(),\n",
    "    'Total ΔVA': delta_va.flatten(),\n",
    "    'Direct CO2': direct_CO2_22.flatten(),\n",
    "    'Indirect CO2': indirect_CO2_22.flatten(),\n",
    "    'Total ΔCO2': delta_CO2.flatten(),\n",
    "    'Direct Emp': direct_emp_22.flatten(),\n",
    "    'Indirect Emp': indirect_emp_22.flatten(),\n",
    "    'Total ΔEmp': delta_emp.flatten()\n",
    "})\n",
    "# Export to Excel\n",
    "df22_output.to_excel('value_added_results.xlsx', index=False)"
   ]
  },
  {
   "cell_type": "code",
   "execution_count": null,
   "id": "03f2db48-9129-45d9-9159-4512bde95500",
   "metadata": {},
   "outputs": [],
   "source": []
  },
  {
   "cell_type": "code",
   "execution_count": null,
   "id": "2cccbe31-bb76-4116-a419-14d75de31930",
   "metadata": {},
   "outputs": [],
   "source": []
  },
  {
   "cell_type": "code",
   "execution_count": null,
   "id": "b374334a-9990-43ad-a365-8167c00e2c81",
   "metadata": {},
   "outputs": [],
   "source": []
  },
  {
   "cell_type": "code",
   "execution_count": null,
   "id": "06b59830-e408-442d-aad7-211689b9f3f5",
   "metadata": {},
   "outputs": [],
   "source": []
  },
  {
   "cell_type": "code",
   "execution_count": null,
   "id": "6d3a2a99-5eab-4d1d-abcf-a3e2e65205db",
   "metadata": {},
   "outputs": [],
   "source": []
  },
  {
   "cell_type": "code",
   "execution_count": null,
   "id": "60880a6c-aae0-411f-914c-c9945b8d60bd",
   "metadata": {},
   "outputs": [],
   "source": []
  }
 ],
 "metadata": {
  "kernelspec": {
   "display_name": "Python [conda env:base] *",
   "language": "python",
   "name": "conda-base-py"
  },
  "language_info": {
   "codemirror_mode": {
    "name": "ipython",
    "version": 3
   },
   "file_extension": ".py",
   "mimetype": "text/x-python",
   "name": "python",
   "nbconvert_exporter": "python",
   "pygments_lexer": "ipython3",
   "version": "3.12.7"
  }
 },
 "nbformat": 4,
 "nbformat_minor": 5
}
